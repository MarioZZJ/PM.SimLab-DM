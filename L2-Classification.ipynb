{
 "cells": [
  {
   "cell_type": "markdown",
   "id": "according-division",
   "metadata": {},
   "source": [
    "## Lab2 Classification\n",
    "\n",
    "1. 数据探索：理解每个属性的分布，或基本描述统计\n",
    "2. 数据清洗：未知值处理。提交构建好的新的训练集、测试集文件\n",
    "3. 模型选择\n",
    "* 至少选择3种分类算法进行模型对比\n",
    "* 使用K折交叉检验，K的数值可以自行设置\n",
    "* 使用多种评价指标\n",
    "* 保存分类结果\n",
    "* 模型优化：特征选择、参数调节\n",
    "4. 结果分析\n",
    "* 生成模型性能对比表格，绘制性能对比图\n",
    "* 分析性能优劣原因，案例分析"
   ]
  },
  {
   "cell_type": "code",
   "execution_count": 1,
   "id": "reliable-racing",
   "metadata": {},
   "outputs": [],
   "source": [
    "import numpy as np\n",
    "import pandas as pd\n",
    "import matplotlib.pyplot as plt\n",
    "import seaborn\n",
    "import warnings\n",
    "warnings.filterwarnings(\"ignore\")\n",
    "pd.options.display.latex.repr = True"
   ]
  },
  {
   "cell_type": "markdown",
   "id": "prompt-timeline",
   "metadata": {},
   "source": [
    "# 数据探索EDA\n",
    "\n",
    "阅读 `adult.names` 可以得到完整的对于数据集及任务的描述。\n",
    "\n",
    "数据集共含有14个属性，1个类别属性，48842条记录（随机按照2:1比例分割，分别存于 `adult.data` 和 `adult.test` 中），3620条记录含有缺失值，处理为\"?\"。\n",
    "\n",
    "类别揭示实例的收入，共2类（`>50k`,`<=50k`），比例大致为1:3.\n",
    "\n",
    "14个属性中，离散的属性为\n",
    "\n",
    "> 2.workclass;  4.education;  6.marital-status;  7.occupation;  8.relationship;  9.race;  10.sex;   14.native-country.\n",
    "\n",
    "连续的属性为\n",
    "\n",
    "> 1.age;  3.fnlwgt;  5.education-num;  11.capital-gain;  12.capital-loss;  13.hours-per-week;\n",
    "\n",
    "大多数的属性都是字面意思。`fnlwgt` 解释为一种权重值，某些人口统计学特征相近的记录有相近的`fnlwgt`，但是此规律仅在同一州内生效。"
   ]
  },
  {
   "cell_type": "markdown",
   "id": "younger-spanking",
   "metadata": {},
   "source": [
    "## 读取数据"
   ]
  },
  {
   "cell_type": "code",
   "execution_count": 2,
   "id": "guided-empty",
   "metadata": {},
   "outputs": [
    {
     "data": {
      "text/html": [
       "<div>\n",
       "<style scoped>\n",
       "    .dataframe tbody tr th:only-of-type {\n",
       "        vertical-align: middle;\n",
       "    }\n",
       "\n",
       "    .dataframe tbody tr th {\n",
       "        vertical-align: top;\n",
       "    }\n",
       "\n",
       "    .dataframe thead th {\n",
       "        text-align: right;\n",
       "    }\n",
       "</style>\n",
       "<table border=\"1\" class=\"dataframe\">\n",
       "  <thead>\n",
       "    <tr style=\"text-align: right;\">\n",
       "      <th></th>\n",
       "      <th>age</th>\n",
       "      <th>workClass</th>\n",
       "      <th>fnlwgt</th>\n",
       "      <th>education</th>\n",
       "      <th>educationNum</th>\n",
       "      <th>martialStatus</th>\n",
       "    </tr>\n",
       "  </thead>\n",
       "  <tbody>\n",
       "    <tr>\n",
       "      <th>16278</th>\n",
       "      <td>38</td>\n",
       "      <td>Private</td>\n",
       "      <td>374983</td>\n",
       "      <td>Bachelors</td>\n",
       "      <td>13</td>\n",
       "      <td>Married-civ-spouse</td>\n",
       "    </tr>\n",
       "    <tr>\n",
       "      <th>16279</th>\n",
       "      <td>44</td>\n",
       "      <td>Private</td>\n",
       "      <td>83891</td>\n",
       "      <td>Bachelors</td>\n",
       "      <td>13</td>\n",
       "      <td>Divorced</td>\n",
       "    </tr>\n",
       "    <tr>\n",
       "      <th>16280</th>\n",
       "      <td>35</td>\n",
       "      <td>Self-emp-inc</td>\n",
       "      <td>182148</td>\n",
       "      <td>Bachelors</td>\n",
       "      <td>13</td>\n",
       "      <td>Married-civ-spouse</td>\n",
       "    </tr>\n",
       "  </tbody>\n",
       "</table>\n",
       "</div>"
      ],
      "text/latex": [
       "\\begin{tabular}{lrlrlrl}\n",
       "\\toprule\n",
       "{} &  age &      workClass &  fnlwgt &   education &  educationNum &        martialStatus \\\\\n",
       "\\midrule\n",
       "16278 &   38 &        Private &  374983 &   Bachelors &            13 &   Married-civ-spouse \\\\\n",
       "16279 &   44 &        Private &   83891 &   Bachelors &            13 &             Divorced \\\\\n",
       "16280 &   35 &   Self-emp-inc &  182148 &   Bachelors &            13 &   Married-civ-spouse \\\\\n",
       "\\bottomrule\n",
       "\\end{tabular}\n"
      ],
      "text/plain": [
       "       age      workClass  fnlwgt   education  educationNum  \\\n",
       "16278   38        Private  374983   Bachelors            13   \n",
       "16279   44        Private   83891   Bachelors            13   \n",
       "16280   35   Self-emp-inc  182148   Bachelors            13   \n",
       "\n",
       "             martialStatus  \n",
       "16278   Married-civ-spouse  \n",
       "16279             Divorced  \n",
       "16280   Married-civ-spouse  "
      ]
     },
     "metadata": {},
     "output_type": "display_data"
    },
    {
     "data": {
      "text/html": [
       "<div>\n",
       "<style scoped>\n",
       "    .dataframe tbody tr th:only-of-type {\n",
       "        vertical-align: middle;\n",
       "    }\n",
       "\n",
       "    .dataframe tbody tr th {\n",
       "        vertical-align: top;\n",
       "    }\n",
       "\n",
       "    .dataframe thead th {\n",
       "        text-align: right;\n",
       "    }\n",
       "</style>\n",
       "<table border=\"1\" class=\"dataframe\">\n",
       "  <thead>\n",
       "    <tr style=\"text-align: right;\">\n",
       "      <th></th>\n",
       "      <th>occupation</th>\n",
       "      <th>relationship</th>\n",
       "      <th>race</th>\n",
       "      <th>sex</th>\n",
       "    </tr>\n",
       "  </thead>\n",
       "  <tbody>\n",
       "    <tr>\n",
       "      <th>16278</th>\n",
       "      <td>Prof-specialty</td>\n",
       "      <td>Husband</td>\n",
       "      <td>White</td>\n",
       "      <td>Male</td>\n",
       "    </tr>\n",
       "    <tr>\n",
       "      <th>16279</th>\n",
       "      <td>Adm-clerical</td>\n",
       "      <td>Own-child</td>\n",
       "      <td>Asian-Pac-Islander</td>\n",
       "      <td>Male</td>\n",
       "    </tr>\n",
       "    <tr>\n",
       "      <th>16280</th>\n",
       "      <td>Exec-managerial</td>\n",
       "      <td>Husband</td>\n",
       "      <td>White</td>\n",
       "      <td>Male</td>\n",
       "    </tr>\n",
       "  </tbody>\n",
       "</table>\n",
       "</div>"
      ],
      "text/latex": [
       "\\begin{tabular}{lllll}\n",
       "\\toprule\n",
       "{} &        occupation & relationship &                 race &    sex \\\\\n",
       "\\midrule\n",
       "16278 &    Prof-specialty &      Husband &                White &   Male \\\\\n",
       "16279 &      Adm-clerical &    Own-child &   Asian-Pac-Islander &   Male \\\\\n",
       "16280 &   Exec-managerial &      Husband &                White &   Male \\\\\n",
       "\\bottomrule\n",
       "\\end{tabular}\n"
      ],
      "text/plain": [
       "             occupation relationship                 race    sex\n",
       "16278    Prof-specialty      Husband                White   Male\n",
       "16279      Adm-clerical    Own-child   Asian-Pac-Islander   Male\n",
       "16280   Exec-managerial      Husband                White   Male"
      ]
     },
     "metadata": {},
     "output_type": "display_data"
    },
    {
     "data": {
      "text/html": [
       "<div>\n",
       "<style scoped>\n",
       "    .dataframe tbody tr th:only-of-type {\n",
       "        vertical-align: middle;\n",
       "    }\n",
       "\n",
       "    .dataframe tbody tr th {\n",
       "        vertical-align: top;\n",
       "    }\n",
       "\n",
       "    .dataframe thead th {\n",
       "        text-align: right;\n",
       "    }\n",
       "</style>\n",
       "<table border=\"1\" class=\"dataframe\">\n",
       "  <thead>\n",
       "    <tr style=\"text-align: right;\">\n",
       "      <th></th>\n",
       "      <th>capitalGain</th>\n",
       "      <th>capitalLoss</th>\n",
       "      <th>hoursPerWeek</th>\n",
       "      <th>nativeCountry</th>\n",
       "      <th>income</th>\n",
       "    </tr>\n",
       "  </thead>\n",
       "  <tbody>\n",
       "    <tr>\n",
       "      <th>16278</th>\n",
       "      <td>0</td>\n",
       "      <td>0</td>\n",
       "      <td>50</td>\n",
       "      <td>United-States</td>\n",
       "      <td>&lt;=50K.</td>\n",
       "    </tr>\n",
       "    <tr>\n",
       "      <th>16279</th>\n",
       "      <td>5455</td>\n",
       "      <td>0</td>\n",
       "      <td>40</td>\n",
       "      <td>United-States</td>\n",
       "      <td>&lt;=50K.</td>\n",
       "    </tr>\n",
       "    <tr>\n",
       "      <th>16280</th>\n",
       "      <td>0</td>\n",
       "      <td>0</td>\n",
       "      <td>60</td>\n",
       "      <td>United-States</td>\n",
       "      <td>&gt;50K.</td>\n",
       "    </tr>\n",
       "  </tbody>\n",
       "</table>\n",
       "</div>"
      ],
      "text/latex": [
       "\\begin{tabular}{lrrrll}\n",
       "\\toprule\n",
       "{} &  capitalGain &  capitalLoss &  hoursPerWeek &   nativeCountry &   income \\\\\n",
       "\\midrule\n",
       "16278 &            0 &            0 &            50 &   United-States &   <=50K. \\\\\n",
       "16279 &         5455 &            0 &            40 &   United-States &   <=50K. \\\\\n",
       "16280 &            0 &            0 &            60 &   United-States &    >50K. \\\\\n",
       "\\bottomrule\n",
       "\\end{tabular}\n"
      ],
      "text/plain": [
       "       capitalGain  capitalLoss  hoursPerWeek   nativeCountry   income\n",
       "16278            0            0            50   United-States   <=50K.\n",
       "16279         5455            0            40   United-States   <=50K.\n",
       "16280            0            0            60   United-States    >50K."
      ]
     },
     "metadata": {},
     "output_type": "display_data"
    }
   ],
   "source": [
    "columns = ['age','workClass','fnlwgt','education','educationNum','martialStatus','occupation','relationship','race','sex','capitalGain','capitalLoss','hoursPerWeek','nativeCountry','income']\n",
    "train = pd.read_csv('./data/adult.data',header=None,names=columns) # 源数据没有字段行\n",
    "test = pd.read_csv('./data/adult.test',header=None,names=columns,skiprows=1) # 源数据第一行不是记录\n",
    "data = pd.concat([train,test])\n",
    "display(data.tail(3).iloc[:,:6],\n",
    "        data.tail(3).iloc[:,6:10],\n",
    "        data.tail(3).iloc[:,10:])"
   ]
  },
  {
   "cell_type": "markdown",
   "id": "spoken-patrick",
   "metadata": {},
   "source": [
    "## 描述性统计"
   ]
  },
  {
   "cell_type": "code",
   "execution_count": 3,
   "id": "black-holocaust",
   "metadata": {},
   "outputs": [
    {
     "data": {
      "text/html": [
       "<div>\n",
       "<style scoped>\n",
       "    .dataframe tbody tr th:only-of-type {\n",
       "        vertical-align: middle;\n",
       "    }\n",
       "\n",
       "    .dataframe tbody tr th {\n",
       "        vertical-align: top;\n",
       "    }\n",
       "\n",
       "    .dataframe thead th {\n",
       "        text-align: right;\n",
       "    }\n",
       "</style>\n",
       "<table border=\"1\" class=\"dataframe\">\n",
       "  <thead>\n",
       "    <tr style=\"text-align: right;\">\n",
       "      <th></th>\n",
       "      <th>workClass</th>\n",
       "      <th>education</th>\n",
       "      <th>martialStatus</th>\n",
       "      <th>occupation</th>\n",
       "    </tr>\n",
       "  </thead>\n",
       "  <tbody>\n",
       "    <tr>\n",
       "      <th>count</th>\n",
       "      <td>32561</td>\n",
       "      <td>32561</td>\n",
       "      <td>32561</td>\n",
       "      <td>32561</td>\n",
       "    </tr>\n",
       "    <tr>\n",
       "      <th>unique</th>\n",
       "      <td>9</td>\n",
       "      <td>16</td>\n",
       "      <td>7</td>\n",
       "      <td>15</td>\n",
       "    </tr>\n",
       "    <tr>\n",
       "      <th>top</th>\n",
       "      <td>Private</td>\n",
       "      <td>HS-grad</td>\n",
       "      <td>Married-civ-spouse</td>\n",
       "      <td>Prof-specialty</td>\n",
       "    </tr>\n",
       "    <tr>\n",
       "      <th>freq</th>\n",
       "      <td>22696</td>\n",
       "      <td>10501</td>\n",
       "      <td>14976</td>\n",
       "      <td>4140</td>\n",
       "    </tr>\n",
       "  </tbody>\n",
       "</table>\n",
       "</div>"
      ],
      "text/latex": [
       "\\begin{tabular}{lllll}\n",
       "\\toprule\n",
       "{} & workClass & education &        martialStatus &       occupation \\\\\n",
       "\\midrule\n",
       "count  &     32561 &     32561 &                32561 &            32561 \\\\\n",
       "unique &         9 &        16 &                    7 &               15 \\\\\n",
       "top    &   Private &   HS-grad &   Married-civ-spouse &   Prof-specialty \\\\\n",
       "freq   &     22696 &     10501 &                14976 &             4140 \\\\\n",
       "\\bottomrule\n",
       "\\end{tabular}\n"
      ],
      "text/plain": [
       "       workClass education        martialStatus       occupation\n",
       "count      32561     32561                32561            32561\n",
       "unique         9        16                    7               15\n",
       "top      Private   HS-grad   Married-civ-spouse   Prof-specialty\n",
       "freq       22696     10501                14976             4140"
      ]
     },
     "metadata": {},
     "output_type": "display_data"
    },
    {
     "data": {
      "text/html": [
       "<div>\n",
       "<style scoped>\n",
       "    .dataframe tbody tr th:only-of-type {\n",
       "        vertical-align: middle;\n",
       "    }\n",
       "\n",
       "    .dataframe tbody tr th {\n",
       "        vertical-align: top;\n",
       "    }\n",
       "\n",
       "    .dataframe thead th {\n",
       "        text-align: right;\n",
       "    }\n",
       "</style>\n",
       "<table border=\"1\" class=\"dataframe\">\n",
       "  <thead>\n",
       "    <tr style=\"text-align: right;\">\n",
       "      <th></th>\n",
       "      <th>relationship</th>\n",
       "      <th>race</th>\n",
       "      <th>sex</th>\n",
       "      <th>nativeCountry</th>\n",
       "      <th>income</th>\n",
       "    </tr>\n",
       "  </thead>\n",
       "  <tbody>\n",
       "    <tr>\n",
       "      <th>count</th>\n",
       "      <td>32561</td>\n",
       "      <td>32561</td>\n",
       "      <td>32561</td>\n",
       "      <td>32561</td>\n",
       "      <td>32561</td>\n",
       "    </tr>\n",
       "    <tr>\n",
       "      <th>unique</th>\n",
       "      <td>6</td>\n",
       "      <td>5</td>\n",
       "      <td>2</td>\n",
       "      <td>42</td>\n",
       "      <td>2</td>\n",
       "    </tr>\n",
       "    <tr>\n",
       "      <th>top</th>\n",
       "      <td>Husband</td>\n",
       "      <td>White</td>\n",
       "      <td>Male</td>\n",
       "      <td>United-States</td>\n",
       "      <td>&lt;=50K</td>\n",
       "    </tr>\n",
       "    <tr>\n",
       "      <th>freq</th>\n",
       "      <td>13193</td>\n",
       "      <td>27816</td>\n",
       "      <td>21790</td>\n",
       "      <td>29170</td>\n",
       "      <td>24720</td>\n",
       "    </tr>\n",
       "  </tbody>\n",
       "</table>\n",
       "</div>"
      ],
      "text/latex": [
       "\\begin{tabular}{llllll}\n",
       "\\toprule\n",
       "{} & relationship &    race &    sex &   nativeCountry &  income \\\\\n",
       "\\midrule\n",
       "count  &        32561 &   32561 &  32561 &           32561 &   32561 \\\\\n",
       "unique &            6 &       5 &      2 &              42 &       2 \\\\\n",
       "top    &      Husband &   White &   Male &   United-States &   <=50K \\\\\n",
       "freq   &        13193 &   27816 &  21790 &           29170 &   24720 \\\\\n",
       "\\bottomrule\n",
       "\\end{tabular}\n"
      ],
      "text/plain": [
       "       relationship    race    sex   nativeCountry  income\n",
       "count         32561   32561  32561           32561   32561\n",
       "unique            6       5      2              42       2\n",
       "top         Husband   White   Male   United-States   <=50K\n",
       "freq          13193   27816  21790           29170   24720"
      ]
     },
     "metadata": {},
     "output_type": "display_data"
    },
    {
     "data": {
      "text/html": [
       "<div>\n",
       "<style scoped>\n",
       "    .dataframe tbody tr th:only-of-type {\n",
       "        vertical-align: middle;\n",
       "    }\n",
       "\n",
       "    .dataframe tbody tr th {\n",
       "        vertical-align: top;\n",
       "    }\n",
       "\n",
       "    .dataframe thead th {\n",
       "        text-align: right;\n",
       "    }\n",
       "</style>\n",
       "<table border=\"1\" class=\"dataframe\">\n",
       "  <thead>\n",
       "    <tr style=\"text-align: right;\">\n",
       "      <th></th>\n",
       "      <th>workClass</th>\n",
       "      <th>education</th>\n",
       "      <th>martialStatus</th>\n",
       "      <th>occupation</th>\n",
       "    </tr>\n",
       "  </thead>\n",
       "  <tbody>\n",
       "    <tr>\n",
       "      <th>count</th>\n",
       "      <td>16281</td>\n",
       "      <td>16281</td>\n",
       "      <td>16281</td>\n",
       "      <td>16281</td>\n",
       "    </tr>\n",
       "    <tr>\n",
       "      <th>unique</th>\n",
       "      <td>9</td>\n",
       "      <td>16</td>\n",
       "      <td>7</td>\n",
       "      <td>15</td>\n",
       "    </tr>\n",
       "    <tr>\n",
       "      <th>top</th>\n",
       "      <td>Private</td>\n",
       "      <td>HS-grad</td>\n",
       "      <td>Married-civ-spouse</td>\n",
       "      <td>Prof-specialty</td>\n",
       "    </tr>\n",
       "    <tr>\n",
       "      <th>freq</th>\n",
       "      <td>11210</td>\n",
       "      <td>5283</td>\n",
       "      <td>7403</td>\n",
       "      <td>2032</td>\n",
       "    </tr>\n",
       "  </tbody>\n",
       "</table>\n",
       "</div>"
      ],
      "text/latex": [
       "\\begin{tabular}{lllll}\n",
       "\\toprule\n",
       "{} & workClass & education &        martialStatus &       occupation \\\\\n",
       "\\midrule\n",
       "count  &     16281 &     16281 &                16281 &            16281 \\\\\n",
       "unique &         9 &        16 &                    7 &               15 \\\\\n",
       "top    &   Private &   HS-grad &   Married-civ-spouse &   Prof-specialty \\\\\n",
       "freq   &     11210 &      5283 &                 7403 &             2032 \\\\\n",
       "\\bottomrule\n",
       "\\end{tabular}\n"
      ],
      "text/plain": [
       "       workClass education        martialStatus       occupation\n",
       "count      16281     16281                16281            16281\n",
       "unique         9        16                    7               15\n",
       "top      Private   HS-grad   Married-civ-spouse   Prof-specialty\n",
       "freq       11210      5283                 7403             2032"
      ]
     },
     "metadata": {},
     "output_type": "display_data"
    },
    {
     "data": {
      "text/html": [
       "<div>\n",
       "<style scoped>\n",
       "    .dataframe tbody tr th:only-of-type {\n",
       "        vertical-align: middle;\n",
       "    }\n",
       "\n",
       "    .dataframe tbody tr th {\n",
       "        vertical-align: top;\n",
       "    }\n",
       "\n",
       "    .dataframe thead th {\n",
       "        text-align: right;\n",
       "    }\n",
       "</style>\n",
       "<table border=\"1\" class=\"dataframe\">\n",
       "  <thead>\n",
       "    <tr style=\"text-align: right;\">\n",
       "      <th></th>\n",
       "      <th>relationship</th>\n",
       "      <th>race</th>\n",
       "      <th>sex</th>\n",
       "      <th>nativeCountry</th>\n",
       "      <th>income</th>\n",
       "    </tr>\n",
       "  </thead>\n",
       "  <tbody>\n",
       "    <tr>\n",
       "      <th>count</th>\n",
       "      <td>16281</td>\n",
       "      <td>16281</td>\n",
       "      <td>16281</td>\n",
       "      <td>16281</td>\n",
       "      <td>16281</td>\n",
       "    </tr>\n",
       "    <tr>\n",
       "      <th>unique</th>\n",
       "      <td>6</td>\n",
       "      <td>5</td>\n",
       "      <td>2</td>\n",
       "      <td>41</td>\n",
       "      <td>2</td>\n",
       "    </tr>\n",
       "    <tr>\n",
       "      <th>top</th>\n",
       "      <td>Husband</td>\n",
       "      <td>White</td>\n",
       "      <td>Male</td>\n",
       "      <td>United-States</td>\n",
       "      <td>&lt;=50K.</td>\n",
       "    </tr>\n",
       "    <tr>\n",
       "      <th>freq</th>\n",
       "      <td>6523</td>\n",
       "      <td>13946</td>\n",
       "      <td>10860</td>\n",
       "      <td>14662</td>\n",
       "      <td>12435</td>\n",
       "    </tr>\n",
       "  </tbody>\n",
       "</table>\n",
       "</div>"
      ],
      "text/latex": [
       "\\begin{tabular}{llllll}\n",
       "\\toprule\n",
       "{} & relationship &    race &    sex &   nativeCountry &   income \\\\\n",
       "\\midrule\n",
       "count  &        16281 &   16281 &  16281 &           16281 &    16281 \\\\\n",
       "unique &            6 &       5 &      2 &              41 &        2 \\\\\n",
       "top    &      Husband &   White &   Male &   United-States &   <=50K. \\\\\n",
       "freq   &         6523 &   13946 &  10860 &           14662 &    12435 \\\\\n",
       "\\bottomrule\n",
       "\\end{tabular}\n"
      ],
      "text/plain": [
       "       relationship    race    sex   nativeCountry   income\n",
       "count         16281   16281  16281           16281    16281\n",
       "unique            6       5      2              41        2\n",
       "top         Husband   White   Male   United-States   <=50K.\n",
       "freq           6523   13946  10860           14662    12435"
      ]
     },
     "metadata": {},
     "output_type": "display_data"
    }
   ],
   "source": [
    "display(train.iloc[:,[1,3,5,6,7,8,9,13,14]].describe().iloc[:,:4],\n",
    "        train.iloc[:,[1,3,5,6,7,8,9,13,14]].describe().iloc[:,4:],\n",
    "        test.iloc[:,[1,3,5,6,7,8,9,13,14]].describe().iloc[:,0:4],\n",
    "        test.iloc[:,[1,3,5,6,7,8,9,13,14]].describe().iloc[:,4:])"
   ]
  },
  {
   "cell_type": "markdown",
   "id": "british-penny",
   "metadata": {},
   "source": [
    "**注意：离散属性的unique值包含了\"?\"，缺失值**\n",
    "\n",
    "**要点1：test数据集中，两种标签分别比train多了句号**\n",
    "\n",
    "> 下一步处理方案： $>50K. \\rightarrow >50K; \\ <=50K. \\rightarrow <=50K$ "
   ]
  },
  {
   "cell_type": "code",
   "execution_count": 4,
   "id": "physical-terrain",
   "metadata": {},
   "outputs": [
    {
     "data": {
      "text/html": [
       "<div>\n",
       "<style scoped>\n",
       "    .dataframe tbody tr th:only-of-type {\n",
       "        vertical-align: middle;\n",
       "    }\n",
       "\n",
       "    .dataframe tbody tr th {\n",
       "        vertical-align: top;\n",
       "    }\n",
       "\n",
       "    .dataframe thead th {\n",
       "        text-align: right;\n",
       "    }\n",
       "</style>\n",
       "<table border=\"1\" class=\"dataframe\">\n",
       "  <thead>\n",
       "    <tr style=\"text-align: right;\">\n",
       "      <th></th>\n",
       "      <th>age</th>\n",
       "      <th>fnlwgt</th>\n",
       "      <th>educationNum</th>\n",
       "      <th>capitalGain</th>\n",
       "      <th>capitalLoss</th>\n",
       "      <th>hoursPerWeek</th>\n",
       "    </tr>\n",
       "  </thead>\n",
       "  <tbody>\n",
       "    <tr>\n",
       "      <th>count</th>\n",
       "      <td>32561.00</td>\n",
       "      <td>32561.00</td>\n",
       "      <td>32561.00</td>\n",
       "      <td>32561.00</td>\n",
       "      <td>32561.00</td>\n",
       "      <td>32561.00</td>\n",
       "    </tr>\n",
       "    <tr>\n",
       "      <th>mean</th>\n",
       "      <td>38.58</td>\n",
       "      <td>189778.37</td>\n",
       "      <td>10.08</td>\n",
       "      <td>1077.65</td>\n",
       "      <td>87.30</td>\n",
       "      <td>40.44</td>\n",
       "    </tr>\n",
       "    <tr>\n",
       "      <th>std</th>\n",
       "      <td>13.64</td>\n",
       "      <td>105549.98</td>\n",
       "      <td>2.57</td>\n",
       "      <td>7385.29</td>\n",
       "      <td>402.96</td>\n",
       "      <td>12.35</td>\n",
       "    </tr>\n",
       "    <tr>\n",
       "      <th>min</th>\n",
       "      <td>17.00</td>\n",
       "      <td>12285.00</td>\n",
       "      <td>1.00</td>\n",
       "      <td>0.00</td>\n",
       "      <td>0.00</td>\n",
       "      <td>1.00</td>\n",
       "    </tr>\n",
       "    <tr>\n",
       "      <th>25%</th>\n",
       "      <td>28.00</td>\n",
       "      <td>117827.00</td>\n",
       "      <td>9.00</td>\n",
       "      <td>0.00</td>\n",
       "      <td>0.00</td>\n",
       "      <td>40.00</td>\n",
       "    </tr>\n",
       "    <tr>\n",
       "      <th>50%</th>\n",
       "      <td>37.00</td>\n",
       "      <td>178356.00</td>\n",
       "      <td>10.00</td>\n",
       "      <td>0.00</td>\n",
       "      <td>0.00</td>\n",
       "      <td>40.00</td>\n",
       "    </tr>\n",
       "    <tr>\n",
       "      <th>75%</th>\n",
       "      <td>48.00</td>\n",
       "      <td>237051.00</td>\n",
       "      <td>12.00</td>\n",
       "      <td>0.00</td>\n",
       "      <td>0.00</td>\n",
       "      <td>45.00</td>\n",
       "    </tr>\n",
       "    <tr>\n",
       "      <th>max</th>\n",
       "      <td>90.00</td>\n",
       "      <td>1484705.00</td>\n",
       "      <td>16.00</td>\n",
       "      <td>99999.00</td>\n",
       "      <td>4356.00</td>\n",
       "      <td>99.00</td>\n",
       "    </tr>\n",
       "  </tbody>\n",
       "</table>\n",
       "</div>"
      ],
      "text/latex": [
       "\\begin{tabular}{lrrrrrr}\n",
       "\\toprule\n",
       "{} &       age &      fnlwgt &  educationNum &  capitalGain &  capitalLoss &  hoursPerWeek \\\\\n",
       "\\midrule\n",
       "count &  32561.00 &    32561.00 &      32561.00 &     32561.00 &     32561.00 &      32561.00 \\\\\n",
       "mean  &     38.58 &   189778.37 &         10.08 &      1077.65 &        87.30 &         40.44 \\\\\n",
       "std   &     13.64 &   105549.98 &          2.57 &      7385.29 &       402.96 &         12.35 \\\\\n",
       "min   &     17.00 &    12285.00 &          1.00 &         0.00 &         0.00 &          1.00 \\\\\n",
       "25\\%   &     28.00 &   117827.00 &          9.00 &         0.00 &         0.00 &         40.00 \\\\\n",
       "50\\%   &     37.00 &   178356.00 &         10.00 &         0.00 &         0.00 &         40.00 \\\\\n",
       "75\\%   &     48.00 &   237051.00 &         12.00 &         0.00 &         0.00 &         45.00 \\\\\n",
       "max   &     90.00 &  1484705.00 &         16.00 &     99999.00 &      4356.00 &         99.00 \\\\\n",
       "\\bottomrule\n",
       "\\end{tabular}\n"
      ],
      "text/plain": [
       "            age      fnlwgt  educationNum  capitalGain  capitalLoss  \\\n",
       "count  32561.00    32561.00      32561.00     32561.00     32561.00   \n",
       "mean      38.58   189778.37         10.08      1077.65        87.30   \n",
       "std       13.64   105549.98          2.57      7385.29       402.96   \n",
       "min       17.00    12285.00          1.00         0.00         0.00   \n",
       "25%       28.00   117827.00          9.00         0.00         0.00   \n",
       "50%       37.00   178356.00         10.00         0.00         0.00   \n",
       "75%       48.00   237051.00         12.00         0.00         0.00   \n",
       "max       90.00  1484705.00         16.00     99999.00      4356.00   \n",
       "\n",
       "       hoursPerWeek  \n",
       "count      32561.00  \n",
       "mean          40.44  \n",
       "std           12.35  \n",
       "min            1.00  \n",
       "25%           40.00  \n",
       "50%           40.00  \n",
       "75%           45.00  \n",
       "max           99.00  "
      ]
     },
     "metadata": {},
     "output_type": "display_data"
    },
    {
     "data": {
      "text/html": [
       "<div>\n",
       "<style scoped>\n",
       "    .dataframe tbody tr th:only-of-type {\n",
       "        vertical-align: middle;\n",
       "    }\n",
       "\n",
       "    .dataframe tbody tr th {\n",
       "        vertical-align: top;\n",
       "    }\n",
       "\n",
       "    .dataframe thead th {\n",
       "        text-align: right;\n",
       "    }\n",
       "</style>\n",
       "<table border=\"1\" class=\"dataframe\">\n",
       "  <thead>\n",
       "    <tr style=\"text-align: right;\">\n",
       "      <th></th>\n",
       "      <th>age</th>\n",
       "      <th>fnlwgt</th>\n",
       "      <th>educationNum</th>\n",
       "      <th>capitalGain</th>\n",
       "      <th>capitalLoss</th>\n",
       "      <th>hoursPerWeek</th>\n",
       "    </tr>\n",
       "  </thead>\n",
       "  <tbody>\n",
       "    <tr>\n",
       "      <th>count</th>\n",
       "      <td>16281.00</td>\n",
       "      <td>16281.00</td>\n",
       "      <td>16281.00</td>\n",
       "      <td>16281.00</td>\n",
       "      <td>16281.00</td>\n",
       "      <td>16281.00</td>\n",
       "    </tr>\n",
       "    <tr>\n",
       "      <th>mean</th>\n",
       "      <td>38.77</td>\n",
       "      <td>189435.68</td>\n",
       "      <td>10.07</td>\n",
       "      <td>1081.91</td>\n",
       "      <td>87.90</td>\n",
       "      <td>40.39</td>\n",
       "    </tr>\n",
       "    <tr>\n",
       "      <th>std</th>\n",
       "      <td>13.85</td>\n",
       "      <td>105714.91</td>\n",
       "      <td>2.57</td>\n",
       "      <td>7583.94</td>\n",
       "      <td>403.11</td>\n",
       "      <td>12.48</td>\n",
       "    </tr>\n",
       "    <tr>\n",
       "      <th>min</th>\n",
       "      <td>17.00</td>\n",
       "      <td>13492.00</td>\n",
       "      <td>1.00</td>\n",
       "      <td>0.00</td>\n",
       "      <td>0.00</td>\n",
       "      <td>1.00</td>\n",
       "    </tr>\n",
       "    <tr>\n",
       "      <th>25%</th>\n",
       "      <td>28.00</td>\n",
       "      <td>116736.00</td>\n",
       "      <td>9.00</td>\n",
       "      <td>0.00</td>\n",
       "      <td>0.00</td>\n",
       "      <td>40.00</td>\n",
       "    </tr>\n",
       "    <tr>\n",
       "      <th>50%</th>\n",
       "      <td>37.00</td>\n",
       "      <td>177831.00</td>\n",
       "      <td>10.00</td>\n",
       "      <td>0.00</td>\n",
       "      <td>0.00</td>\n",
       "      <td>40.00</td>\n",
       "    </tr>\n",
       "    <tr>\n",
       "      <th>75%</th>\n",
       "      <td>48.00</td>\n",
       "      <td>238384.00</td>\n",
       "      <td>12.00</td>\n",
       "      <td>0.00</td>\n",
       "      <td>0.00</td>\n",
       "      <td>45.00</td>\n",
       "    </tr>\n",
       "    <tr>\n",
       "      <th>max</th>\n",
       "      <td>90.00</td>\n",
       "      <td>1490400.00</td>\n",
       "      <td>16.00</td>\n",
       "      <td>99999.00</td>\n",
       "      <td>3770.00</td>\n",
       "      <td>99.00</td>\n",
       "    </tr>\n",
       "  </tbody>\n",
       "</table>\n",
       "</div>"
      ],
      "text/latex": [
       "\\begin{tabular}{lrrrrrr}\n",
       "\\toprule\n",
       "{} &       age &      fnlwgt &  educationNum &  capitalGain &  capitalLoss &  hoursPerWeek \\\\\n",
       "\\midrule\n",
       "count &  16281.00 &    16281.00 &      16281.00 &     16281.00 &     16281.00 &      16281.00 \\\\\n",
       "mean  &     38.77 &   189435.68 &         10.07 &      1081.91 &        87.90 &         40.39 \\\\\n",
       "std   &     13.85 &   105714.91 &          2.57 &      7583.94 &       403.11 &         12.48 \\\\\n",
       "min   &     17.00 &    13492.00 &          1.00 &         0.00 &         0.00 &          1.00 \\\\\n",
       "25\\%   &     28.00 &   116736.00 &          9.00 &         0.00 &         0.00 &         40.00 \\\\\n",
       "50\\%   &     37.00 &   177831.00 &         10.00 &         0.00 &         0.00 &         40.00 \\\\\n",
       "75\\%   &     48.00 &   238384.00 &         12.00 &         0.00 &         0.00 &         45.00 \\\\\n",
       "max   &     90.00 &  1490400.00 &         16.00 &     99999.00 &      3770.00 &         99.00 \\\\\n",
       "\\bottomrule\n",
       "\\end{tabular}\n"
      ],
      "text/plain": [
       "            age      fnlwgt  educationNum  capitalGain  capitalLoss  \\\n",
       "count  16281.00    16281.00      16281.00     16281.00     16281.00   \n",
       "mean      38.77   189435.68         10.07      1081.91        87.90   \n",
       "std       13.85   105714.91          2.57      7583.94       403.11   \n",
       "min       17.00    13492.00          1.00         0.00         0.00   \n",
       "25%       28.00   116736.00          9.00         0.00         0.00   \n",
       "50%       37.00   177831.00         10.00         0.00         0.00   \n",
       "75%       48.00   238384.00         12.00         0.00         0.00   \n",
       "max       90.00  1490400.00         16.00     99999.00      3770.00   \n",
       "\n",
       "       hoursPerWeek  \n",
       "count      16281.00  \n",
       "mean          40.39  \n",
       "std           12.48  \n",
       "min            1.00  \n",
       "25%           40.00  \n",
       "50%           40.00  \n",
       "75%           45.00  \n",
       "max           99.00  "
      ]
     },
     "metadata": {},
     "output_type": "display_data"
    }
   ],
   "source": [
    "display(train.iloc[:,[0,2,4,10,11,12]].describe().round(2)) #连续型数据\n",
    "display(test.iloc[:,[0,2,4,10,11,12]].describe().round(2)) #连续型数据"
   ]
  },
  {
   "cell_type": "markdown",
   "id": "administrative-growing",
   "metadata": {},
   "source": [
    "**要点2：`capitalGain`、`capitalLoss`超过75%的记录同为0。`nativeCountry`近90%记录为United-States。**\n",
    "\n",
    "> 下一步处理：为某一值的样本较多，可以考虑较少类别的离散化。"
   ]
  },
  {
   "cell_type": "markdown",
   "id": "confused-wedding",
   "metadata": {},
   "source": [
    "## 个别属性理解"
   ]
  },
  {
   "cell_type": "code",
   "execution_count": 5,
   "id": "limiting-consolidation",
   "metadata": {},
   "outputs": [
    {
     "data": {
      "text/plain": [
       "21"
      ]
     },
     "execution_count": 5,
     "metadata": {},
     "output_type": "execute_result"
    }
   ],
   "source": [
    "data.groupby(by=['fnlwgt']).count().iloc[:,0].sort_values(ascending=False).max()"
   ]
  },
  {
   "cell_type": "code",
   "execution_count": 6,
   "id": "secret-moral",
   "metadata": {},
   "outputs": [
    {
     "data": {
      "text/plain": [
       "(0.0, 700000.0)"
      ]
     },
     "execution_count": 6,
     "metadata": {},
     "output_type": "execute_result"
    },
    {
     "data": {
      "image/png": "[encoded data removed]",
      "text/plain": [
       "<Figure size 432x288 with 1 Axes>"
      ]
     },
     "metadata": {
      "needs_background": "light"
     },
     "output_type": "display_data"
    }
   ],
   "source": [
    "ax = data.fnlwgt.plot.kde()\n",
    "ax.set_xlim([0,700000])"
   ]
  },
  {
   "cell_type": "markdown",
   "id": "humanitarian-representation",
   "metadata": {},
   "source": [
    "**要点3：很多网上的分析把fnlwgt解读为id序号，实际上并不是（因为这里可以看到不唯一）。fnlwgt值有一定的分布规律。考虑数据集的解读，fnlwgt和部分人口统计学特征有重复表达，另外，根据说明，该值仅在同一州内具有可比性，而我们缺失了州的信息。**\n",
    "\n",
    "> 下一步操作：考虑去除该属性"
   ]
  },
  {
   "cell_type": "markdown",
   "id": "mighty-frontier",
   "metadata": {},
   "source": [
    "## 缺失值探索"
   ]
  },
  {
   "cell_type": "code",
   "execution_count": 7,
   "id": "intellectual-mailman",
   "metadata": {},
   "outputs": [
    {
     "name": "stdout",
     "output_type": "stream",
     "text": [
      "<class 'pandas.core.frame.DataFrame'>\n",
      "RangeIndex: 32561 entries, 0 to 32560\n",
      "Data columns (total 15 columns):\n",
      " #   Column         Non-Null Count  Dtype \n",
      "---  ------         --------------  ----- \n",
      " 0   age            32561 non-null  int64 \n",
      " 1   workClass      30725 non-null  object\n",
      " 2   fnlwgt         32561 non-null  int64 \n",
      " 3   education      32561 non-null  object\n",
      " 4   educationNum   32561 non-null  int64 \n",
      " 5   martialStatus  32561 non-null  object\n",
      " 6   occupation     30718 non-null  object\n",
      " 7   relationship   32561 non-null  object\n",
      " 8   race           32561 non-null  object\n",
      " 9   sex            32561 non-null  object\n",
      " 10  capitalGain    32561 non-null  int64 \n",
      " 11  capitalLoss    32561 non-null  int64 \n",
      " 12  hoursPerWeek   32561 non-null  int64 \n",
      " 13  nativeCountry  31978 non-null  object\n",
      " 14  income         32561 non-null  object\n",
      "dtypes: int64(6), object(9)\n",
      "memory usage: 3.7+ MB\n"
     ]
    }
   ],
   "source": [
    "train.replace(' ?',np.nan).info()"
   ]
  },
  {
   "cell_type": "markdown",
   "id": "confirmed-still",
   "metadata": {},
   "source": [
    "**要点4： 出现缺失值的字段有 `workClass`, `occupation`, `nativeCountry`。**\n",
    "\n",
    "> 下一步处理：这三个变量都是离散型变量，可以考虑使用众数替换的方法填充缺失值。也可以先删除。"
   ]
  },
  {
   "cell_type": "code",
   "execution_count": 8,
   "id": "sapphire-preserve",
   "metadata": {},
   "outputs": [
    {
     "name": "stdout",
     "output_type": "stream",
     "text": [
      "count       2399\n",
      "unique         2\n",
      "top        <=50K\n",
      "freq        2066\n",
      "Name: income, dtype: object\n"
     ]
    }
   ],
   "source": [
    "print(train[(train.workClass==' ?') | (train.occupation==' ?') | (train.nativeCountry==' ?')].income.describe())"
   ]
  },
  {
   "cell_type": "code",
   "execution_count": 9,
   "id": "looking-prophet",
   "metadata": {},
   "outputs": [
    {
     "name": "stdout",
     "output_type": "stream",
     "text": [
      "count        1221\n",
      "unique          2\n",
      "top        <=50K.\n",
      "freq         1075\n",
      "Name: income, dtype: object\n"
     ]
    }
   ],
   "source": [
    "print(test[(test.workClass==' ?') | (test.occupation==' ?') | (test.nativeCountry==' ?')].income.describe())"
   ]
  },
  {
   "cell_type": "markdown",
   "id": "potential-syndicate",
   "metadata": {},
   "source": [
    "全部删除，会导致训练集样本减少11.12%，但是相比于给每个属性带来一定的不准确的众数填充，建立baseline时最好还是删除这些含缺失属性的记录为好。"
   ]
  },
  {
   "cell_type": "markdown",
   "id": "altered-leisure",
   "metadata": {},
   "source": [
    "## 重复值探索"
   ]
  },
  {
   "cell_type": "code",
   "execution_count": 10,
   "id": "ready-burner",
   "metadata": {},
   "outputs": [
    {
     "data": {
      "text/plain": [
       "array([[' Preschool', 1],\n",
       "       [' 1st-4th', 2],\n",
       "       [' 5th-6th', 3],\n",
       "       [' 7th-8th', 4],\n",
       "       [' 9th', 5],\n",
       "       [' 10th', 6],\n",
       "       [' 11th', 7],\n",
       "       [' 12th', 8],\n",
       "       [' HS-grad', 9],\n",
       "       [' Some-college', 10],\n",
       "       [' Assoc-voc', 11],\n",
       "       [' Assoc-acdm', 12],\n",
       "       [' Bachelors', 13],\n",
       "       [' Masters', 14],\n",
       "       [' Prof-school', 15],\n",
       "       [' Doctorate', 16]], dtype=object)"
      ]
     },
     "execution_count": 10,
     "metadata": {},
     "output_type": "execute_result"
    }
   ],
   "source": [
    "data.drop_duplicates(subset=['education','educationNum']).iloc[:,3:5].sort_values(by='educationNum').values"
   ]
  },
  {
   "cell_type": "markdown",
   "id": "fluid-slave",
   "metadata": {},
   "source": [
    "**要点5：整个数据集上， `education` 字段和 `educationNum` 字段都是一一对应的，只有16种组合，出现属性冗余现象。**"
   ]
  },
  {
   "cell_type": "markdown",
   "id": "unlike-institution",
   "metadata": {},
   "source": [
    "# 数据处理DP\n",
    "\n",
    "数据处理部分主要分以下几个任务：\n",
    "* 错误值修正（1）\n",
    "* 重复值处理（5）\n",
    "* 缺失值处理（4）\n",
    "* 离散属性整数编码\n",
    "* 去除、合并部分属性（2）\n",
    "* 数据标准化\n",
    "\n"
   ]
  },
  {
   "cell_type": "markdown",
   "id": "precious-delaware",
   "metadata": {},
   "source": [
    "## 错误值修正"
   ]
  },
  {
   "cell_type": "code",
   "execution_count": 11,
   "id": "pointed-amplifier",
   "metadata": {},
   "outputs": [],
   "source": [
    "test['income'] = test['income'].apply(lambda x : x.replace('.',''))"
   ]
  },
  {
   "cell_type": "markdown",
   "id": "buried-inventory",
   "metadata": {},
   "source": [
    "## 重复值处理\n",
    "\n",
    "直接删除`education`列\n"
   ]
  },
  {
   "cell_type": "code",
   "execution_count": 12,
   "id": "focused-quantity",
   "metadata": {},
   "outputs": [],
   "source": [
    "train = train.drop(['education'],axis=1)\n",
    "test = test.drop(['education'],axis=1)"
   ]
  },
  {
   "cell_type": "markdown",
   "id": "intimate-obligation",
   "metadata": {},
   "source": [
    "## 缺失值处理\n",
    "\n",
    "本例的缺失值都来自于离散属性，可以采用众数填充也可以采用删除的方式，为提升baseline可靠性，这里采用删除含缺失值记录的方式。\n",
    "\n",
    "数据中缺失值以` ?`代替，可以考虑替换为`NaN`后批量删除"
   ]
  },
  {
   "cell_type": "code",
   "execution_count": 13,
   "id": "blocked-forum",
   "metadata": {},
   "outputs": [],
   "source": [
    "train = train.replace(' ?',np.nan)\n",
    "test = test.replace(' ?',np.nan)"
   ]
  },
  {
   "cell_type": "code",
   "execution_count": 14,
   "id": "caring-communications",
   "metadata": {},
   "outputs": [],
   "source": [
    "train = train.dropna(axis=0,how='any').reset_index(drop=True)\n",
    "test = test.dropna(axis=0,how='any').reset_index(drop=True)"
   ]
  },
  {
   "cell_type": "markdown",
   "id": "grateful-heritage",
   "metadata": {},
   "source": [
    "## 整数编码"
   ]
  },
  {
   "cell_type": "code",
   "execution_count": 15,
   "id": "loved-bible",
   "metadata": {},
   "outputs": [],
   "source": [
    "from sklearn.preprocessing import LabelEncoder\n",
    "\n",
    "idx2label = {}\n",
    "\n",
    "strFields = ['workClass','martialStatus','occupation','relationship','race','sex','income']\n",
    "for field in strFields:\n",
    "    le = LabelEncoder()\n",
    "    vals = np.unique(train[field].values)\n",
    "    le = le.fit(vals)\n",
    "    idx2label[field] = dict(zip(range(len(vals)),vals))\n",
    "    train_temp = le.transform(train[field].values)\n",
    "    test_temp = le.transform(test[field].values)\n",
    "    train[field] = pd.DataFrame(train_temp,columns=[field])\n",
    "    test[field] = pd.DataFrame(test_temp,columns=[field])"
   ]
  },
  {
   "cell_type": "markdown",
   "id": "adequate-physics",
   "metadata": {},
   "source": [
    "## 属性舍弃与合并\n",
    "\n",
    "上一步已经完成了离散属性的整数编码，便于我们进一步探查属性之间的相关性："
   ]
  },
  {
   "cell_type": "code",
   "execution_count": 16,
   "id": "several-hygiene",
   "metadata": {},
   "outputs": [
    {
     "data": {
      "text/plain": [
       "<AxesSubplot:>"
      ]
     },
     "execution_count": 16,
     "metadata": {},
     "output_type": "execute_result"
    },
    {
     "data": {
      "image/png": "[encoded data removed]",
      "text/plain": [
       "<Figure size 1152x1152 with 2 Axes>"
      ]
     },
     "metadata": {
      "needs_background": "light"
     },
     "output_type": "display_data"
    }
   ],
   "source": [
    "train_corr = train.corr()\n",
    "\n",
    "plt.figure(figsize=(16,16))\n",
    "seaborn.heatmap(train_corr,cmap='YlGnBu',annot=True)"
   ]
  },
  {
   "cell_type": "markdown",
   "id": "right-bibliography",
   "metadata": {},
   "source": [
    "可以看到，去除重复属性后，余下属性并不存在严重的共线性情况，所以无需据此舍弃属性。但是数据探索部分提到的部分属性应当予以移除："
   ]
  },
  {
   "cell_type": "code",
   "execution_count": 17,
   "id": "veterinary-capacity",
   "metadata": {},
   "outputs": [],
   "source": [
    "train = train.drop(['fnlwgt'],axis=1)\n",
    "test = test.drop(['fnlwgt'],axis=1)"
   ]
  },
  {
   "cell_type": "code",
   "execution_count": 18,
   "id": "numerous-participation",
   "metadata": {},
   "outputs": [],
   "source": [
    "train['nativeCountry'] = train['nativeCountry'].apply(lambda x: 0 if x == \" United-States\" else 1)\n",
    "test['nativeCountry'] = test['nativeCountry'].apply(lambda x: 0 if x == \" United-States\" else 1)"
   ]
  },
  {
   "cell_type": "markdown",
   "id": "invalid-construction",
   "metadata": {},
   "source": [
    "## 数据标准化\n",
    "\n",
    "针对连续型数据，由于各属性取值范围各不相同，为降低对后续模型选择中取值范围差异造成的影响，对连续性数据进行0-1标准化处理。这样得到的数据是无量纲的。"
   ]
  },
  {
   "cell_type": "code",
   "execution_count": 19,
   "id": "southern-mauritius",
   "metadata": {},
   "outputs": [],
   "source": [
    "trainC = train.iloc[:,[0,2,8,9,10]]\n",
    "trainC = (trainC - trainC.min())/(trainC.max()-trainC.min())\n",
    "train.iloc[:,[0,2,8,9,10]] = trainC\n",
    "testC = test.iloc[:,[0,2,8,9,10]]\n",
    "testC = (testC - testC.min())/(testC.max()-testC.min())\n",
    "test.iloc[:,[0,2,8,9,10]] = testC"
   ]
  },
  {
   "cell_type": "markdown",
   "id": "sudden-situation",
   "metadata": {},
   "source": [
    "## 数据保存"
   ]
  },
  {
   "cell_type": "code",
   "execution_count": 20,
   "id": "indonesian-bangladesh",
   "metadata": {},
   "outputs": [],
   "source": [
    "train.to_csv('./data/adult.proc.data',index=False)\n",
    "test.to_csv('./data/adult.proc.test',index=False)\n",
    "import json\n",
    "f = open(\"./data/idx2label.json\", \"w\")\n",
    "json.dump([idx2label],f,indent=4)\n",
    "f.close()"
   ]
  },
  {
   "cell_type": "markdown",
   "id": "agricultural-rouge",
   "metadata": {},
   "source": [
    "# 分类模型Models"
   ]
  },
  {
   "cell_type": "markdown",
   "id": "motivated-functionality",
   "metadata": {},
   "source": [
    "### 准备：读取并分割数据集\n",
    "\n",
    "在上一节已经处理好了数据集，由于所给训练集和测试集数量都很大，且样本类别没有出现极度不均衡的现象，所以可以从训练数据中分割出训练集和验证集，用于模型训练和评估便于优化，而原测试集可以用于最终的表现评价。\n",
    "\n",
    "因为训练集数量很大，所以可以采用K折交叉验证的方式进行模型训练。基本思路就是将样本分割为$k$份，选取$k-1$份为训练集，$1$份为验证集进行交叉模型训练。"
   ]
  },
  {
   "cell_type": "code",
   "execution_count": 21,
   "id": "annual-telephone",
   "metadata": {},
   "outputs": [],
   "source": [
    "train = pd.read_csv('./data/adult.proc.data')\n",
    "test = pd.read_csv('./data/adult.proc.test')\n",
    "x_train = train.iloc[:,:-1]\n",
    "y_train = train.iloc[:,-1:]\n",
    "x_test = test.iloc[:,:-1]\n",
    "y_test = test.iloc[:,-1:]"
   ]
  },
  {
   "cell_type": "code",
   "execution_count": 22,
   "id": "instructional-comedy",
   "metadata": {},
   "outputs": [],
   "source": [
    "from sklearn.model_selection import StratifiedKFold\n",
    "\n",
    "N = 5 # 5折交叉验证\n",
    "skf = StratifiedKFold(n_splits=N,random_state=101,shuffle=True)"
   ]
  },
  {
   "cell_type": "markdown",
   "id": "alien-subdivision",
   "metadata": {},
   "source": [
    "相比于使用`KFold()`，使用`StratifiedKFold()`可以保证每次分割样本的类别分布与整体一致。"
   ]
  },
  {
   "cell_type": "markdown",
   "id": "republican-persian",
   "metadata": {},
   "source": [
    "## 决策树DT"
   ]
  },
  {
   "cell_type": "markdown",
   "id": "saving-reward",
   "metadata": {},
   "source": [
    "### Baseline"
   ]
  },
  {
   "cell_type": "code",
   "execution_count": 23,
   "id": "restricted-wrestling",
   "metadata": {},
   "outputs": [
    {
     "data": {
      "text/plain": [
       "DecisionTreeClassifier(criterion='entropy')"
      ]
     },
     "execution_count": 23,
     "metadata": {},
     "output_type": "execute_result"
    }
   ],
   "source": [
    "from sklearn import tree\n",
    "clf = tree.DecisionTreeClassifier(criterion='entropy')\n",
    "clf.fit(x_train,y_train)"
   ]
  },
  {
   "cell_type": "code",
   "execution_count": 24,
   "id": "official-gazette",
   "metadata": {},
   "outputs": [
    {
     "name": "stdout",
     "output_type": "stream",
     "text": [
      "Train Accuracy: 0.97490\n"
     ]
    }
   ],
   "source": [
    "print('Train Accuracy: %.5f' % clf.score(x_train,y_train))"
   ]
  },
  {
   "cell_type": "code",
   "execution_count": 25,
   "id": "modern-lounge",
   "metadata": {},
   "outputs": [
    {
     "name": "stdout",
     "output_type": "stream",
     "text": [
      "Test Accuracy: 0.80219\n"
     ]
    }
   ],
   "source": [
    "print('Test Accuracy: %.5f' % clf.score(x_test,y_test))"
   ]
  },
  {
   "cell_type": "code",
   "execution_count": 26,
   "id": "neutral-hunger",
   "metadata": {},
   "outputs": [],
   "source": [
    "y = clf.predict(x_test)"
   ]
  },
  {
   "cell_type": "code",
   "execution_count": 27,
   "id": "musical-nickname",
   "metadata": {},
   "outputs": [
    {
     "name": "stdout",
     "output_type": "stream",
     "text": [
      "income\n",
      "0    11489\n",
      "1     3571\n",
      "dtype: int64\n"
     ]
    }
   ],
   "source": [
    "print(pd.DataFrame(y,columns=['income']).groupby(by=['income']).size())"
   ]
  },
  {
   "cell_type": "markdown",
   "id": "otherwise-section",
   "metadata": {},
   "source": [
    "基本的交叉熵决策树预测模型可以达到0.79的准确率，这一数值接近`<=50k`的占比75%，查看分类结果发现预测比例较为正常。结合训练集接近1.00的得分可以判断出baseline出现了过拟合的情况，后续可展开优化。"
   ]
  },
  {
   "cell_type": "markdown",
   "id": "according-bacteria",
   "metadata": {},
   "source": [
    "### 优化Ⅰ：剪枝\n",
    "\n",
    "决策树对训练集过拟合的情况很有可能是决策树深度过深，一般而言，决策树层数较少时会出现欠拟合现象，而层数过多时会出现过拟合现象。"
   ]
  },
  {
   "cell_type": "code",
   "execution_count": 28,
   "id": "minute-banana",
   "metadata": {},
   "outputs": [
    {
     "data": {
      "text/plain": [
       "45"
      ]
     },
     "execution_count": 28,
     "metadata": {},
     "output_type": "execute_result"
    }
   ],
   "source": [
    "clf.tree_.max_depth"
   ]
  },
  {
   "cell_type": "markdown",
   "id": "dangerous-dynamics",
   "metadata": {},
   "source": [
    "我们一共有10个属性，32561个样本（$2^{15}=32768$），但是决策树深度来到了45层，可能对连续属性或多值离散属性进行了过多的分化。\n",
    "\n",
    "面对决策树过拟合严重的问题，可以采用剪枝的方法，在sklearn中可以通过限定`max_depth`来进行剪枝。下面结合分层KFold测试不同深度下决策树的表现。"
   ]
  },
  {
   "cell_type": "code",
   "execution_count": 29,
   "id": "passive-tackle",
   "metadata": {},
   "outputs": [
    {
     "name": "stdout",
     "output_type": "stream",
     "text": [
      "CPU times: user 21.1 s, sys: 140 ms, total: 21.3 s\n",
      "Wall time: 21.3 s\n"
     ]
    }
   ],
   "source": [
    "%%time\n",
    "train_score = []; val_score = []; train_f1 = []; val_f1 = []\n",
    "from sklearn.metrics import f1_score\n",
    "MAX = clf.tree_.max_depth\n",
    "for i in range(1,MAX):\n",
    "    ts = 0; vs = 0; tf = 0; vf = 0\n",
    "    for train_idx,val_idx in skf.split(x_train.values, y_train.values):\n",
    "        clf = tree.DecisionTreeClassifier(criterion='entropy',max_depth=i)\n",
    "        clf.fit(x_train.values[train_idx],y_train.values[train_idx])\n",
    "        ts += clf.score(x_train.values[train_idx],y_train.values[train_idx])\n",
    "        vs += clf.score(x_train.values[val_idx],y_train.values[val_idx])\n",
    "        tf += f1_score(y_train,clf.predict(x_train),pos_label=0)\n",
    "        vf += f1_score(y_test,clf.predict(x_test),pos_label=0)\n",
    "    train_score.append(ts/N) #取每折结果的均值作为该参数下模型表现\n",
    "    val_score.append(vs/N)\n",
    "    train_f1.append(tf/N)\n",
    "    val_f1.append(vf/N)"
   ]
  },
  {
   "cell_type": "code",
   "execution_count": 30,
   "id": "built-circuit",
   "metadata": {},
   "outputs": [
    {
     "data": {
      "text/plain": [
       "<matplotlib.legend.Legend at 0x7f9169402710>"
      ]
     },
     "execution_count": 30,
     "metadata": {},
     "output_type": "execute_result"
    },
    {
     "data": {
      "image/png": "[encoded data removed]",
      "text/plain": [
       "<Figure size 432x288 with 1 Axes>"
      ]
     },
     "metadata": {
      "needs_background": "light"
     },
     "output_type": "display_data"
    }
   ],
   "source": [
    "plt.figure()\n",
    "plt.title('Decision Tree')\n",
    "plt.plot(range(1,MAX),val_score,label='val_accuracy')\n",
    "plt.plot(range(1,MAX),train_score,label='train_accuracy')\n",
    "plt.plot(range(1,MAX),val_f1, '--', label='val_f1')\n",
    "plt.plot(range(1,MAX),train_f1,'--',label='train_f1')\n",
    "plt.axvline(x=9 , color='green' , linestyle=':')\n",
    "plt.xlabel('Depth')\n",
    "plt.legend()"
   ]
  },
  {
   "cell_type": "markdown",
   "id": "beautiful-reaction",
   "metadata": {},
   "source": [
    "观察图形可知，深度大于9时，验证集准确率达最大值0.850，随后开始下降，所以9附近应该是最佳深度，增加深度会导致模型过拟合。样本总量在32561，处于$2^{14}$和$2^{15}$之间，所以这个深度也是较为合适的。"
   ]
  },
  {
   "cell_type": "code",
   "execution_count": 31,
   "id": "thousand-singing",
   "metadata": {},
   "outputs": [
    {
     "data": {
      "text/plain": [
       "0.8588621444201313"
      ]
     },
     "execution_count": 31,
     "metadata": {},
     "output_type": "execute_result"
    }
   ],
   "source": [
    "clf = tree.DecisionTreeClassifier(criterion='entropy',max_depth=9)\n",
    "clf.fit(x_train,y_train)\n",
    "clf.score(x_train,y_train)"
   ]
  },
  {
   "cell_type": "code",
   "execution_count": 32,
   "id": "correct-detector",
   "metadata": {},
   "outputs": [
    {
     "data": {
      "text/plain": [
       "0.8403718459495352"
      ]
     },
     "execution_count": 32,
     "metadata": {},
     "output_type": "execute_result"
    }
   ],
   "source": [
    "pred0 = clf.predict(x_test)\n",
    "clf.score(x_test,y_test)"
   ]
  },
  {
   "cell_type": "markdown",
   "id": "incident-swiss",
   "metadata": {},
   "source": [
    "优化剪枝后模型在测试集上的准确率为0.841,相比于baseline提升了0.05。"
   ]
  },
  {
   "cell_type": "markdown",
   "id": "functioning-wings",
   "metadata": {},
   "source": [
    "### 优化Ⅱ：集成学习\n",
    "\n",
    "也可以采用集成学习的方法，将决策树桩（每颗决策树深度均为1）作为基分类器，训练多个弱分类器决策树桩，再使用加性模型得到强学习器。"
   ]
  },
  {
   "cell_type": "code",
   "execution_count": 33,
   "id": "unauthorized-retail",
   "metadata": {},
   "outputs": [],
   "source": [
    "from sklearn.ensemble import AdaBoostClassifier"
   ]
  },
  {
   "cell_type": "code",
   "execution_count": 34,
   "id": "pediatric-moisture",
   "metadata": {},
   "outputs": [
    {
     "name": "stdout",
     "output_type": "stream",
     "text": [
      "CPU times: user 22.3 s, sys: 8.3 ms, total: 22.4 s\n",
      "Wall time: 22.4 s\n"
     ]
    }
   ],
   "source": [
    "%%time\n",
    "train_score = []; val_score = []\n",
    "ts = 0; vs = 0; tf = 0; vf = 0\n",
    "for train_idx,val_idx in skf.split(x_train.values, y_train.values):\n",
    "    clf1 = AdaBoostClassifier(base_estimator=tree.DecisionTreeClassifier(criterion='entropy',max_depth=1), n_estimators=200, random_state=0)\n",
    "    clf1.fit(x_train.values[train_idx],y_train.values[train_idx].ravel())\n",
    "    ts += clf1.score(x_train.values[train_idx],y_train.values[train_idx].ravel())\n",
    "    vs += clf1.score(x_train.values[val_idx],y_train.values[val_idx].ravel())\n",
    "    tf += f1_score(y_train,clf1.predict(x_train),pos_label=0)\n",
    "    vf += f1_score(y_test,clf1.predict(x_test),pos_label=0)"
   ]
  },
  {
   "cell_type": "code",
   "execution_count": 35,
   "id": "local-bargain",
   "metadata": {},
   "outputs": [
    {
     "name": "stdout",
     "output_type": "stream",
     "text": [
      "Train Accuracy:\t 0.86476\n",
      "Val Accuracy:\t 0.86387\n",
      "Train F1:\t 0.91258\n",
      "Val F1:\t\t 0.90594\n"
     ]
    }
   ],
   "source": [
    "print('Train Accuracy:\\t %.5f' % float(ts/N))\n",
    "print('Val Accuracy:\\t %.5f' % float(vs/N))\n",
    "print('Train F1:\\t %.5f' % float(tf/N))\n",
    "print('Val F1:\\t\\t %.5f' % float(vf/N))"
   ]
  },
  {
   "cell_type": "code",
   "execution_count": 36,
   "id": "spare-pavilion",
   "metadata": {},
   "outputs": [
    {
     "data": {
      "text/plain": [
       "0.8521912350597609"
      ]
     },
     "execution_count": 36,
     "metadata": {},
     "output_type": "execute_result"
    }
   ],
   "source": [
    "clf1.score(x_test,y_test)"
   ]
  },
  {
   "cell_type": "markdown",
   "id": "provincial-antigua",
   "metadata": {},
   "source": [
    "设定基分类器数量上限为200的情况下，训练集、验证集准确率超过了86.5%。验证集准确率则在85.5%。"
   ]
  },
  {
   "cell_type": "markdown",
   "id": "usual-latvia",
   "metadata": {},
   "source": [
    "\n",
    "## K近邻KNN"
   ]
  },
  {
   "cell_type": "markdown",
   "id": "beautiful-journalist",
   "metadata": {},
   "source": [
    "### Baseline\n",
    "\n",
    "在预处理部分，我将连续型数据进行了无量纲标准化，knn计算距离时就可以避免量纲和取值范围的影响；而对于离散型数据，我采用的是整数编码，保存为整数。一般而言，KNN对离散型数据的计算应该进行类别比较，即属性取值相同时该轴距离为0，否则距离为1，所以这里需要对离散型数据追加处理，采用One-Hot编码的方式。\n",
    "\n",
    "独热编码后，总列数增加了，运算规模变大，但是对于原来的每个离散属性而言，取值不同对距离的贡献并没有增加，还是1，因为非关键位取值为0."
   ]
  },
  {
   "cell_type": "code",
   "execution_count": 37,
   "id": "atlantic-treasure",
   "metadata": {},
   "outputs": [],
   "source": [
    "x_train.iloc[:,[1,3,4,5,6,7]] = x_train.iloc[:,[1,3,4,5,6,7]].astype(str)\n",
    "x_train_oh = pd.get_dummies(x_train)\n",
    "x_test.iloc[:,[1,3,4,5,6,7]] = x_test.iloc[:,[1,3,4,5,6,7]].astype(str)\n",
    "x_test_oh = pd.get_dummies(x_test)"
   ]
  },
  {
   "cell_type": "code",
   "execution_count": 38,
   "id": "critical-surge",
   "metadata": {},
   "outputs": [
    {
     "data": {
      "text/plain": [
       "KNeighborsClassifier()"
      ]
     },
     "execution_count": 38,
     "metadata": {},
     "output_type": "execute_result"
    }
   ],
   "source": [
    "from sklearn import neighbors\n",
    "\n",
    "clf2 = neighbors.KNeighborsClassifier()\n",
    "clf2.fit(x_train_oh,y_train)"
   ]
  },
  {
   "cell_type": "code",
   "execution_count": 39,
   "id": "formal-function",
   "metadata": {},
   "outputs": [
    {
     "name": "stdout",
     "output_type": "stream",
     "text": [
      "Train Accuracy: 0.87255\n",
      "Test Accuracy: 0.81793\n"
     ]
    }
   ],
   "source": [
    "print('Train Accuracy: %.5f' % clf2.score(x_train_oh,y_train))\n",
    "print('Test Accuracy: %.5f'  % clf2.score(x_test_oh,y_test))"
   ]
  },
  {
   "cell_type": "markdown",
   "id": "hearing-evolution",
   "metadata": {},
   "source": [
    "模型在测试集的表现大约为0.818，略优于决策树baseline，而且这里的过拟合现象没有决策树严重，因为决策树baseline（默认参数）没有限定深度，而KNN的默认参数是限定了`n_neighbors`为5."
   ]
  },
  {
   "cell_type": "markdown",
   "id": "alone-analyst",
   "metadata": {},
   "source": [
    "### 优化：调整最大近邻数"
   ]
  },
  {
   "cell_type": "code",
   "execution_count": 40,
   "id": "regulated-straight",
   "metadata": {},
   "outputs": [
    {
     "name": "stdout",
     "output_type": "stream",
     "text": [
      "CPU times: user 58min 13s, sys: 19min 46s, total: 1h 17min 59s\n",
      "Wall time: 1h 3min 22s\n"
     ]
    }
   ],
   "source": [
    "%%time\n",
    "train_score = []; val_score = []; train_f1 = []; val_f1 = []\n",
    "for i in range(5,101,5):\n",
    "    ts = 0; vs = 0; tf = 0; vf = 0\n",
    "    for train_idx,val_idx in skf.split(x_train.values, y_train.values):\n",
    "        clf2 = neighbors.KNeighborsClassifier(n_neighbors=i)\n",
    "        clf2.fit(x_train_oh.values[train_idx],y_train.values[train_idx])\n",
    "        ts += clf2.score(x_train_oh.values[train_idx],y_train.values[train_idx])\n",
    "        vs += clf2.score(x_train_oh.values[val_idx],y_train.values[val_idx])\n",
    "        tf += f1_score(y_train.values[train_idx],clf2.predict(x_train_oh.values[train_idx]),pos_label=0)\n",
    "        vf += f1_score(y_train.values[val_idx],clf2.predict(x_train_oh.values[val_idx]),pos_label=0)\n",
    "    train_score.append(ts/N) #取每折结果的均值作为该参数下模型表现\n",
    "    val_score.append(vs/N)\n",
    "    train_f1.append(tf/N)\n",
    "    val_f1.append(vf/N)"
   ]
  },
  {
   "cell_type": "code",
   "execution_count": 41,
   "id": "underlying-spain",
   "metadata": {},
   "outputs": [
    {
     "data": {
      "text/plain": [
       "<matplotlib.legend.Legend at 0x7f9152e23dd8>"
      ]
     },
     "execution_count": 41,
     "metadata": {},
     "output_type": "execute_result"
    },
    {
     "data": {
      "image/png": "[encoded data removed]",
      "text/plain": [
       "<Figure size 432x288 with 1 Axes>"
      ]
     },
     "metadata": {
      "needs_background": "light"
     },
     "output_type": "display_data"
    }
   ],
   "source": [
    "plt.figure()\n",
    "plt.title('K-Nearest Neighbor')\n",
    "plt.plot(range(5,101,5),val_score,label='val_accuracy')\n",
    "plt.plot(range(5,101,5),train_score,label='train_accuracy')\n",
    "plt.plot(range(5,101,5),val_f1, '--', label='val_f1')\n",
    "plt.plot(range(5,101,5),train_f1,'--',label='train_f1')\n",
    "plt.axvline(x=20 , color='green' , linestyle=':')\n",
    "plt.xlabel('neighbor num/k')\n",
    "plt.legend()"
   ]
  },
  {
   "cell_type": "markdown",
   "id": "curious-horse",
   "metadata": {},
   "source": [
    "由图中的多次实验可知，k=20时验证集准确率为最高，达0.835，之后增大k会减轻模型过拟合现象，但验证集准确率并没有明显提升，所以可以判定k=20时模型可取最佳。\n",
    "\n",
    "k较小，模型可能对部分噪声点敏感，而k较大时近邻可能包含了其他的类。"
   ]
  },
  {
   "cell_type": "code",
   "execution_count": 42,
   "id": "pressing-patrick",
   "metadata": {},
   "outputs": [
    {
     "name": "stdout",
     "output_type": "stream",
     "text": [
      "Train Accuracy: 0.84762\n",
      "Test Accuracy: 0.83293\n"
     ]
    }
   ],
   "source": [
    "clf2 = neighbors.KNeighborsClassifier(n_neighbors=20)\n",
    "clf2.fit(x_train_oh,y_train)\n",
    "print('Train Accuracy: %.5f' % clf2.score(x_train_oh,y_train))\n",
    "print('Test Accuracy: %.5f'  % clf2.score(x_test_oh,y_test))"
   ]
  },
  {
   "cell_type": "markdown",
   "id": "adjusted-flooring",
   "metadata": {},
   "source": [
    "测试集准确率大约在0.833，相比于baseline提升了0.015"
   ]
  },
  {
   "cell_type": "markdown",
   "id": "welsh-payroll",
   "metadata": {},
   "source": [
    "## 支持向量机SVM"
   ]
  },
  {
   "cell_type": "markdown",
   "id": "korean-mixer",
   "metadata": {},
   "source": [
    "### Baseline"
   ]
  },
  {
   "cell_type": "code",
   "execution_count": 43,
   "id": "neutral-investment",
   "metadata": {},
   "outputs": [
    {
     "data": {
      "text/plain": [
       "0.8372123864465221"
      ]
     },
     "execution_count": 43,
     "metadata": {},
     "output_type": "execute_result"
    }
   ],
   "source": [
    "from sklearn.svm import SVC\n",
    "\n",
    "clf3 = SVC()\n",
    "clf3.fit(x_train_oh,y_train)\n",
    "clf3.score(x_train_oh,y_train)"
   ]
  },
  {
   "cell_type": "code",
   "execution_count": 44,
   "id": "thorough-australian",
   "metadata": {},
   "outputs": [
    {
     "data": {
      "text/plain": [
       "0.8363877822045153"
      ]
     },
     "execution_count": 44,
     "metadata": {},
     "output_type": "execute_result"
    }
   ],
   "source": [
    "clf3.score(x_test_oh,y_test)"
   ]
  },
  {
   "cell_type": "markdown",
   "id": "specified-voltage",
   "metadata": {},
   "source": [
    "支持向量机的baseline（默认参数）准确率稍高，测试集准确率来到了0.836；但是由于经one-hot处理后数据集维度较多、数据量较大，支持向量机收敛时间也相应提升了。"
   ]
  },
  {
   "cell_type": "markdown",
   "id": "intelligent-closer",
   "metadata": {},
   "source": [
    "### 优化：调整惩罚参数\n",
    "\n",
    "错误项的惩罚系数。C越大，即对分错样本的惩罚程度越大，因此在训练样本中准确率越高，但是泛化能力降低，也就是对测试数据的分类准确率降低。相反，减小C的话，容许训练样本中有一些误分类错误样本，泛化能力强。"
   ]
  },
  {
   "cell_type": "code",
   "execution_count": 45,
   "id": "talented-builder",
   "metadata": {},
   "outputs": [
    {
     "name": "stdout",
     "output_type": "stream",
     "text": [
      "CPU times: user 1h 11min 17s, sys: 8.64 s, total: 1h 11min 26s\n",
      "Wall time: 1h 11min 29s\n"
     ]
    }
   ],
   "source": [
    "%%time\n",
    "train_score = []; val_score = []; train_f1 = []; val_f1 = []\n",
    "for i in range(1,10):\n",
    "    ts = 0; vs = 0; tf = 0; vf = 0\n",
    "    for train_idx,val_idx in skf.split(x_train.values, y_train.values):\n",
    "        clf3 = SVC(C=i)\n",
    "        clf3.fit(x_train_oh.values[train_idx],y_train.values[train_idx])\n",
    "        ts += clf3.score(x_train_oh.values[train_idx],y_train.values[train_idx])\n",
    "        vs += clf3.score(x_train_oh.values[val_idx],y_train.values[val_idx])\n",
    "        tf += f1_score(y_train.values[train_idx],clf3.predict(x_train_oh.values[train_idx]),pos_label=0)\n",
    "        vf += f1_score(y_train.values[val_idx],clf3.predict(x_train_oh.values[val_idx]),pos_label=0)\n",
    "    train_score.append(ts/N) #取每折结果的均值作为该参数下模型表现\n",
    "    val_score.append(vs/N)\n",
    "    train_f1.append(tf/N)\n",
    "    val_f1.append(vf/N)"
   ]
  },
  {
   "cell_type": "code",
   "execution_count": 46,
   "id": "owned-makeup",
   "metadata": {},
   "outputs": [
    {
     "data": {
      "text/plain": [
       "<matplotlib.legend.Legend at 0x7f9152d7ae80>"
      ]
     },
     "execution_count": 46,
     "metadata": {},
     "output_type": "execute_result"
    },
    {
     "data": {
      "image/png": "[encoded data removed]",
      "text/plain": [
       "<Figure size 432x288 with 1 Axes>"
      ]
     },
     "metadata": {
      "needs_background": "light"
     },
     "output_type": "display_data"
    }
   ],
   "source": [
    "plt.figure()\n",
    "plt.title('Support Vector Machine')\n",
    "plt.plot(range(1,10),val_score,label='val_accuracy')\n",
    "plt.plot(range(1,10),train_score,label='train_accuracy')\n",
    "plt.plot(range(1,10),val_f1, '--', label='val_f1')\n",
    "plt.plot(range(1,10),train_f1,'--',label='train_f1')\n",
    "plt.axvline(x=5 , color='green' , linestyle=':')\n",
    "plt.xlabel('C')\n",
    "plt.legend()"
   ]
  },
  {
   "cell_type": "markdown",
   "id": "precious-brave",
   "metadata": {},
   "source": [
    "由图可以看出，随着C的增大，模型准确率在上升，但当C超过5时，训练集准确率上升速度明显超过验证集，验证集准确率上升迟缓，这说明模型有过拟合倾向，泛化能力减弱。所以可以选取C=5作为较佳参数。"
   ]
  },
  {
   "cell_type": "code",
   "execution_count": 47,
   "id": "genetic-shoot",
   "metadata": {},
   "outputs": [
    {
     "name": "stdout",
     "output_type": "stream",
     "text": [
      "Train Accuracy: 0.85468\n",
      "Test Accuracy: 0.84814\n"
     ]
    }
   ],
   "source": [
    "clf3 = SVC(C=5.0)\n",
    "clf3.fit(x_train_oh,y_train)\n",
    "print('Train Accuracy: %.5f' % clf3.score(x_train_oh,y_train))\n",
    "print('Test Accuracy: %.5f'  % clf3.score(x_test_oh,y_test))"
   ]
  },
  {
   "cell_type": "markdown",
   "id": "hourly-georgia",
   "metadata": {},
   "source": [
    "测试集准确率达到了0.848，相比baseline提升了0.012左右。"
   ]
  },
  {
   "cell_type": "markdown",
   "id": "floating-dryer",
   "metadata": {},
   "source": [
    "### 优化：尝试不同核函数\n",
    "\n",
    "SVM的最优化过程中，会使用核技巧，即通过一个非线性变换，将输入空间对应于一个特征空间，使得在输入空间中的超曲面模型对应于特征空间中的超平面模型，这样可以在一定程度上缓解线性不可分问题，提升准确率。\n",
    "\n",
    "默认参数下，SVC指定的核函数为`rbf`，即高斯核函数$\\kappa(\\boldsymbol{x}_i,\\boldsymbol{x}_j)=\\exp\\left(-\\dfrac{||\\boldsymbol{x}_i-\\boldsymbol{x}_j||^2}{2\\sigma^2}\\right)$，在设定惩罚参数不变的情况下，可以尝试不同的核函数：\n",
    "\n",
    "* `linear` 线性核函数$\\kappa(\\boldsymbol{x}_i,\\boldsymbol{x}_j)=\\boldsymbol{x}_i^T\\boldsymbol{x}_j$ \n",
    "* `poly` 多项式核函数$\\kappa(\\boldsymbol{x}_i,\\boldsymbol{x}_j)=(\\boldsymbol{x}_i^T\\boldsymbol{x}_j)^d$\n",
    "* `sigmoid` sigmoid核函数$\\kappa(\\boldsymbol{x}_i,\\boldsymbol{x}_j)=\\tanh{(\\beta\\boldsymbol{x}_i^T\\boldsymbol{x}_j+\\theta)}$\n",
    "* `precomputed` 核矩阵"
   ]
  },
  {
   "cell_type": "code",
   "execution_count": 48,
   "id": "initial-delay",
   "metadata": {},
   "outputs": [
    {
     "name": "stdout",
     "output_type": "stream",
     "text": [
      "CPU times: user 20min 7s, sys: 3.15 s, total: 20min 10s\n",
      "Wall time: 20min 11s\n"
     ]
    }
   ],
   "source": [
    "%%time\n",
    "kernels = ['rbf','linear','poly','sigmoid']\n",
    "train_score = []; val_score = []; train_f1 = []; val_f1 = []\n",
    "for ker in kernels:\n",
    "    ts = 0; vs = 0; tf = 0; vf = 0\n",
    "    for train_idx,val_idx in skf.split(x_train.values, y_train.values):\n",
    "        clf3 = SVC(C=5.0,kernel=ker)\n",
    "        clf3.fit(x_train_oh.values[train_idx],y_train.values[train_idx])\n",
    "        ts += clf3.score(x_train_oh.values[train_idx],y_train.values[train_idx])\n",
    "        vs += clf3.score(x_train_oh.values[val_idx],y_train.values[val_idx])\n",
    "        tf += f1_score(y_train.values[train_idx],clf3.predict(x_train_oh.values[train_idx]),pos_label=0)\n",
    "        vf += f1_score(y_train.values[val_idx],clf3.predict(x_train_oh.values[val_idx]),pos_label=0)\n",
    "    train_score.append(ts/N) #取每折结果的均值作为该参数下模型表现\n",
    "    val_score.append(vs/N)\n",
    "    train_f1.append(tf/N)\n",
    "    val_f1.append(vf/N)"
   ]
  },
  {
   "cell_type": "code",
   "execution_count": 49,
   "id": "imposed-electron",
   "metadata": {},
   "outputs": [
    {
     "data": {
      "text/plain": [
       "<matplotlib.legend.Legend at 0x7f915311b828>"
      ]
     },
     "execution_count": 49,
     "metadata": {},
     "output_type": "execute_result"
    },
    {
     "data": {
      "image/png": "[encoded data removed]",
      "text/plain": [
       "<Figure size 432x288 with 1 Axes>"
      ]
     },
     "metadata": {
      "needs_background": "light"
     },
     "output_type": "display_data"
    }
   ],
   "source": [
    "x = np.arange(4);total_width, n = 0.8, 4\n",
    "width = total_width/n ; x=x-(total_width-width)/2\n",
    "plt.xticks(x+width*1.5,kernels)\n",
    "plt.ylim([0.72,0.92])\n",
    "plt.bar(x,train_score,width=width,label='train_accuracy')\n",
    "plt.bar(x+width,val_score,width=width,label='val_accuracy')\n",
    "plt.bar(x+width*2,train_f1,width=width,label='train_f1')\n",
    "plt.bar(x+width*3,val_f1,width=width,label='val_f1')\n",
    "plt.legend()"
   ]
  },
  {
   "cell_type": "markdown",
   "id": "lesser-selection",
   "metadata": {},
   "source": [
    "由图可知，`rbf`、`linear`、`poly`三种核函数表现优于`sigmoid`，其中`poly`整体有轻微优势，故选为最终最佳核函数。"
   ]
  },
  {
   "cell_type": "code",
   "execution_count": 50,
   "id": "unable-sense",
   "metadata": {},
   "outputs": [
    {
     "name": "stdout",
     "output_type": "stream",
     "text": [
      "Train Accuracy: 0.85707\n",
      "Test Accuracy: 0.84675\n"
     ]
    }
   ],
   "source": [
    "clf3 = SVC(C=5.0,kernel='poly',probability=True)\n",
    "clf3.fit(x_train_oh,y_train)\n",
    "print('Train Accuracy: %.5f' % clf3.score(x_train_oh,y_train))\n",
    "print('Test Accuracy: %.5f'  % clf3.score(x_test_oh,y_test))"
   ]
  },
  {
   "cell_type": "markdown",
   "id": "elect-workplace",
   "metadata": {},
   "source": [
    "# 模型评价Evaluation"
   ]
  },
  {
   "cell_type": "markdown",
   "id": "strange-bread",
   "metadata": {},
   "source": [
    "## 测度指标（precision, recall, f1-score）\n",
    "\n",
    "综合上面的最终参数调整，进行模型表现评估"
   ]
  },
  {
   "cell_type": "code",
   "execution_count": 51,
   "id": "stainless-madrid",
   "metadata": {},
   "outputs": [
    {
     "name": "stdout",
     "output_type": "stream",
     "text": [
      "决策树:\n",
      "               precision    recall  f1-score   support\n",
      "\n",
      "           0     0.8581    0.9446    0.8993     11360\n",
      "           1     0.7537    0.5203    0.6156      3700\n",
      "\n",
      "    accuracy                         0.8404     15060\n",
      "   macro avg     0.8059    0.7325    0.7574     15060\n",
      "weighted avg     0.8324    0.8404    0.8296     15060\n",
      "\n",
      "Adaboost（决策树桩）:\n",
      "               precision    recall  f1-score   support\n",
      "\n",
      "           0     0.8774    0.9347    0.9051     11360\n",
      "           1     0.7492    0.5989    0.6657      3700\n",
      "\n",
      "    accuracy                         0.8522     15060\n",
      "   macro avg     0.8133    0.7668    0.7854     15060\n",
      "weighted avg     0.8459    0.8522    0.8463     15060\n",
      "\n",
      "K近邻:\n",
      "               precision    recall  f1-score   support\n",
      "\n",
      "           0     0.8638    0.9242    0.8930     11360\n",
      "           1     0.7037    0.5527    0.6191      3700\n",
      "\n",
      "    accuracy                         0.8329     15060\n",
      "   macro avg     0.7838    0.7385    0.7561     15060\n",
      "weighted avg     0.8245    0.8329    0.8257     15060\n",
      "\n",
      "支持向量机:\n",
      "               precision    recall  f1-score   support\n",
      "\n",
      "           0     0.8775    0.9261    0.9012     11360\n",
      "           1     0.7267    0.6030    0.6591      3700\n",
      "\n",
      "    accuracy                         0.8467     15060\n",
      "   macro avg     0.8021    0.7646    0.7801     15060\n",
      "weighted avg     0.8404    0.8467    0.8417     15060\n",
      "\n"
     ]
    }
   ],
   "source": [
    "from sklearn.metrics import classification_report\n",
    "\n",
    "print(\"决策树:\\n\",classification_report(y_test, clf.predict(x_test),digits=4))\n",
    "print(\"Adaboost（决策树桩）:\\n\",classification_report(y_test, clf1.predict(x_test),digits=4))\n",
    "print(\"K近邻:\\n\",classification_report(y_test, clf2.predict(x_test_oh),digits=4))\n",
    "print(\"支持向量机:\\n\",classification_report(y_test, clf3.predict(x_test_oh),digits=4))"
   ]
  },
  {
   "cell_type": "markdown",
   "id": "right-virgin",
   "metadata": {},
   "source": [
    "汇总加权平均值，得到下图："
   ]
  },
  {
   "cell_type": "code",
   "execution_count": 55,
   "id": "empirical-gather",
   "metadata": {},
   "outputs": [
    {
     "data": {
      "text/plain": [
       "<matplotlib.legend.Legend at 0x7f9169408ef0>"
      ]
     },
     "execution_count": 55,
     "metadata": {},
     "output_type": "execute_result"
    },
    {
     "data": {
      "image/png": "[encoded data removed]",
      "text/plain": [
       "<Figure size 432x288 with 1 Axes>"
      ]
     },
     "metadata": {
      "needs_background": "light"
     },
     "output_type": "display_data"
    }
   ],
   "source": [
    "x = np.arange(4);total_width, n = 0.8, 4\n",
    "width = total_width/n ; x=x-(total_width-width)/2\n",
    "ticks = ['Decision Tree','Adaboost(DT)','KNN','SVM']\n",
    "f1sc = [0.8296,0.8463,0.8257,0.8417]\n",
    "reca = [0.8404,0.8522,0.8329,0.8467]\n",
    "pres = [0.8324,0.8459,0.8245,0.8404]\n",
    "\n",
    "plt.xticks(x+width,ticks)\n",
    "plt.ylim([0.80,0.87])\n",
    "plt.bar(x,pres,width=width,label='Precision')\n",
    "plt.bar(x+width,reca,width=width,label='Recall')\n",
    "plt.bar(x+width*2,f1sc,width=width,label='F1-Score')\n",
    "plt.legend()"
   ]
  },
  {
   "cell_type": "markdown",
   "id": "significant-walnut",
   "metadata": {},
   "source": [
    "综合以上图表数据可知，从precision、recall、f1score评价指标的角度而言，经过优化的四种分类器在人口数据集上表现均尚可，其中Adaboost（决策树桩基）、SVM的性能要略胜于决策树和K近邻。"
   ]
  },
  {
   "cell_type": "markdown",
   "id": "closed-semiconductor",
   "metadata": {},
   "source": [
    "## ROC & AUC\n",
    "\n",
    "ROC两轴分别为真正例率核假正例率，曲线越接近左上角，对应模型的分类效果越好。AUC时ROC曲线线下面积，衡量了样本预测的排序质量。"
   ]
  },
  {
   "cell_type": "code",
   "execution_count": 58,
   "id": "bottom-album",
   "metadata": {},
   "outputs": [
    {
     "data": {
      "text/plain": [
       "<matplotlib.legend.Legend at 0x7f91552ea0b8>"
      ]
     },
     "execution_count": 58,
     "metadata": {},
     "output_type": "execute_result"
    },
    {
     "data": {
      "image/png": "[encoded data removed]",
      "text/plain": [
       "<Figure size 432x288 with 1 Axes>"
      ]
     },
     "metadata": {
      "needs_background": "light"
     },
     "output_type": "display_data"
    }
   ],
   "source": [
    "from sklearn.metrics import roc_curve,auc\n",
    "def plot_roc(model,label,x_test):\n",
    "    fpr, tpr, _ = roc_curve(y_test,model.predict_proba(x_test)[:,1])\n",
    "    roc_auc = auc(fpr,tpr)\n",
    "    label = label + '[AUC=%0.2f]' % roc_auc\n",
    "    plt.plot(fpr,tpr,label=label)\n",
    "    \n",
    "plt.title('Receiver Operating Characteristic')  \n",
    "plt.ylabel('True Positive Rate');plt.xlabel('False Positive Rate') \n",
    "plt.xlim([-0.01, 1.01]) ; plt.ylim([-0.01, 1.01]) \n",
    "plt.plot([0, 1], [0, 1],'r--')\n",
    "plot_roc(clf,'Decision Tree',x_test)\n",
    "plot_roc(clf1,'Adaboost(DT)',x_test)\n",
    "plot_roc(clf2,'K Nearest Neighbor',x_test_oh)\n",
    "plot_roc(clf3,'Support Vector Machine',x_test_oh)\n",
    "plt.legend()"
   ]
  },
  {
   "cell_type": "markdown",
   "id": "concrete-dallas",
   "metadata": {},
   "source": [
    "从ROC曲线可以看出，四个经优化的模型均有较好的表现，且表现较为接近，这也可以由接近的AUC值进一步验证。由曲线包围情况可以得出的性能大致排名为：Adaboost（决策树桩基）、SVM、决策树、K近邻。"
   ]
  },
  {
   "cell_type": "markdown",
   "id": "romantic-comparative",
   "metadata": {},
   "source": [
    "## PR曲线\n",
    "\n",
    "PR曲线的横纵坐标分别为准确率和召回率，曲线越靠近右上角分类器表现越好。"
   ]
  },
  {
   "cell_type": "code",
   "execution_count": 59,
   "id": "differential-tension",
   "metadata": {},
   "outputs": [
    {
     "data": {
      "text/plain": [
       "<matplotlib.legend.Legend at 0x7f9152f3f320>"
      ]
     },
     "execution_count": 59,
     "metadata": {},
     "output_type": "execute_result"
    },
    {
     "data": {
      "image/png": "[encoded data removed]",
      "text/plain": [
       "<Figure size 432x288 with 1 Axes>"
      ]
     },
     "metadata": {
      "needs_background": "light"
     },
     "output_type": "display_data"
    }
   ],
   "source": [
    "from sklearn.metrics import precision_recall_curve\n",
    "\n",
    "def plot_pr(model,label,x_test):\n",
    "    precision, recall, _ = precision_recall_curve(y_test, model.predict_proba(x_test)[:,1])\n",
    "    plt.step(recall,precision,label=label,where='post')\n",
    "\n",
    "plt.title('Precision Recall Curve')  \n",
    "plt.ylabel('Precision');plt.xlabel('Recall') \n",
    "plt.xlim([-0.01, 1.01]) ; plt.ylim([-0.01, 1.01]) \n",
    "plot_pr(clf,'Decision Tree',x_test)\n",
    "plot_pr(clf1,'Adaboost(DT)',x_test)\n",
    "plot_pr(clf2,'K Nearest Neighbor',x_test_oh)\n",
    "plot_pr(clf3,'Support Vector Machine',x_test_oh)\n",
    "plt.legend()"
   ]
  },
  {
   "cell_type": "markdown",
   "id": "ordered-security",
   "metadata": {},
   "source": [
    "由PR曲线也可判断出四个经优化的分类器性能表现尚可，且近似，性能排名顺序同上。"
   ]
  },
  {
   "cell_type": "markdown",
   "id": "dried-passport",
   "metadata": {},
   "source": [
    "## 训练时间比较"
   ]
  },
  {
   "cell_type": "markdown",
   "id": "structured-recognition",
   "metadata": {},
   "source": [
    "使用JupyterLab的超级命令`%%time`对部分代码块运行时间进行了统计，但是由于这些代码块的参数尝试次数不同，需要进行简单计算后进行比较：\n",
    "\n",
    "|                 | 记录运行时   | 试参轮数 | 实际每轮训练运行时 | 特殊处理           |\n",
    "| --------------- | ------------ | -------- | ------------------ | ------------------ |\n",
    "| 决策树          | 21.3s        | 45       | 0.473s             |                    |\n",
    "| Adaboost        | 22.4s        | 1        | 22.4s              | 200个基学习器      |\n",
    "| K近邻           | 1h 3min 22s  | 20       | 190.1s             | 训练集独热，47属性 |\n",
    "| 支持向量机(rbf) | 1h 11min 29s | 9        | 476.5s             | 训练集独热，47属性 |\n",
    "\n",
    "这里的每轮训练是完成一次完整的5折交叉验证训练，调用一次`fit()`，两次`score()`，两次`predict()`，分别处理训练集和验证集。\n",
    "\n",
    "由于要适应模型特点，K近邻和支持向量机的输入须独热处理，耗时较长。但是实际上，四者性能接近，表现最优的Adaboost实际耗时并不是最长的，但是比剪枝的决策树要略长；rbf作为核函数的支持向量机的训练时间最长，但是表现要优于同样数据独热处理的k近邻。\n",
    "\n",
    "所以，选择模型时，要综合模型性能、数据量选择“性价比”较高的模型。"
   ]
  },
  {
   "cell_type": "markdown",
   "id": "offensive-jason",
   "metadata": {},
   "source": [
    "# 实验总结Summary\n",
    "\n",
    "1. 完成了本次实验要求，完整进行了数据探索、数据处理、模型选择与评价过程，完成了对美国人口普查数据集的一次二分类数据挖掘任务。感觉数据挖掘任务的一个非常重要的环节是数据预处理，这一步需要充分掌握数据的特点，对数据进行合适的处理，数据质量将在很大程度上影响模型的表现。\n",
    "2. 使用4种模型完成分类任务，就本次任务而言，四者模型性能表现均优良，这可能得益于数据量较为充分，数据质量高，类别分布未出现不均匀情况。\n",
    "3. 根据模型的不同计算特点，对部分模型的输入数据进行了追加独热处理，独热处理后计算距离更为科学，但是也增大了计算量。`sklearn`包不支持GPU加速运算，所以在训练上较为耗时。我对部分属性进行了优化，例如国家属性有40个可能取值，独热编码后也就有40个列向量；但是90%的样本该值均为美国，所以我将其简化为二值属性：美国0/非美国1，减少了维度。\n",
    "4. 实验的不足：可以进行特征选择或降维，如上一点中提到的国家属性，这个属性应该由于方差较小被剔除（虽然二值化保留了更多信息），更多的属性可以通过PCA降维等融合为一个属性，这样可以减少计算量，加快运行速度。"
   ]
  }
 ],
 "metadata": {
  "kernelspec": {
   "display_name": "Python 3.6",
   "language": "python",
   "name": "python3"
  },
  "language_info": {
   "codemirror_mode": {
    "name": "ipython",
    "version": 3
   },
   "file_extension": ".py",
   "mimetype": "text/x-python",
   "name": "python",
   "nbconvert_exporter": "python",
   "pygments_lexer": "ipython3",
   "version": "3.6.8"
  }
 },
 "nbformat": 4,
 "nbformat_minor": 5
}
