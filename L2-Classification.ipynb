{
 "cells": [
  {
   "cell_type": "markdown",
   "id": "auburn-porter",
   "metadata": {},
   "source": [
    "## Lab2 Classification\n",
    "\n",
    "1. 数据探索：理解每个属性的分布，或基本描述统计\n",
    "2. 数据清洗：未知值处理。提交构建好的新的训练集、测试集文件\n",
    "3. 模型选择\n",
    "* 至少选择3种分类算法进行模型对比\n",
    "* 使用K折交叉检验，K的数值可以自行设置\n",
    "* 使用多种评价指标\n",
    "* 保存分类结果\n",
    "* 模型优化：特征选择、参数调节\n",
    "4. 结果分析\n",
    "* 生成模型性能对比表格，绘制性能对比图\n",
    "* 分析性能优劣原因，案例分析"
   ]
  },
  {
   "cell_type": "code",
   "execution_count": 1,
   "id": "stopped-seventh",
   "metadata": {},
   "outputs": [],
   "source": [
    "import numpy as np\n",
    "import pandas as pd\n",
    "import matplotlib.pyplot as plt\n",
    "\n",
    "pd.options.display.latex.repr = False"
   ]
  },
  {
   "cell_type": "markdown",
   "id": "industrial-jimmy",
   "metadata": {},
   "source": [
    "# 数据探索EDA\n",
    "\n",
    "阅读 `adult.names` 可以得到完整的对于数据集及任务的描述。\n",
    "\n",
    "数据集共含有14个属性，1个类别属性，48842条记录（随机按照2:1比例分割，分别存于 `adult.data` 和 `adult.test` 中），3620条记录含有缺失值，处理为\"?\"。\n",
    "\n",
    "类别揭示实例的收入，共2类（`>50k`,`<=50k`），比例大致为1:3.\n",
    "\n",
    "14个属性中，离散的属性为\n",
    "\n",
    "> 2.workclass;  4.education;  6.marital-status;  7.occupation;  8.relationship;  9.race;  10.sex;   14.native-country.\n",
    "\n",
    "连续的属性为\n",
    "\n",
    "> 1.age;  3.fnlwgt;  5.education-num;  11.capital-gain;  12.capital-loss;  13.hours-per-week;\n",
    "\n",
    "大多数的属性都是字面意思。`fnlwgt` 解释为一种权重值，某些人口统计学特征相近的记录有相近的`fnlwgt`，但是此规律仅在同一州内生效。"
   ]
  },
  {
   "cell_type": "markdown",
   "id": "growing-poker",
   "metadata": {},
   "source": [
    "## 读取数据"
   ]
  },
  {
   "cell_type": "code",
   "execution_count": 2,
   "id": "dangerous-islam",
   "metadata": {},
   "outputs": [
    {
     "data": {
      "text/html": [
       "<div>\n",
       "<style scoped>\n",
       "    .dataframe tbody tr th:only-of-type {\n",
       "        vertical-align: middle;\n",
       "    }\n",
       "\n",
       "    .dataframe tbody tr th {\n",
       "        vertical-align: top;\n",
       "    }\n",
       "\n",
       "    .dataframe thead th {\n",
       "        text-align: right;\n",
       "    }\n",
       "</style>\n",
       "<table border=\"1\" class=\"dataframe\">\n",
       "  <thead>\n",
       "    <tr style=\"text-align: right;\">\n",
       "      <th></th>\n",
       "      <th>age</th>\n",
       "      <th>workClass</th>\n",
       "      <th>fnlwgt</th>\n",
       "      <th>education</th>\n",
       "      <th>educationNum</th>\n",
       "      <th>martialStatus</th>\n",
       "      <th>occupation</th>\n",
       "      <th>relationship</th>\n",
       "      <th>race</th>\n",
       "      <th>sex</th>\n",
       "      <th>capitalGain</th>\n",
       "      <th>capitalLoss</th>\n",
       "      <th>hoursPerWeek</th>\n",
       "      <th>nativeCountry</th>\n",
       "      <th>income</th>\n",
       "    </tr>\n",
       "  </thead>\n",
       "  <tbody>\n",
       "    <tr>\n",
       "      <th>16278</th>\n",
       "      <td>38</td>\n",
       "      <td>Private</td>\n",
       "      <td>374983</td>\n",
       "      <td>Bachelors</td>\n",
       "      <td>13</td>\n",
       "      <td>Married-civ-spouse</td>\n",
       "      <td>Prof-specialty</td>\n",
       "      <td>Husband</td>\n",
       "      <td>White</td>\n",
       "      <td>Male</td>\n",
       "      <td>0</td>\n",
       "      <td>0</td>\n",
       "      <td>50</td>\n",
       "      <td>United-States</td>\n",
       "      <td>&lt;=50K.</td>\n",
       "    </tr>\n",
       "    <tr>\n",
       "      <th>16279</th>\n",
       "      <td>44</td>\n",
       "      <td>Private</td>\n",
       "      <td>83891</td>\n",
       "      <td>Bachelors</td>\n",
       "      <td>13</td>\n",
       "      <td>Divorced</td>\n",
       "      <td>Adm-clerical</td>\n",
       "      <td>Own-child</td>\n",
       "      <td>Asian-Pac-Islander</td>\n",
       "      <td>Male</td>\n",
       "      <td>5455</td>\n",
       "      <td>0</td>\n",
       "      <td>40</td>\n",
       "      <td>United-States</td>\n",
       "      <td>&lt;=50K.</td>\n",
       "    </tr>\n",
       "    <tr>\n",
       "      <th>16280</th>\n",
       "      <td>35</td>\n",
       "      <td>Self-emp-inc</td>\n",
       "      <td>182148</td>\n",
       "      <td>Bachelors</td>\n",
       "      <td>13</td>\n",
       "      <td>Married-civ-spouse</td>\n",
       "      <td>Exec-managerial</td>\n",
       "      <td>Husband</td>\n",
       "      <td>White</td>\n",
       "      <td>Male</td>\n",
       "      <td>0</td>\n",
       "      <td>0</td>\n",
       "      <td>60</td>\n",
       "      <td>United-States</td>\n",
       "      <td>&gt;50K.</td>\n",
       "    </tr>\n",
       "  </tbody>\n",
       "</table>\n",
       "</div>"
      ],
      "text/plain": [
       "       age      workClass  fnlwgt   education  educationNum  \\\n",
       "16278   38        Private  374983   Bachelors            13   \n",
       "16279   44        Private   83891   Bachelors            13   \n",
       "16280   35   Self-emp-inc  182148   Bachelors            13   \n",
       "\n",
       "             martialStatus        occupation relationship  \\\n",
       "16278   Married-civ-spouse    Prof-specialty      Husband   \n",
       "16279             Divorced      Adm-clerical    Own-child   \n",
       "16280   Married-civ-spouse   Exec-managerial      Husband   \n",
       "\n",
       "                      race    sex  capitalGain  capitalLoss  hoursPerWeek  \\\n",
       "16278                White   Male            0            0            50   \n",
       "16279   Asian-Pac-Islander   Male         5455            0            40   \n",
       "16280                White   Male            0            0            60   \n",
       "\n",
       "        nativeCountry   income  \n",
       "16278   United-States   <=50K.  \n",
       "16279   United-States   <=50K.  \n",
       "16280   United-States    >50K.  "
      ]
     },
     "execution_count": 2,
     "metadata": {},
     "output_type": "execute_result"
    }
   ],
   "source": [
    "columns = ['age','workClass','fnlwgt','education','educationNum','martialStatus','occupation','relationship','race','sex','capitalGain','capitalLoss','hoursPerWeek','nativeCountry','income']\n",
    "train = pd.read_csv('./data/adult.data',header=None,names=columns) # 源数据没有字段行\n",
    "test = pd.read_csv('./data/adult.test',header=None,names=columns,skiprows=1) # 源数据第一行不是记录\n",
    "data = pd.concat([train,test])\n",
    "data.tail(3)"
   ]
  },
  {
   "cell_type": "markdown",
   "id": "alert-optimum",
   "metadata": {},
   "source": [
    "## 描述性统计"
   ]
  },
  {
   "cell_type": "code",
   "execution_count": 3,
   "id": "spread-effects",
   "metadata": {},
   "outputs": [
    {
     "data": {
      "text/html": [
       "<div>\n",
       "<style scoped>\n",
       "    .dataframe tbody tr th:only-of-type {\n",
       "        vertical-align: middle;\n",
       "    }\n",
       "\n",
       "    .dataframe tbody tr th {\n",
       "        vertical-align: top;\n",
       "    }\n",
       "\n",
       "    .dataframe thead th {\n",
       "        text-align: right;\n",
       "    }\n",
       "</style>\n",
       "<table border=\"1\" class=\"dataframe\">\n",
       "  <thead>\n",
       "    <tr style=\"text-align: right;\">\n",
       "      <th></th>\n",
       "      <th>workClass</th>\n",
       "      <th>education</th>\n",
       "      <th>martialStatus</th>\n",
       "      <th>occupation</th>\n",
       "      <th>relationship</th>\n",
       "      <th>race</th>\n",
       "      <th>sex</th>\n",
       "      <th>nativeCountry</th>\n",
       "      <th>income</th>\n",
       "    </tr>\n",
       "  </thead>\n",
       "  <tbody>\n",
       "    <tr>\n",
       "      <th>count</th>\n",
       "      <td>32561</td>\n",
       "      <td>32561</td>\n",
       "      <td>32561</td>\n",
       "      <td>32561</td>\n",
       "      <td>32561</td>\n",
       "      <td>32561</td>\n",
       "      <td>32561</td>\n",
       "      <td>32561</td>\n",
       "      <td>32561</td>\n",
       "    </tr>\n",
       "    <tr>\n",
       "      <th>unique</th>\n",
       "      <td>9</td>\n",
       "      <td>16</td>\n",
       "      <td>7</td>\n",
       "      <td>15</td>\n",
       "      <td>6</td>\n",
       "      <td>5</td>\n",
       "      <td>2</td>\n",
       "      <td>42</td>\n",
       "      <td>2</td>\n",
       "    </tr>\n",
       "    <tr>\n",
       "      <th>top</th>\n",
       "      <td>Private</td>\n",
       "      <td>HS-grad</td>\n",
       "      <td>Married-civ-spouse</td>\n",
       "      <td>Prof-specialty</td>\n",
       "      <td>Husband</td>\n",
       "      <td>White</td>\n",
       "      <td>Male</td>\n",
       "      <td>United-States</td>\n",
       "      <td>&lt;=50K</td>\n",
       "    </tr>\n",
       "    <tr>\n",
       "      <th>freq</th>\n",
       "      <td>22696</td>\n",
       "      <td>10501</td>\n",
       "      <td>14976</td>\n",
       "      <td>4140</td>\n",
       "      <td>13193</td>\n",
       "      <td>27816</td>\n",
       "      <td>21790</td>\n",
       "      <td>29170</td>\n",
       "      <td>24720</td>\n",
       "    </tr>\n",
       "  </tbody>\n",
       "</table>\n",
       "</div>"
      ],
      "text/plain": [
       "       workClass education        martialStatus       occupation relationship  \\\n",
       "count      32561     32561                32561            32561        32561   \n",
       "unique         9        16                    7               15            6   \n",
       "top      Private   HS-grad   Married-civ-spouse   Prof-specialty      Husband   \n",
       "freq       22696     10501                14976             4140        13193   \n",
       "\n",
       "          race    sex   nativeCountry  income  \n",
       "count    32561  32561           32561   32561  \n",
       "unique       5      2              42       2  \n",
       "top      White   Male   United-States   <=50K  \n",
       "freq     27816  21790           29170   24720  "
      ]
     },
     "metadata": {},
     "output_type": "display_data"
    },
    {
     "data": {
      "text/html": [
       "<div>\n",
       "<style scoped>\n",
       "    .dataframe tbody tr th:only-of-type {\n",
       "        vertical-align: middle;\n",
       "    }\n",
       "\n",
       "    .dataframe tbody tr th {\n",
       "        vertical-align: top;\n",
       "    }\n",
       "\n",
       "    .dataframe thead th {\n",
       "        text-align: right;\n",
       "    }\n",
       "</style>\n",
       "<table border=\"1\" class=\"dataframe\">\n",
       "  <thead>\n",
       "    <tr style=\"text-align: right;\">\n",
       "      <th></th>\n",
       "      <th>workClass</th>\n",
       "      <th>education</th>\n",
       "      <th>martialStatus</th>\n",
       "      <th>occupation</th>\n",
       "      <th>relationship</th>\n",
       "      <th>race</th>\n",
       "      <th>sex</th>\n",
       "      <th>nativeCountry</th>\n",
       "      <th>income</th>\n",
       "    </tr>\n",
       "  </thead>\n",
       "  <tbody>\n",
       "    <tr>\n",
       "      <th>count</th>\n",
       "      <td>16281</td>\n",
       "      <td>16281</td>\n",
       "      <td>16281</td>\n",
       "      <td>16281</td>\n",
       "      <td>16281</td>\n",
       "      <td>16281</td>\n",
       "      <td>16281</td>\n",
       "      <td>16281</td>\n",
       "      <td>16281</td>\n",
       "    </tr>\n",
       "    <tr>\n",
       "      <th>unique</th>\n",
       "      <td>9</td>\n",
       "      <td>16</td>\n",
       "      <td>7</td>\n",
       "      <td>15</td>\n",
       "      <td>6</td>\n",
       "      <td>5</td>\n",
       "      <td>2</td>\n",
       "      <td>41</td>\n",
       "      <td>2</td>\n",
       "    </tr>\n",
       "    <tr>\n",
       "      <th>top</th>\n",
       "      <td>Private</td>\n",
       "      <td>HS-grad</td>\n",
       "      <td>Married-civ-spouse</td>\n",
       "      <td>Prof-specialty</td>\n",
       "      <td>Husband</td>\n",
       "      <td>White</td>\n",
       "      <td>Male</td>\n",
       "      <td>United-States</td>\n",
       "      <td>&lt;=50K.</td>\n",
       "    </tr>\n",
       "    <tr>\n",
       "      <th>freq</th>\n",
       "      <td>11210</td>\n",
       "      <td>5283</td>\n",
       "      <td>7403</td>\n",
       "      <td>2032</td>\n",
       "      <td>6523</td>\n",
       "      <td>13946</td>\n",
       "      <td>10860</td>\n",
       "      <td>14662</td>\n",
       "      <td>12435</td>\n",
       "    </tr>\n",
       "  </tbody>\n",
       "</table>\n",
       "</div>"
      ],
      "text/plain": [
       "       workClass education        martialStatus       occupation relationship  \\\n",
       "count      16281     16281                16281            16281        16281   \n",
       "unique         9        16                    7               15            6   \n",
       "top      Private   HS-grad   Married-civ-spouse   Prof-specialty      Husband   \n",
       "freq       11210      5283                 7403             2032         6523   \n",
       "\n",
       "          race    sex   nativeCountry   income  \n",
       "count    16281  16281           16281    16281  \n",
       "unique       5      2              41        2  \n",
       "top      White   Male   United-States   <=50K.  \n",
       "freq     13946  10860           14662    12435  "
      ]
     },
     "metadata": {},
     "output_type": "display_data"
    }
   ],
   "source": [
    "display(train.iloc[:,[1,3,5,6,7,8,9,13,14]].describe()) # 离散型数据\n",
    "display(test.iloc[:,[1,3,5,6,7,8,9,13,14]].describe()) # 离散型数据"
   ]
  },
  {
   "cell_type": "markdown",
   "id": "raised-chambers",
   "metadata": {},
   "source": [
    "**注意：离散属性的unique值包含了\"?\"，缺失值**\n",
    "\n",
    "**要点1：test数据集中，两种标签分别比train多了句号**\n",
    "\n",
    "> 下一步处理方案： $>50K. \\rightarrow >50K; \\ <=50K. \\rightarrow <=50K$ "
   ]
  },
  {
   "cell_type": "code",
   "execution_count": 4,
   "id": "realistic-navigation",
   "metadata": {},
   "outputs": [
    {
     "data": {
      "text/html": [
       "<div>\n",
       "<style scoped>\n",
       "    .dataframe tbody tr th:only-of-type {\n",
       "        vertical-align: middle;\n",
       "    }\n",
       "\n",
       "    .dataframe tbody tr th {\n",
       "        vertical-align: top;\n",
       "    }\n",
       "\n",
       "    .dataframe thead th {\n",
       "        text-align: right;\n",
       "    }\n",
       "</style>\n",
       "<table border=\"1\" class=\"dataframe\">\n",
       "  <thead>\n",
       "    <tr style=\"text-align: right;\">\n",
       "      <th></th>\n",
       "      <th>age</th>\n",
       "      <th>fnlwgt</th>\n",
       "      <th>educationNum</th>\n",
       "      <th>capitalGain</th>\n",
       "      <th>capitalLoss</th>\n",
       "      <th>hoursPerWeek</th>\n",
       "    </tr>\n",
       "  </thead>\n",
       "  <tbody>\n",
       "    <tr>\n",
       "      <th>count</th>\n",
       "      <td>32561.000000</td>\n",
       "      <td>3.256100e+04</td>\n",
       "      <td>32561.000000</td>\n",
       "      <td>32561.000000</td>\n",
       "      <td>32561.000000</td>\n",
       "      <td>32561.000000</td>\n",
       "    </tr>\n",
       "    <tr>\n",
       "      <th>mean</th>\n",
       "      <td>38.581647</td>\n",
       "      <td>1.897784e+05</td>\n",
       "      <td>10.080679</td>\n",
       "      <td>1077.648844</td>\n",
       "      <td>87.303830</td>\n",
       "      <td>40.437456</td>\n",
       "    </tr>\n",
       "    <tr>\n",
       "      <th>std</th>\n",
       "      <td>13.640433</td>\n",
       "      <td>1.055500e+05</td>\n",
       "      <td>2.572720</td>\n",
       "      <td>7385.292085</td>\n",
       "      <td>402.960219</td>\n",
       "      <td>12.347429</td>\n",
       "    </tr>\n",
       "    <tr>\n",
       "      <th>min</th>\n",
       "      <td>17.000000</td>\n",
       "      <td>1.228500e+04</td>\n",
       "      <td>1.000000</td>\n",
       "      <td>0.000000</td>\n",
       "      <td>0.000000</td>\n",
       "      <td>1.000000</td>\n",
       "    </tr>\n",
       "    <tr>\n",
       "      <th>25%</th>\n",
       "      <td>28.000000</td>\n",
       "      <td>1.178270e+05</td>\n",
       "      <td>9.000000</td>\n",
       "      <td>0.000000</td>\n",
       "      <td>0.000000</td>\n",
       "      <td>40.000000</td>\n",
       "    </tr>\n",
       "    <tr>\n",
       "      <th>50%</th>\n",
       "      <td>37.000000</td>\n",
       "      <td>1.783560e+05</td>\n",
       "      <td>10.000000</td>\n",
       "      <td>0.000000</td>\n",
       "      <td>0.000000</td>\n",
       "      <td>40.000000</td>\n",
       "    </tr>\n",
       "    <tr>\n",
       "      <th>75%</th>\n",
       "      <td>48.000000</td>\n",
       "      <td>2.370510e+05</td>\n",
       "      <td>12.000000</td>\n",
       "      <td>0.000000</td>\n",
       "      <td>0.000000</td>\n",
       "      <td>45.000000</td>\n",
       "    </tr>\n",
       "    <tr>\n",
       "      <th>max</th>\n",
       "      <td>90.000000</td>\n",
       "      <td>1.484705e+06</td>\n",
       "      <td>16.000000</td>\n",
       "      <td>99999.000000</td>\n",
       "      <td>4356.000000</td>\n",
       "      <td>99.000000</td>\n",
       "    </tr>\n",
       "  </tbody>\n",
       "</table>\n",
       "</div>"
      ],
      "text/plain": [
       "                age        fnlwgt  educationNum   capitalGain   capitalLoss  \\\n",
       "count  32561.000000  3.256100e+04  32561.000000  32561.000000  32561.000000   \n",
       "mean      38.581647  1.897784e+05     10.080679   1077.648844     87.303830   \n",
       "std       13.640433  1.055500e+05      2.572720   7385.292085    402.960219   \n",
       "min       17.000000  1.228500e+04      1.000000      0.000000      0.000000   \n",
       "25%       28.000000  1.178270e+05      9.000000      0.000000      0.000000   \n",
       "50%       37.000000  1.783560e+05     10.000000      0.000000      0.000000   \n",
       "75%       48.000000  2.370510e+05     12.000000      0.000000      0.000000   \n",
       "max       90.000000  1.484705e+06     16.000000  99999.000000   4356.000000   \n",
       "\n",
       "       hoursPerWeek  \n",
       "count  32561.000000  \n",
       "mean      40.437456  \n",
       "std       12.347429  \n",
       "min        1.000000  \n",
       "25%       40.000000  \n",
       "50%       40.000000  \n",
       "75%       45.000000  \n",
       "max       99.000000  "
      ]
     },
     "metadata": {},
     "output_type": "display_data"
    },
    {
     "data": {
      "text/html": [
       "<div>\n",
       "<style scoped>\n",
       "    .dataframe tbody tr th:only-of-type {\n",
       "        vertical-align: middle;\n",
       "    }\n",
       "\n",
       "    .dataframe tbody tr th {\n",
       "        vertical-align: top;\n",
       "    }\n",
       "\n",
       "    .dataframe thead th {\n",
       "        text-align: right;\n",
       "    }\n",
       "</style>\n",
       "<table border=\"1\" class=\"dataframe\">\n",
       "  <thead>\n",
       "    <tr style=\"text-align: right;\">\n",
       "      <th></th>\n",
       "      <th>age</th>\n",
       "      <th>fnlwgt</th>\n",
       "      <th>educationNum</th>\n",
       "      <th>capitalGain</th>\n",
       "      <th>capitalLoss</th>\n",
       "      <th>hoursPerWeek</th>\n",
       "    </tr>\n",
       "  </thead>\n",
       "  <tbody>\n",
       "    <tr>\n",
       "      <th>count</th>\n",
       "      <td>16281.000000</td>\n",
       "      <td>1.628100e+04</td>\n",
       "      <td>16281.000000</td>\n",
       "      <td>16281.000000</td>\n",
       "      <td>16281.000000</td>\n",
       "      <td>16281.000000</td>\n",
       "    </tr>\n",
       "    <tr>\n",
       "      <th>mean</th>\n",
       "      <td>38.767459</td>\n",
       "      <td>1.894357e+05</td>\n",
       "      <td>10.072907</td>\n",
       "      <td>1081.905104</td>\n",
       "      <td>87.899269</td>\n",
       "      <td>40.392236</td>\n",
       "    </tr>\n",
       "    <tr>\n",
       "      <th>std</th>\n",
       "      <td>13.849187</td>\n",
       "      <td>1.057149e+05</td>\n",
       "      <td>2.567545</td>\n",
       "      <td>7583.935968</td>\n",
       "      <td>403.105286</td>\n",
       "      <td>12.479332</td>\n",
       "    </tr>\n",
       "    <tr>\n",
       "      <th>min</th>\n",
       "      <td>17.000000</td>\n",
       "      <td>1.349200e+04</td>\n",
       "      <td>1.000000</td>\n",
       "      <td>0.000000</td>\n",
       "      <td>0.000000</td>\n",
       "      <td>1.000000</td>\n",
       "    </tr>\n",
       "    <tr>\n",
       "      <th>25%</th>\n",
       "      <td>28.000000</td>\n",
       "      <td>1.167360e+05</td>\n",
       "      <td>9.000000</td>\n",
       "      <td>0.000000</td>\n",
       "      <td>0.000000</td>\n",
       "      <td>40.000000</td>\n",
       "    </tr>\n",
       "    <tr>\n",
       "      <th>50%</th>\n",
       "      <td>37.000000</td>\n",
       "      <td>1.778310e+05</td>\n",
       "      <td>10.000000</td>\n",
       "      <td>0.000000</td>\n",
       "      <td>0.000000</td>\n",
       "      <td>40.000000</td>\n",
       "    </tr>\n",
       "    <tr>\n",
       "      <th>75%</th>\n",
       "      <td>48.000000</td>\n",
       "      <td>2.383840e+05</td>\n",
       "      <td>12.000000</td>\n",
       "      <td>0.000000</td>\n",
       "      <td>0.000000</td>\n",
       "      <td>45.000000</td>\n",
       "    </tr>\n",
       "    <tr>\n",
       "      <th>max</th>\n",
       "      <td>90.000000</td>\n",
       "      <td>1.490400e+06</td>\n",
       "      <td>16.000000</td>\n",
       "      <td>99999.000000</td>\n",
       "      <td>3770.000000</td>\n",
       "      <td>99.000000</td>\n",
       "    </tr>\n",
       "  </tbody>\n",
       "</table>\n",
       "</div>"
      ],
      "text/plain": [
       "                age        fnlwgt  educationNum   capitalGain   capitalLoss  \\\n",
       "count  16281.000000  1.628100e+04  16281.000000  16281.000000  16281.000000   \n",
       "mean      38.767459  1.894357e+05     10.072907   1081.905104     87.899269   \n",
       "std       13.849187  1.057149e+05      2.567545   7583.935968    403.105286   \n",
       "min       17.000000  1.349200e+04      1.000000      0.000000      0.000000   \n",
       "25%       28.000000  1.167360e+05      9.000000      0.000000      0.000000   \n",
       "50%       37.000000  1.778310e+05     10.000000      0.000000      0.000000   \n",
       "75%       48.000000  2.383840e+05     12.000000      0.000000      0.000000   \n",
       "max       90.000000  1.490400e+06     16.000000  99999.000000   3770.000000   \n",
       "\n",
       "       hoursPerWeek  \n",
       "count  16281.000000  \n",
       "mean      40.392236  \n",
       "std       12.479332  \n",
       "min        1.000000  \n",
       "25%       40.000000  \n",
       "50%       40.000000  \n",
       "75%       45.000000  \n",
       "max       99.000000  "
      ]
     },
     "metadata": {},
     "output_type": "display_data"
    }
   ],
   "source": [
    "display(train.iloc[:,[0,2,4,10,11,12]].describe()) #连续型数据\n",
    "display(test.iloc[:,[0,2,4,10,11,12]].describe()) #连续型数据"
   ]
  },
  {
   "cell_type": "code",
   "execution_count": 5,
   "id": "cross-climb",
   "metadata": {},
   "outputs": [
    {
     "data": {
      "text/plain": [
       "count      2712\n",
       "unique        2\n",
       "top        >50K\n",
       "freq       1677\n",
       "Name: income, dtype: object"
      ]
     },
     "execution_count": 5,
     "metadata": {},
     "output_type": "execute_result"
    }
   ],
   "source": [
    "train[train.capitalGain != 0].income.describe()"
   ]
  },
  {
   "cell_type": "code",
   "execution_count": 6,
   "id": "honey-logic",
   "metadata": {},
   "outputs": [
    {
     "data": {
      "text/plain": [
       "count      1519\n",
       "unique        2\n",
       "top        >50K\n",
       "freq        773\n",
       "Name: income, dtype: object"
      ]
     },
     "execution_count": 6,
     "metadata": {},
     "output_type": "execute_result"
    }
   ],
   "source": [
    "train[train.capitalLoss != 0].income.describe()"
   ]
  },
  {
   "cell_type": "markdown",
   "id": "ordered-handle",
   "metadata": {},
   "source": [
    "**要点2：`capitalGain`、`capitalLoss`超过75%的数据同为0. 抽取非0数据后，各自类别分布与整体不同，说明这个属性对收入分类有一定贡献。**\n",
    "\n",
    "> 下一步处理：但是为0值的样本较多，可以考虑较少类别的离散化。"
   ]
  },
  {
   "cell_type": "markdown",
   "id": "found-titanium",
   "metadata": {},
   "source": [
    "## 个别属性理解"
   ]
  },
  {
   "cell_type": "code",
   "execution_count": 7,
   "id": "hearing-owner",
   "metadata": {},
   "outputs": [
    {
     "data": {
      "text/plain": [
       "21"
      ]
     },
     "execution_count": 7,
     "metadata": {},
     "output_type": "execute_result"
    }
   ],
   "source": [
    "data.groupby(by=['fnlwgt']).count().iloc[:,0].sort_values(ascending=False).max()"
   ]
  },
  {
   "cell_type": "code",
   "execution_count": 8,
   "id": "temporal-bench",
   "metadata": {},
   "outputs": [
    {
     "data": {
      "text/plain": [
       "(0.0, 700000.0)"
      ]
     },
     "execution_count": 8,
     "metadata": {},
     "output_type": "execute_result"
    },
    {
     "data": {
      "image/png": "[encoded data removed]",
      "text/plain": [
       "<Figure size 432x288 with 1 Axes>"
      ]
     },
     "metadata": {
      "needs_background": "light"
     },
     "output_type": "display_data"
    }
   ],
   "source": [
    "ax = data.fnlwgt.plot.kde()\n",
    "ax.set_xlim([0,700000])"
   ]
  },
  {
   "cell_type": "markdown",
   "id": "veterinary-magazine",
   "metadata": {},
   "source": [
    "**要点3：很多网上的分析把fnlwgt解读为id序号，实际上并不是（因为这里可以看到不唯一）。fnlwgt值有一定的分布规律。但是考虑数据集的解读，fnlwgt和部分人口统计学特征有重复表达，所以可以考虑去除该属性或者与某些属性进行综合。**"
   ]
  },
  {
   "cell_type": "markdown",
   "id": "cooked-southeast",
   "metadata": {},
   "source": [
    "## 缺失值探索"
   ]
  },
  {
   "cell_type": "code",
   "execution_count": 9,
   "id": "verified-xerox",
   "metadata": {},
   "outputs": [
    {
     "name": "stdout",
     "output_type": "stream",
     "text": [
      "<class 'pandas.core.frame.DataFrame'>\n",
      "RangeIndex: 32561 entries, 0 to 32560\n",
      "Data columns (total 15 columns):\n",
      " #   Column         Non-Null Count  Dtype \n",
      "---  ------         --------------  ----- \n",
      " 0   age            32561 non-null  int64 \n",
      " 1   workClass      30725 non-null  object\n",
      " 2   fnlwgt         32561 non-null  int64 \n",
      " 3   education      32561 non-null  object\n",
      " 4   educationNum   32561 non-null  int64 \n",
      " 5   martialStatus  32561 non-null  object\n",
      " 6   occupation     30718 non-null  object\n",
      " 7   relationship   32561 non-null  object\n",
      " 8   race           32561 non-null  object\n",
      " 9   sex            32561 non-null  object\n",
      " 10  capitalGain    32561 non-null  int64 \n",
      " 11  capitalLoss    32561 non-null  int64 \n",
      " 12  hoursPerWeek   32561 non-null  int64 \n",
      " 13  nativeCountry  31978 non-null  object\n",
      " 14  income         32561 non-null  object\n",
      "dtypes: int64(6), object(9)\n",
      "memory usage: 3.7+ MB\n"
     ]
    }
   ],
   "source": [
    "train.replace(' ?',np.nan).info()"
   ]
  },
  {
   "cell_type": "markdown",
   "id": "western-quantum",
   "metadata": {},
   "source": [
    "**要点4： 出现缺失值的字段有 `workClass`, `occupation`, `nativeCountry`。**\n",
    "\n",
    "> 下一步处理：这三个变量都是离散型变量，可以考虑使用众数替换的方法填充缺失值。也可以先删除。"
   ]
  },
  {
   "cell_type": "code",
   "execution_count": 10,
   "id": "burning-terry",
   "metadata": {},
   "outputs": [
    {
     "data": {
      "text/plain": [
       "count       2399\n",
       "unique         2\n",
       "top        <=50K\n",
       "freq        2066\n",
       "Name: income, dtype: object"
      ]
     },
     "execution_count": 10,
     "metadata": {},
     "output_type": "execute_result"
    }
   ],
   "source": [
    "train[(train.workClass==' ?') | (train.occupation==' ?') | (train.nativeCountry==' ?')].income.describe()"
   ]
  },
  {
   "cell_type": "code",
   "execution_count": 11,
   "id": "becoming-duncan",
   "metadata": {},
   "outputs": [
    {
     "data": {
      "text/plain": [
       "count        1221\n",
       "unique          2\n",
       "top        <=50K.\n",
       "freq         1075\n",
       "Name: income, dtype: object"
      ]
     },
     "execution_count": 11,
     "metadata": {},
     "output_type": "execute_result"
    }
   ],
   "source": [
    "test[(test.workClass==' ?') | (test.occupation==' ?') | (test.nativeCountry==' ?')].income.describe()"
   ]
  },
  {
   "cell_type": "markdown",
   "id": "filled-scotland",
   "metadata": {},
   "source": [
    "全部删除，会导致训练集样本减少11.12%，但是相比于给每个属性带来一定的不准确的众数填充，建立baseline时最好还是删除这些含缺失属性的记录为好。"
   ]
  },
  {
   "cell_type": "markdown",
   "id": "induced-passing",
   "metadata": {},
   "source": [
    "## 重复值探索"
   ]
  },
  {
   "cell_type": "code",
   "execution_count": 12,
   "id": "unable-ranch",
   "metadata": {},
   "outputs": [
    {
     "data": {
      "text/plain": [
       "array([[' Preschool', 1],\n",
       "       [' 1st-4th', 2],\n",
       "       [' 5th-6th', 3],\n",
       "       [' 7th-8th', 4],\n",
       "       [' 9th', 5],\n",
       "       [' 10th', 6],\n",
       "       [' 11th', 7],\n",
       "       [' 12th', 8],\n",
       "       [' HS-grad', 9],\n",
       "       [' Some-college', 10],\n",
       "       [' Assoc-voc', 11],\n",
       "       [' Assoc-acdm', 12],\n",
       "       [' Bachelors', 13],\n",
       "       [' Masters', 14],\n",
       "       [' Prof-school', 15],\n",
       "       [' Doctorate', 16]], dtype=object)"
      ]
     },
     "execution_count": 12,
     "metadata": {},
     "output_type": "execute_result"
    }
   ],
   "source": [
    "data.drop_duplicates(subset=['education','educationNum']).iloc[:,3:5].sort_values(by='educationNum').values"
   ]
  },
  {
   "cell_type": "markdown",
   "id": "adolescent-visitor",
   "metadata": {},
   "source": [
    "**要点5：整个数据集上， `education` 字段和 `educationNum` 字段都是一一对应的，只有16种组合，出现属性冗余现象。**"
   ]
  },
  {
   "cell_type": "markdown",
   "id": "fleet-serial",
   "metadata": {},
   "source": [
    "# 数据处理DP\n",
    "\n",
    "数据处理部分主要分以下几个任务：\n",
    "* 错误值修正（1）\n",
    "* 重复值处理（5）\n",
    "* 缺失值处理（4）\n",
    "\n",
    "余下的属性离散化（2）、不明属性处理（3）可以留到模型部分，根据表现适当处理。"
   ]
  },
  {
   "cell_type": "markdown",
   "id": "infrared-commissioner",
   "metadata": {},
   "source": [
    "## 错误值修正"
   ]
  },
  {
   "cell_type": "code",
   "execution_count": 13,
   "id": "alternative-reception",
   "metadata": {},
   "outputs": [],
   "source": [
    "test['income'] = test['income'].apply(lambda x : x.replace('.',''))"
   ]
  },
  {
   "cell_type": "markdown",
   "id": "silver-taste",
   "metadata": {},
   "source": [
    "## 重复值处理\n",
    "\n",
    "直接删除`education`列\n"
   ]
  },
  {
   "cell_type": "code",
   "execution_count": 14,
   "id": "annoying-probability",
   "metadata": {},
   "outputs": [],
   "source": [
    "train = train.drop(['education'],axis=1)\n",
    "test = test.drop(['education'],axis=1)"
   ]
  },
  {
   "cell_type": "markdown",
   "id": "unnecessary-jesus",
   "metadata": {},
   "source": [
    "## 缺失值处理\n",
    "\n",
    "本例的缺失值都来自于离散属性，可以采用众数填充也可以采用删除的方式，为提升baseline可靠性，这里采用删除含缺失值记录的方式。\n",
    "\n",
    "数据中缺失值以` ?`代替，可以考虑替换为`NaN`后批量删除"
   ]
  },
  {
   "cell_type": "code",
   "execution_count": 15,
   "id": "agricultural-pulse",
   "metadata": {},
   "outputs": [],
   "source": [
    "train = train.replace(' ?',np.nan)\n",
    "test = test.replace(' ?',np.nan)"
   ]
  },
  {
   "cell_type": "code",
   "execution_count": 16,
   "id": "subject-drink",
   "metadata": {},
   "outputs": [],
   "source": [
    "train = train.dropna(axis=0,how='any')\n",
    "test = test.dropna(axis=0,how='any')"
   ]
  },
  {
   "cell_type": "markdown",
   "id": "nervous-sandwich",
   "metadata": {},
   "source": [
    "## 数据保存"
   ]
  },
  {
   "cell_type": "code",
   "execution_count": 17,
   "id": "upper-advertising",
   "metadata": {},
   "outputs": [],
   "source": [
    "train.to_csv('./data/adult.proc.data',index=False)\n",
    "test.to_csv('./data/adult.proc.test',index=False)"
   ]
  },
  {
   "cell_type": "markdown",
   "id": "facial-appendix",
   "metadata": {},
   "source": [
    "# 分类模型Models"
   ]
  },
  {
   "cell_type": "markdown",
   "id": "labeled-gasoline",
   "metadata": {},
   "source": [
    "### 准备：读取并分割数据集\n",
    "\n",
    "在上一节已经处理好了数据集，由于所给训练集和测试集数量都很大，且样本类别没有出现极度不均衡的现象，所以可以从训练数据中分割出训练集和验证集，用于模型训练和评估便于优化，而原测试集可以用于最终的表现评价。\n",
    "\n",
    "因为训练集数量很大，所以可以采用K折交叉验证的方式进行模型训练。基本思路就是将样本分割为$k$份，选取$k-1$份为训练集，$1$份为验证集进行交叉模型训练。"
   ]
  },
  {
   "cell_type": "code",
   "execution_count": 18,
   "id": "polish-finish",
   "metadata": {},
   "outputs": [],
   "source": [
    "train = pd.read_csv('./data/adult.proc.data')\n",
    "test = pd.read_csv('./data/adult.proc.test')\n",
    "x_train = train.iloc[:,:-1]\n",
    "y_train = train.iloc[:,-1:]\n",
    "x_test = test.iloc[:,:-1]\n",
    "y_test = test.iloc[:,-1:]"
   ]
  },
  {
   "cell_type": "code",
   "execution_count": 19,
   "id": "defined-concert",
   "metadata": {},
   "outputs": [],
   "source": [
    "from sklearn.model_selection import StratifiedKFold\n",
    "\n",
    "N = 5 # 5折交叉验证\n",
    "skf = StratifiedKFold(n_splits=N,random_state=101,shuffle=True)"
   ]
  },
  {
   "cell_type": "markdown",
   "id": "married-president",
   "metadata": {},
   "source": [
    "相比于使用`KFold()`，使用`StratifiedKFold()`可以保证每次分割样本的类别分布与整体一致。"
   ]
  },
  {
   "cell_type": "markdown",
   "id": "processed-capacity",
   "metadata": {},
   "source": [
    "## 决策树DT"
   ]
  },
  {
   "cell_type": "markdown",
   "id": "digital-infrastructure",
   "metadata": {},
   "source": [
    "### Baseline\n",
    "\n",
    "根据模型特点，进行一点额外的数据处理。`sklearn`的决策树不能接收字符型变量输入，所以需要进行转化。这里采用整数编码的方法。"
   ]
  },
  {
   "cell_type": "code",
   "execution_count": 20,
   "id": "solid-valuable",
   "metadata": {},
   "outputs": [],
   "source": [
    "from sklearn.preprocessing import LabelEncoder\n",
    "\n",
    "strFields = ['workClass','martialStatus','occupation','relationship','race','sex','nativeCountry']\n",
    "for field in strFields:\n",
    "    le = LabelEncoder()\n",
    "    le = le.fit(np.unique(x_train[field].values))\n",
    "    train_temp = le.transform(x_train[field].values)\n",
    "    test_temp = le.transform(x_test[field].values)\n",
    "    x_train[field] = pd.DataFrame(train_temp,columns=[field])\n",
    "    x_test[field] = pd.DataFrame(test_temp,columns=[field])"
   ]
  },
  {
   "cell_type": "code",
   "execution_count": 21,
   "id": "encouraging-makeup",
   "metadata": {},
   "outputs": [
    {
     "data": {
      "text/plain": [
       "DecisionTreeClassifier(criterion='entropy')"
      ]
     },
     "execution_count": 21,
     "metadata": {},
     "output_type": "execute_result"
    }
   ],
   "source": [
    "from sklearn import tree\n",
    "clf = tree.DecisionTreeClassifier(criterion='entropy')\n",
    "clf.fit(x_train,y_train)"
   ]
  },
  {
   "cell_type": "code",
   "execution_count": 22,
   "id": "focused-superintendent",
   "metadata": {},
   "outputs": [
    {
     "data": {
      "text/plain": [
       "0.9999668456998873"
      ]
     },
     "execution_count": 22,
     "metadata": {},
     "output_type": "execute_result"
    }
   ],
   "source": [
    "clf.score(x_train,y_train)"
   ]
  },
  {
   "cell_type": "code",
   "execution_count": 23,
   "id": "needed-skiing",
   "metadata": {},
   "outputs": [
    {
     "data": {
      "text/plain": [
       "0.8097609561752988"
      ]
     },
     "execution_count": 23,
     "metadata": {},
     "output_type": "execute_result"
    }
   ],
   "source": [
    "clf.score(x_test,y_test)"
   ]
  },
  {
   "cell_type": "code",
   "execution_count": 24,
   "id": "ecological-collect",
   "metadata": {},
   "outputs": [],
   "source": [
    "y = clf.predict(x_test)"
   ]
  },
  {
   "cell_type": "code",
   "execution_count": 25,
   "id": "engaged-emerald",
   "metadata": {},
   "outputs": [
    {
     "data": {
      "text/plain": [
       "income\n",
       " <=50K    11293\n",
       " >50K      3767\n",
       "dtype: int64"
      ]
     },
     "execution_count": 25,
     "metadata": {},
     "output_type": "execute_result"
    }
   ],
   "source": [
    "pd.DataFrame(y,columns=['income']).groupby(by=['income']).size()"
   ]
  },
  {
   "cell_type": "markdown",
   "id": "desirable-botswana",
   "metadata": {},
   "source": [
    "基本的交叉熵决策树预测模型可以达到0.81的准确率，这一数值接近`<=50k`的占比75%，查看分类结果发现预测比例较为正常。结合训练集接近1.00的得分可以判断出baseline出现了过拟合的情况，后续可展开优化。"
   ]
  },
  {
   "cell_type": "markdown",
   "id": "illegal-trade",
   "metadata": {},
   "source": [
    "### 优化：剪枝\n",
    "\n",
    "决策树对训练集过拟合的情况很有可能是决策树深度过深，一般而言，决策树层数较少时会出现欠拟合现象，而层数过多时会出现过拟合现象。"
   ]
  },
  {
   "cell_type": "code",
   "execution_count": 26,
   "id": "bulgarian-preserve",
   "metadata": {},
   "outputs": [
    {
     "data": {
      "text/plain": [
       "52"
      ]
     },
     "execution_count": 26,
     "metadata": {},
     "output_type": "execute_result"
    }
   ],
   "source": [
    "clf.tree_.max_depth"
   ]
  },
  {
   "cell_type": "markdown",
   "id": "compliant-bonus",
   "metadata": {},
   "source": [
    "我们一共有13个属性，32561个样本（$2^{15}=32768$），但是决策树深度来到了51层，可能对连续属性或多值离散属性进行了过多的分化。\n",
    "\n",
    "面对决策树过拟合严重的问题，可以采用剪枝的方法，在sklearn中可以通过限定`max_depth`来进行剪枝。下面结合分层KFold测试不同深度下决策树的表现。"
   ]
  },
  {
   "cell_type": "code",
   "execution_count": 27,
   "id": "emerging-executive",
   "metadata": {},
   "outputs": [],
   "source": [
    "train_score = []; val_score = []\n",
    "for i in range(1,51):\n",
    "    clf = tree.DecisionTreeClassifier(criterion='entropy',max_depth=i)\n",
    "    ts = 0; vs = 0\n",
    "    for train_idx,val_idx in skf.split(x_train.values, y_train.values):\n",
    "        clf.fit(x_train.values[train_idx],y_train.values[train_idx])\n",
    "        ts += clf.score(x_train.values[train_idx],y_train.values[train_idx])\n",
    "        vs += clf.score(x_train.values[val_idx],y_train.values[val_idx])\n",
    "    train_score.append(ts/N) #取每折结果的均值作为该参数下模型表现\n",
    "    val_score.append(vs/N)"
   ]
  },
  {
   "cell_type": "code",
   "execution_count": 28,
   "id": "cleared-category",
   "metadata": {},
   "outputs": [
    {
     "data": {
      "text/plain": [
       "<matplotlib.legend.Legend at 0x7f0c32d4f630>"
      ]
     },
     "execution_count": 28,
     "metadata": {},
     "output_type": "execute_result"
    },
    {
     "data": {
      "image/png": "[encoded data removed]",
      "text/plain": [
       "<Figure size 432x288 with 1 Axes>"
      ]
     },
     "metadata": {
      "needs_background": "light"
     },
     "output_type": "display_data"
    }
   ],
   "source": [
    "plt.figure()\n",
    "plt.title('Accuracy of Decision Tree')\n",
    "plt.plot(range(1,51),val_score,label='val_accuracy')\n",
    "plt.plot(range(1,51),train_score,label='train_accuracy')\n",
    "plt.axvline(x=9 , color='green' , linestyle='--')\n",
    "plt.xlabel('Depth')\n",
    "plt.legend()"
   ]
  },
  {
   "cell_type": "code",
   "execution_count": 29,
   "id": "dental-polish",
   "metadata": {},
   "outputs": [
    {
     "data": {
      "text/plain": [
       "[0.8496123223244745,\n",
       " 0.850242323278555,\n",
       " 0.8476229049247707,\n",
       " 0.8470592829183083,\n",
       " 0.8477555693904568]"
      ]
     },
     "execution_count": 29,
     "metadata": {},
     "output_type": "execute_result"
    }
   ],
   "source": [
    "val_score[7:12]"
   ]
  },
  {
   "cell_type": "markdown",
   "id": "annoying-commander",
   "metadata": {},
   "source": [
    "观察图形可知，深度大于9时，验证集准确率达最大值0.850，随后开始下降，所以9附近应该是最佳深度，增加深度会导致模型过拟合。样本总量在32561，处于$2^{14}$和$2^{15}$之间，所以这个深度也是较为合适的。"
   ]
  },
  {
   "cell_type": "code",
   "execution_count": 30,
   "id": "creative-minutes",
   "metadata": {},
   "outputs": [
    {
     "data": {
      "text/plain": [
       "0.8586963729195677"
      ]
     },
     "execution_count": 30,
     "metadata": {},
     "output_type": "execute_result"
    }
   ],
   "source": [
    "clf = tree.DecisionTreeClassifier(criterion='entropy',max_depth=9)\n",
    "clf.fit(x_train,y_train)\n",
    "clf.score(x_train,y_train)"
   ]
  },
  {
   "cell_type": "code",
   "execution_count": 31,
   "id": "present-robert",
   "metadata": {},
   "outputs": [
    {
     "data": {
      "text/plain": [
       "0.849933598937583"
      ]
     },
     "execution_count": 31,
     "metadata": {},
     "output_type": "execute_result"
    }
   ],
   "source": [
    "clf.score(x_test,y_test)"
   ]
  },
  {
   "cell_type": "markdown",
   "id": "stylish-musician",
   "metadata": {},
   "source": [
    "### 优化：集成学习\n",
    "\n",
    "也可以采用集成学习的方法，将决策树桩（每颗决策树深度均为1）作为基分类器，训练多个弱分类器决策树桩，再使用加性模型得到强学习器。"
   ]
  },
  {
   "cell_type": "code",
   "execution_count": 32,
   "id": "fixed-algebra",
   "metadata": {},
   "outputs": [],
   "source": [
    "from sklearn.ensemble import AdaBoostClassifier\n",
    "\n",
    "train_score = []; val_score = []\n",
    "clf = AdaBoostClassifier(base_estimator=tree.DecisionTreeClassifier(criterion='entropy',max_depth=1), n_estimators=200, random_state=0)\n",
    "ts = 0; vs = 0\n",
    "for train_idx,val_idx in skf.split(x_train.values, y_train.values):\n",
    "    clf.fit(x_train.values[train_idx],y_train.values[train_idx].ravel())\n",
    "    ts += clf.score(x_train.values[train_idx],y_train.values[train_idx].ravel())\n",
    "    vs += clf.score(x_train.values[val_idx],y_train.values[val_idx].ravel())"
   ]
  },
  {
   "cell_type": "code",
   "execution_count": 33,
   "id": "respective-separate",
   "metadata": {},
   "outputs": [
    {
     "name": "stdout",
     "output_type": "stream",
     "text": [
      "Train Score: 0.86655\n",
      "Val Score: 0.86543\n"
     ]
    }
   ],
   "source": [
    "print('Train Score: %.5f' % float(ts/N))\n",
    "print('Val Score: %.5f' % float(vs/N))"
   ]
  },
  {
   "cell_type": "code",
   "execution_count": 34,
   "id": "apart-halifax",
   "metadata": {},
   "outputs": [
    {
     "data": {
      "text/plain": [
       "0.8634794156706508"
      ]
     },
     "execution_count": 34,
     "metadata": {},
     "output_type": "execute_result"
    }
   ],
   "source": [
    "clf.score(x_test,y_test)"
   ]
  },
  {
   "cell_type": "markdown",
   "id": "declared-walter",
   "metadata": {},
   "source": [
    "设定基分类器数量上限为200的情况下，训练集、验证集准确率超过了86.5%。验证集准确率则在86.3%。"
   ]
  }
 ],
 "metadata": {
  "kernelspec": {
   "display_name": "Python 3.6",
   "language": "python",
   "name": "python3"
  },
  "language_info": {
   "codemirror_mode": {
    "name": "ipython",
    "version": 3
   },
   "file_extension": ".py",
   "mimetype": "text/x-python",
   "name": "python",
   "nbconvert_exporter": "python",
   "pygments_lexer": "ipython3",
   "version": "3.6.8"
  }
 },
 "nbformat": 4,
 "nbformat_minor": 5
}
