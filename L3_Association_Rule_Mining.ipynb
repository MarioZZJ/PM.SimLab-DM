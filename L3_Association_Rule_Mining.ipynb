{
  "nbformat": 4,
  "nbformat_minor": 5,
  "metadata": {
    "kernelspec": {
      "display_name": "Python 3.6",
      "language": "python",
      "name": "python3"
    },
    "language_info": {
      "codemirror_mode": {
        "name": "ipython",
        "version": 3
      },
      "file_extension": ".py",
      "mimetype": "text/x-python",
      "name": "python",
      "nbconvert_exporter": "python",
      "pygments_lexer": "ipython3",
      "version": "3.6.8"
    },
    "colab": {
      "name": "L3-Association_Rule_Mining.ipynb",
      "provenance": [],
      "collapsed_sections": [],
      "toc_visible": true,
      "machine_shape": "hm",
      "include_colab_link": true
    }
  },
  "cells": [
    {
      "cell_type": "markdown",
      "metadata": {
        "id": "view-in-github",
        "colab_type": "text"
      },
      "source": [
        "<a href=\"https://colab.research.google.com/github/MarioZZJ/PM.SimLab-DM/blob/master/L3_Association_Rule_Mining.ipynb\" target=\"_parent\"><img src=\"https://colab.research.google.com/assets/colab-badge.svg\" alt=\"Open In Colab\"/></a>"
      ]
    },
    {
      "cell_type": "markdown",
      "metadata": {
        "id": "derived-while"
      },
      "source": [
        "## 实验任务\n",
        "* 统计不同国家的销售量\n",
        "* 整体的关联规则\n",
        "* 主要的3个国家的关联规则有什么异同？\n",
        "\n",
        "## 要求\n",
        "* 输出关键分析步骤\n",
        "* 使用support, confidence和lift"
      ],
      "id": "derived-while"
    },
    {
      "cell_type": "markdown",
      "metadata": {
        "id": "blocked-paraguay"
      },
      "source": [
        "# 数据探索与预处理EDA&DP\n",
        "## 载入数据和库"
      ],
      "id": "blocked-paraguay"
    },
    {
      "cell_type": "code",
      "metadata": {
        "id": "7g3YT1pyk2jG",
        "colab": {
          "base_uri": "https://localhost:8080/"
        },
        "outputId": "64bb62a7-929d-4e83-e171-1944b313a83e"
      },
      "source": [
        "from google.colab import drive\n",
        "drive.mount('/content/drive')"
      ],
      "id": "7g3YT1pyk2jG",
      "execution_count": 1,
      "outputs": [
        {
          "output_type": "stream",
          "text": [
            "Mounted at /content/drive\n"
          ],
          "name": "stdout"
        }
      ]
    },
    {
      "cell_type": "code",
      "metadata": {
        "id": "hairy-broadcast"
      },
      "source": [
        "import numpy as np\n",
        "import pandas as pd\n",
        "import matplotlib.pyplot as plt\n",
        "from mlxtend.frequent_patterns import apriori,association_rules\n",
        "from mlxtend.preprocessing import TransactionEncoder\n",
        "pd.options.display.latex.repr = True"
      ],
      "id": "hairy-broadcast",
      "execution_count": 2,
      "outputs": []
    },
    {
      "cell_type": "code",
      "metadata": {
        "id": "horizontal-frost"
      },
      "source": [
        "data = pd.read_excel('./drive/MyDrive/PM.SimLab-DM/data/Online Retail.xlsx')"
      ],
      "id": "horizontal-frost",
      "execution_count": 3,
      "outputs": []
    },
    {
      "cell_type": "code",
      "metadata": {
        "colab": {
          "base_uri": "https://localhost:8080/"
        },
        "id": "seventh-charity",
        "outputId": "31c2b606-d469-4a50-85ff-5124699635cb"
      },
      "source": [
        "data.info()"
      ],
      "id": "seventh-charity",
      "execution_count": 4,
      "outputs": [
        {
          "output_type": "stream",
          "text": [
            "<class 'pandas.core.frame.DataFrame'>\n",
            "RangeIndex: 541909 entries, 0 to 541908\n",
            "Data columns (total 8 columns):\n",
            " #   Column       Non-Null Count   Dtype         \n",
            "---  ------       --------------   -----         \n",
            " 0   InvoiceNo    541909 non-null  object        \n",
            " 1   StockCode    541909 non-null  object        \n",
            " 2   Description  540455 non-null  object        \n",
            " 3   Quantity     541909 non-null  int64         \n",
            " 4   InvoiceDate  541909 non-null  datetime64[ns]\n",
            " 5   UnitPrice    541909 non-null  float64       \n",
            " 6   CustomerID   406829 non-null  float64       \n",
            " 7   Country      541909 non-null  object        \n",
            "dtypes: datetime64[ns](1), float64(2), int64(1), object(4)\n",
            "memory usage: 33.1+ MB\n"
          ],
          "name": "stdout"
        }
      ]
    },
    {
      "cell_type": "code",
      "metadata": {
        "colab": {
          "base_uri": "https://localhost:8080/",
          "height": 289
        },
        "id": "renewable-regulation",
        "outputId": "efb2c997-22f6-4321-db47-3a53ef90442f"
      },
      "source": [
        "data.tail()"
      ],
      "id": "renewable-regulation",
      "execution_count": 5,
      "outputs": [
        {
          "output_type": "execute_result",
          "data": {
            "text/latex": "\\begin{tabular}{llllrlrrl}\n\\toprule\n{} & InvoiceNo & StockCode &                      Description &  Quantity &         InvoiceDate &  UnitPrice &  CustomerID & Country \\\\\n\\midrule\n541904 &    581587 &     22613 &      PACK OF 20 SPACEBOY NAPKINS &        12 & 2011-12-09 12:50:00 &       0.85 &     12680.0 &  France \\\\\n541905 &    581587 &     22899 &     CHILDREN'S APRON DOLLY GIRL  &         6 & 2011-12-09 12:50:00 &       2.10 &     12680.0 &  France \\\\\n541906 &    581587 &     23254 &    CHILDRENS CUTLERY DOLLY GIRL  &         4 & 2011-12-09 12:50:00 &       4.15 &     12680.0 &  France \\\\\n541907 &    581587 &     23255 &  CHILDRENS CUTLERY CIRCUS PARADE &         4 & 2011-12-09 12:50:00 &       4.15 &     12680.0 &  France \\\\\n541908 &    581587 &     22138 &    BAKING SET 9 PIECE RETROSPOT  &         3 & 2011-12-09 12:50:00 &       4.95 &     12680.0 &  France \\\\\n\\bottomrule\n\\end{tabular}\n",
            "text/html": [
              "<div>\n",
              "<style scoped>\n",
              "    .dataframe tbody tr th:only-of-type {\n",
              "        vertical-align: middle;\n",
              "    }\n",
              "\n",
              "    .dataframe tbody tr th {\n",
              "        vertical-align: top;\n",
              "    }\n",
              "\n",
              "    .dataframe thead th {\n",
              "        text-align: right;\n",
              "    }\n",
              "</style>\n",
              "<table border=\"1\" class=\"dataframe\">\n",
              "  <thead>\n",
              "    <tr style=\"text-align: right;\">\n",
              "      <th></th>\n",
              "      <th>InvoiceNo</th>\n",
              "      <th>StockCode</th>\n",
              "      <th>Description</th>\n",
              "      <th>Quantity</th>\n",
              "      <th>InvoiceDate</th>\n",
              "      <th>UnitPrice</th>\n",
              "      <th>CustomerID</th>\n",
              "      <th>Country</th>\n",
              "    </tr>\n",
              "  </thead>\n",
              "  <tbody>\n",
              "    <tr>\n",
              "      <th>541904</th>\n",
              "      <td>581587</td>\n",
              "      <td>22613</td>\n",
              "      <td>PACK OF 20 SPACEBOY NAPKINS</td>\n",
              "      <td>12</td>\n",
              "      <td>2011-12-09 12:50:00</td>\n",
              "      <td>0.85</td>\n",
              "      <td>12680.0</td>\n",
              "      <td>France</td>\n",
              "    </tr>\n",
              "    <tr>\n",
              "      <th>541905</th>\n",
              "      <td>581587</td>\n",
              "      <td>22899</td>\n",
              "      <td>CHILDREN'S APRON DOLLY GIRL</td>\n",
              "      <td>6</td>\n",
              "      <td>2011-12-09 12:50:00</td>\n",
              "      <td>2.10</td>\n",
              "      <td>12680.0</td>\n",
              "      <td>France</td>\n",
              "    </tr>\n",
              "    <tr>\n",
              "      <th>541906</th>\n",
              "      <td>581587</td>\n",
              "      <td>23254</td>\n",
              "      <td>CHILDRENS CUTLERY DOLLY GIRL</td>\n",
              "      <td>4</td>\n",
              "      <td>2011-12-09 12:50:00</td>\n",
              "      <td>4.15</td>\n",
              "      <td>12680.0</td>\n",
              "      <td>France</td>\n",
              "    </tr>\n",
              "    <tr>\n",
              "      <th>541907</th>\n",
              "      <td>581587</td>\n",
              "      <td>23255</td>\n",
              "      <td>CHILDRENS CUTLERY CIRCUS PARADE</td>\n",
              "      <td>4</td>\n",
              "      <td>2011-12-09 12:50:00</td>\n",
              "      <td>4.15</td>\n",
              "      <td>12680.0</td>\n",
              "      <td>France</td>\n",
              "    </tr>\n",
              "    <tr>\n",
              "      <th>541908</th>\n",
              "      <td>581587</td>\n",
              "      <td>22138</td>\n",
              "      <td>BAKING SET 9 PIECE RETROSPOT</td>\n",
              "      <td>3</td>\n",
              "      <td>2011-12-09 12:50:00</td>\n",
              "      <td>4.95</td>\n",
              "      <td>12680.0</td>\n",
              "      <td>France</td>\n",
              "    </tr>\n",
              "  </tbody>\n",
              "</table>\n",
              "</div>"
            ],
            "text/plain": [
              "       InvoiceNo StockCode  ... CustomerID  Country\n",
              "541904    581587     22613  ...    12680.0   France\n",
              "541905    581587     22899  ...    12680.0   France\n",
              "541906    581587     23254  ...    12680.0   France\n",
              "541907    581587     23255  ...    12680.0   France\n",
              "541908    581587     22138  ...    12680.0   France\n",
              "\n",
              "[5 rows x 8 columns]"
            ]
          },
          "metadata": {
            "tags": []
          },
          "execution_count": 5
        }
      ]
    },
    {
      "cell_type": "markdown",
      "metadata": {
        "id": "settled-victim"
      },
      "source": [
        "由数据描述可知，载入数据共有 541908 条记录，8 个字段。一条记录代表某订单中某商品的购买记录，一笔订单由多条记录构成。根据本次数据挖掘的任务，有一些字段是我们不关心的，如仓库号 `stockCode` 、订单时间 `InvoiceDate` （订单号足以区分订单）、顾客编号 `CustomerID` ，可以将其去除。"
      ],
      "id": "settled-victim"
    },
    {
      "cell_type": "code",
      "metadata": {
        "id": "oriented-agenda"
      },
      "source": [
        "data = data.iloc[:,[0,2,3,5,7]]"
      ],
      "id": "oriented-agenda",
      "execution_count": 6,
      "outputs": []
    },
    {
      "cell_type": "markdown",
      "metadata": {
        "id": "stretch-picture"
      },
      "source": [
        "## 描述性分析"
      ],
      "id": "stretch-picture"
    },
    {
      "cell_type": "code",
      "metadata": {
        "colab": {
          "base_uri": "https://localhost:8080/",
          "height": 294
        },
        "id": "exotic-episode",
        "outputId": "6cb1b70d-12a5-4cf7-c4c5-8a9c946b2d7f"
      },
      "source": [
        "data.describe() # 离散型数据"
      ],
      "id": "exotic-episode",
      "execution_count": 7,
      "outputs": [
        {
          "output_type": "execute_result",
          "data": {
            "text/latex": "\\begin{tabular}{lrr}\n\\toprule\n{} &       Quantity &      UnitPrice \\\\\n\\midrule\ncount &  541909.000000 &  541909.000000 \\\\\nmean  &       9.552250 &       4.611114 \\\\\nstd   &     218.081158 &      96.759853 \\\\\nmin   &  -80995.000000 &  -11062.060000 \\\\\n25\\%   &       1.000000 &       1.250000 \\\\\n50\\%   &       3.000000 &       2.080000 \\\\\n75\\%   &      10.000000 &       4.130000 \\\\\nmax   &   80995.000000 &   38970.000000 \\\\\n\\bottomrule\n\\end{tabular}\n",
            "text/html": [
              "<div>\n",
              "<style scoped>\n",
              "    .dataframe tbody tr th:only-of-type {\n",
              "        vertical-align: middle;\n",
              "    }\n",
              "\n",
              "    .dataframe tbody tr th {\n",
              "        vertical-align: top;\n",
              "    }\n",
              "\n",
              "    .dataframe thead th {\n",
              "        text-align: right;\n",
              "    }\n",
              "</style>\n",
              "<table border=\"1\" class=\"dataframe\">\n",
              "  <thead>\n",
              "    <tr style=\"text-align: right;\">\n",
              "      <th></th>\n",
              "      <th>Quantity</th>\n",
              "      <th>UnitPrice</th>\n",
              "    </tr>\n",
              "  </thead>\n",
              "  <tbody>\n",
              "    <tr>\n",
              "      <th>count</th>\n",
              "      <td>541909.000000</td>\n",
              "      <td>541909.000000</td>\n",
              "    </tr>\n",
              "    <tr>\n",
              "      <th>mean</th>\n",
              "      <td>9.552250</td>\n",
              "      <td>4.611114</td>\n",
              "    </tr>\n",
              "    <tr>\n",
              "      <th>std</th>\n",
              "      <td>218.081158</td>\n",
              "      <td>96.759853</td>\n",
              "    </tr>\n",
              "    <tr>\n",
              "      <th>min</th>\n",
              "      <td>-80995.000000</td>\n",
              "      <td>-11062.060000</td>\n",
              "    </tr>\n",
              "    <tr>\n",
              "      <th>25%</th>\n",
              "      <td>1.000000</td>\n",
              "      <td>1.250000</td>\n",
              "    </tr>\n",
              "    <tr>\n",
              "      <th>50%</th>\n",
              "      <td>3.000000</td>\n",
              "      <td>2.080000</td>\n",
              "    </tr>\n",
              "    <tr>\n",
              "      <th>75%</th>\n",
              "      <td>10.000000</td>\n",
              "      <td>4.130000</td>\n",
              "    </tr>\n",
              "    <tr>\n",
              "      <th>max</th>\n",
              "      <td>80995.000000</td>\n",
              "      <td>38970.000000</td>\n",
              "    </tr>\n",
              "  </tbody>\n",
              "</table>\n",
              "</div>"
            ],
            "text/plain": [
              "            Quantity      UnitPrice\n",
              "count  541909.000000  541909.000000\n",
              "mean        9.552250       4.611114\n",
              "std       218.081158      96.759853\n",
              "min    -80995.000000  -11062.060000\n",
              "25%         1.000000       1.250000\n",
              "50%         3.000000       2.080000\n",
              "75%        10.000000       4.130000\n",
              "max     80995.000000   38970.000000"
            ]
          },
          "metadata": {
            "tags": []
          },
          "execution_count": 7
        }
      ]
    },
    {
      "cell_type": "markdown",
      "metadata": {
        "id": "neural-format"
      },
      "source": [
        "可以看到商品数量和单价存在小于等于 0 的情况，属于异常记录，直接将其删除。"
      ],
      "id": "neural-format"
    },
    {
      "cell_type": "code",
      "metadata": {
        "id": "civic-qualification"
      },
      "source": [
        "data = data[(data.Quantity > 0) & (data.UnitPrice > 0)]"
      ],
      "id": "civic-qualification",
      "execution_count": 8,
      "outputs": []
    },
    {
      "cell_type": "code",
      "metadata": {
        "colab": {
          "base_uri": "https://localhost:8080/"
        },
        "id": "thermal-anthony",
        "outputId": "9d1b4831-7800-459b-8e78-5f6c39b06173"
      },
      "source": [
        "data.shape"
      ],
      "id": "thermal-anthony",
      "execution_count": 9,
      "outputs": [
        {
          "output_type": "execute_result",
          "data": {
            "text/plain": [
              "(530104, 5)"
            ]
          },
          "metadata": {
            "tags": []
          },
          "execution_count": 9
        }
      ]
    },
    {
      "cell_type": "markdown",
      "metadata": {
        "id": "growing-dancing"
      },
      "source": [
        "结合之前的分析可知，大部分的订单都是小数量小单价商品订单。\n",
        "\n",
        "在对离散型数据进行描述性统计分析之前，先处理 `Description` 列的问题，在加载中发现其存在部分空值，且通过Excel打开数据文件可知还存在部分非有效商品描述：\n",
        "\n",
        "![](http://download.mariozzj.cn/img/picgo/20210517200716.png)\n",
        "\n",
        "**excel截图**\n",
        "\n",
        "共性特征是 `Description` 含 `?` 。但是，他们的 `UnitPrice` 均为 0，所以已经去除了，因此只需要去除空值。"
      ],
      "id": "growing-dancing"
    },
    {
      "cell_type": "code",
      "metadata": {
        "id": "QDPZee2OtNkC"
      },
      "source": [
        "data = data.dropna()"
      ],
      "id": "QDPZee2OtNkC",
      "execution_count": 10,
      "outputs": []
    },
    {
      "cell_type": "code",
      "metadata": {
        "colab": {
          "base_uri": "https://localhost:8080/"
        },
        "id": "jOMbGZkTnfnq",
        "outputId": "bfcf9e15-e300-430e-fb6b-ace5c3498f99"
      },
      "source": [
        "data.info()"
      ],
      "id": "jOMbGZkTnfnq",
      "execution_count": 11,
      "outputs": [
        {
          "output_type": "stream",
          "text": [
            "<class 'pandas.core.frame.DataFrame'>\n",
            "Int64Index: 530104 entries, 0 to 541908\n",
            "Data columns (total 5 columns):\n",
            " #   Column       Non-Null Count   Dtype  \n",
            "---  ------       --------------   -----  \n",
            " 0   InvoiceNo    530104 non-null  object \n",
            " 1   Description  530104 non-null  object \n",
            " 2   Quantity     530104 non-null  int64  \n",
            " 3   UnitPrice    530104 non-null  float64\n",
            " 4   Country      530104 non-null  object \n",
            "dtypes: float64(1), int64(1), object(3)\n",
            "memory usage: 24.3+ MB\n"
          ],
          "name": "stdout"
        }
      ]
    },
    {
      "cell_type": "code",
      "metadata": {
        "id": "federal-parameter",
        "colab": {
          "base_uri": "https://localhost:8080/",
          "height": 171
        },
        "outputId": "57fe9921-431b-4987-9869-6d36f1e097b4"
      },
      "source": [
        "data.iloc[:,[0,1,4]].describe()# 离散型数据"
      ],
      "id": "federal-parameter",
      "execution_count": 12,
      "outputs": [
        {
          "output_type": "execute_result",
          "data": {
            "text/latex": "\\begin{tabular}{lrll}\n\\toprule\n{} &  InvoiceNo &                         Description &         Country \\\\\n\\midrule\ncount  &     530104 &                              530104 &          530104 \\\\\nunique &      19960 &                                4026 &              38 \\\\\ntop    &     573585 &  WHITE HANGING HEART T-LIGHT HOLDER &  United Kingdom \\\\\nfreq   &       1114 &                                2323 &          485123 \\\\\n\\bottomrule\n\\end{tabular}\n",
            "text/html": [
              "<div>\n",
              "<style scoped>\n",
              "    .dataframe tbody tr th:only-of-type {\n",
              "        vertical-align: middle;\n",
              "    }\n",
              "\n",
              "    .dataframe tbody tr th {\n",
              "        vertical-align: top;\n",
              "    }\n",
              "\n",
              "    .dataframe thead th {\n",
              "        text-align: right;\n",
              "    }\n",
              "</style>\n",
              "<table border=\"1\" class=\"dataframe\">\n",
              "  <thead>\n",
              "    <tr style=\"text-align: right;\">\n",
              "      <th></th>\n",
              "      <th>InvoiceNo</th>\n",
              "      <th>Description</th>\n",
              "      <th>Country</th>\n",
              "    </tr>\n",
              "  </thead>\n",
              "  <tbody>\n",
              "    <tr>\n",
              "      <th>count</th>\n",
              "      <td>530104</td>\n",
              "      <td>530104</td>\n",
              "      <td>530104</td>\n",
              "    </tr>\n",
              "    <tr>\n",
              "      <th>unique</th>\n",
              "      <td>19960</td>\n",
              "      <td>4026</td>\n",
              "      <td>38</td>\n",
              "    </tr>\n",
              "    <tr>\n",
              "      <th>top</th>\n",
              "      <td>573585</td>\n",
              "      <td>WHITE HANGING HEART T-LIGHT HOLDER</td>\n",
              "      <td>United Kingdom</td>\n",
              "    </tr>\n",
              "    <tr>\n",
              "      <th>freq</th>\n",
              "      <td>1114</td>\n",
              "      <td>2323</td>\n",
              "      <td>485123</td>\n",
              "    </tr>\n",
              "  </tbody>\n",
              "</table>\n",
              "</div>"
            ],
            "text/plain": [
              "        InvoiceNo                         Description         Country\n",
              "count      530104                              530104          530104\n",
              "unique      19960                                4026              38\n",
              "top        573585  WHITE HANGING HEART T-LIGHT HOLDER  United Kingdom\n",
              "freq         1114                                2323          485123"
            ]
          },
          "metadata": {
            "tags": []
          },
          "execution_count": 12
        }
      ]
    },
    {
      "cell_type": "markdown",
      "metadata": {
        "id": "varied-dining"
      },
      "source": [
        "对离散型数据进行描述统计可知，共有 19960 笔订单，4026 种商品，38 个国家。"
      ],
      "id": "varied-dining"
    },
    {
      "cell_type": "markdown",
      "metadata": {
        "id": "after-hollow"
      },
      "source": [
        "# 国家销售情况统计"
      ],
      "id": "after-hollow"
    },
    {
      "cell_type": "code",
      "metadata": {
        "id": "final-tribute"
      },
      "source": [
        "quantity_country = data.groupby(by=['Country']).sum().sort_values(by=['Quantity']).iloc[:,[0]]"
      ],
      "id": "final-tribute",
      "execution_count": 13,
      "outputs": []
    },
    {
      "cell_type": "code",
      "metadata": {
        "id": "dynamic-vision",
        "colab": {
          "base_uri": "https://localhost:8080/",
          "height": 530
        },
        "outputId": "60a97607-7643-40e3-ef67-b70ae20db991"
      },
      "source": [
        "fig = quantity_country.plot(figsize=(8,8),kind='barh',title='Quantity / Country',ylabel='Quantity');i=0\n",
        "for index,row in quantity_country.iterrows():\n",
        "    fig.text(row.values[0],i-0.3,row.values[0]);i+=1\n",
        "fig.legend(loc=4)"
      ],
      "id": "dynamic-vision",
      "execution_count": 14,
      "outputs": [
        {
          "output_type": "execute_result",
          "data": {
            "text/plain": [
              "<matplotlib.legend.Legend at 0x7fe6eeec0450>"
            ]
          },
          "metadata": {
            "tags": []
          },
          "execution_count": 14
        },
        {
          "output_type": "display_data",
          "data": {
            "image/png": "[encoded data removed]",
            "text/plain": [
              "<Figure size 576x576 with 1 Axes>"
            ]
          },
          "metadata": {
            "tags": [],
            "needs_background": "light"
          }
        }
      ]
    },
    {
      "cell_type": "code",
      "metadata": {
        "id": "printable-invitation",
        "colab": {
          "base_uri": "https://localhost:8080/",
          "height": 139
        },
        "outputId": "80f13a57-0081-4ab7-d3f1-7183c3346cbe"
      },
      "source": [
        "1-quantity_country.iloc[:-1].sum()/quantity_country.sum()"
      ],
      "id": "printable-invitation",
      "execution_count": 15,
      "outputs": [
        {
          "output_type": "execute_result",
          "data": {
            "text/latex": "\\begin{tabular}{lr}\n\\toprule\n{} &         0 \\\\\n\\midrule\nQuantity &  0.834301 \\\\\n\\bottomrule\n\\end{tabular}\n",
            "text/plain": [
              "Quantity    0.834301\n",
              "dtype: float64"
            ]
          },
          "metadata": {
            "tags": []
          },
          "execution_count": 15
        }
      ]
    },
    {
      "cell_type": "markdown",
      "metadata": {
        "id": "registered-pioneer"
      },
      "source": [
        "可以看到，该数据的大部分销量都被 United Kindom 占据（83%），排名 2 ~ 5 位的国家为 Netherlands、EIRE、Germany、France，销量都在 100,000 以上。由于相对而言 United Kindom 相对占比过大，剩余国家柱形几乎不可见，所以可以考虑将其去除后展示其余国家的销量比例关系："
      ],
      "id": "registered-pioneer"
    },
    {
      "cell_type": "code",
      "metadata": {
        "id": "verified-coach",
        "colab": {
          "base_uri": "https://localhost:8080/",
          "height": 517
        },
        "outputId": "8a5d6be0-2ef5-4a98-e324-ae3ebcfa1610"
      },
      "source": [
        "fig = quantity_country[:-1].plot(figsize=(8,8),kind='barh',title='Quantity / Country',ylabel='Quantity');i=0\n",
        "for index,row in quantity_country.iterrows():\n",
        "    if index == 'United Kingdom': break\n",
        "    fig.text(row.values[0],i-0.3,row.values[0]);i+=1\n",
        "fig.legend(loc=4)"
      ],
      "id": "verified-coach",
      "execution_count": 16,
      "outputs": [
        {
          "output_type": "execute_result",
          "data": {
            "text/plain": [
              "<matplotlib.legend.Legend at 0x7fe6fb18b550>"
            ]
          },
          "metadata": {
            "tags": []
          },
          "execution_count": 16
        },
        {
          "output_type": "display_data",
          "data": {
            "image/png": "[encoded data removed]",
            "text/plain": [
              "<Figure size 576x576 with 1 Axes>"
            ]
          },
          "metadata": {
            "tags": [],
            "needs_background": "light"
          }
        }
      ]
    },
    {
      "cell_type": "markdown",
      "metadata": {
        "id": "spanish-nelson"
      },
      "source": [
        "由于本次任务是关联规则挖掘，还需要整理一下各国家的订单数量，方能够综合评价选择出比较重要的国家。"
      ],
      "id": "spanish-nelson"
    },
    {
      "cell_type": "code",
      "metadata": {
        "id": "fifty-charleston"
      },
      "source": [
        "order_country = data.iloc[:,[0,4]].drop_duplicates('InvoiceNo').groupby(by='Country').count().sort_values(by='InvoiceNo')"
      ],
      "id": "fifty-charleston",
      "execution_count": 17,
      "outputs": []
    },
    {
      "cell_type": "code",
      "metadata": {
        "id": "subtle-broadcast",
        "colab": {
          "base_uri": "https://localhost:8080/",
          "height": 139
        },
        "outputId": "2c96f388-35ae-4d48-e8d9-5268ccf2d934"
      },
      "source": [
        "1-order_country.iloc[:-1].sum()/order_country.sum()"
      ],
      "id": "subtle-broadcast",
      "execution_count": 18,
      "outputs": [
        {
          "output_type": "execute_result",
          "data": {
            "text/latex": "\\begin{tabular}{lr}\n\\toprule\n{} &         0 \\\\\n\\midrule\nInvoiceNo &  0.902756 \\\\\n\\bottomrule\n\\end{tabular}\n",
            "text/plain": [
              "InvoiceNo    0.902756\n",
              "dtype: float64"
            ]
          },
          "metadata": {
            "tags": []
          },
          "execution_count": 18
        }
      ]
    },
    {
      "cell_type": "code",
      "metadata": {
        "id": "distant-gates",
        "colab": {
          "base_uri": "https://localhost:8080/",
          "height": 139
        },
        "outputId": "278b8e9b-a5af-4008-cf35-753f545eb2c4"
      },
      "source": [
        "order_country.iloc[-1]"
      ],
      "id": "distant-gates",
      "execution_count": 19,
      "outputs": [
        {
          "output_type": "execute_result",
          "data": {
            "text/latex": "\\begin{tabular}{lr}\n\\toprule\n{} &  United Kingdom \\\\\n\\midrule\nInvoiceNo &           18019 \\\\\n\\bottomrule\n\\end{tabular}\n",
            "text/plain": [
              "InvoiceNo    18019\n",
              "Name: United Kingdom, dtype: int64"
            ]
          },
          "metadata": {
            "tags": []
          },
          "execution_count": 19
        }
      ]
    },
    {
      "cell_type": "markdown",
      "metadata": {
        "id": "indirect-register"
      },
      "source": [
        "United Kingdom 的订单同样占据了 90%，有 18019 条，不利于可视化，因此去除。"
      ],
      "id": "indirect-register"
    },
    {
      "cell_type": "code",
      "metadata": {
        "id": "cooperative-mambo",
        "colab": {
          "base_uri": "https://localhost:8080/",
          "height": 462
        },
        "outputId": "2f6ea557-5e94-4607-882d-d85eb223d89d"
      },
      "source": [
        "fig = order_country[:-1].plot(figsize=(8,7),kind='barh',title='Order / Country',ylabel='Order');i=0\n",
        "for index,row in order_country.iterrows():\n",
        "    if index =='United Kingdom' : break\n",
        "    fig.text(row.values[0],i-0.3,row.values[0]);i+=1\n",
        "fig.legend(loc=4)"
      ],
      "id": "cooperative-mambo",
      "execution_count": 20,
      "outputs": [
        {
          "output_type": "execute_result",
          "data": {
            "text/plain": [
              "<matplotlib.legend.Legend at 0x7fe6eef386d0>"
            ]
          },
          "metadata": {
            "tags": []
          },
          "execution_count": 20
        },
        {
          "output_type": "display_data",
          "data": {
            "image/png": "[encoded data removed]",
            "text/plain": [
              "<Figure size 576x504 with 1 Axes>"
            ]
          },
          "metadata": {
            "tags": [],
            "needs_background": "light"
          }
        }
      ]
    },
    {
      "cell_type": "markdown",
      "metadata": {
        "id": "agreed-celtic"
      },
      "source": [
        "从单量角度而言，靠前的国家类似，但排名略有不同。排名 2 ~ 5 位的国家为 Germany、France、EIRE、Belgium。"
      ],
      "id": "agreed-celtic"
    },
    {
      "cell_type": "markdown",
      "metadata": {
        "id": "pressing-guinea"
      },
      "source": [
        "# 数据集整体关联规则挖掘"
      ],
      "id": "pressing-guinea"
    },
    {
      "cell_type": "markdown",
      "metadata": {
        "id": "swedish-restriction"
      },
      "source": [
        "## 数据处理：提取并转化事务数据\n",
        "\n",
        "根据之前的数据探索，目前的数据集中一条记录是订单中的一项商品的交易，而我们如果需要挖掘关联规则，则需要将相同订单的商品记录合并为一条订单记录。"
      ],
      "id": "swedish-restriction"
    },
    {
      "cell_type": "code",
      "metadata": {
        "id": "coupled-campbell",
        "colab": {
          "base_uri": "https://localhost:8080/",
          "height": 202
        },
        "outputId": "fcfed6e6-42d1-4845-d8f2-0348fd525ffe"
      },
      "source": [
        "data.iloc[:,:2].tail()"
      ],
      "id": "coupled-campbell",
      "execution_count": 21,
      "outputs": [
        {
          "output_type": "execute_result",
          "data": {
            "text/latex": "\\begin{tabular}{lll}\n\\toprule\n{} & InvoiceNo &                      Description \\\\\n\\midrule\n541904 &    581587 &      PACK OF 20 SPACEBOY NAPKINS \\\\\n541905 &    581587 &     CHILDREN'S APRON DOLLY GIRL  \\\\\n541906 &    581587 &    CHILDRENS CUTLERY DOLLY GIRL  \\\\\n541907 &    581587 &  CHILDRENS CUTLERY CIRCUS PARADE \\\\\n541908 &    581587 &    BAKING SET 9 PIECE RETROSPOT  \\\\\n\\bottomrule\n\\end{tabular}\n",
            "text/html": [
              "<div>\n",
              "<style scoped>\n",
              "    .dataframe tbody tr th:only-of-type {\n",
              "        vertical-align: middle;\n",
              "    }\n",
              "\n",
              "    .dataframe tbody tr th {\n",
              "        vertical-align: top;\n",
              "    }\n",
              "\n",
              "    .dataframe thead th {\n",
              "        text-align: right;\n",
              "    }\n",
              "</style>\n",
              "<table border=\"1\" class=\"dataframe\">\n",
              "  <thead>\n",
              "    <tr style=\"text-align: right;\">\n",
              "      <th></th>\n",
              "      <th>InvoiceNo</th>\n",
              "      <th>Description</th>\n",
              "    </tr>\n",
              "  </thead>\n",
              "  <tbody>\n",
              "    <tr>\n",
              "      <th>541904</th>\n",
              "      <td>581587</td>\n",
              "      <td>PACK OF 20 SPACEBOY NAPKINS</td>\n",
              "    </tr>\n",
              "    <tr>\n",
              "      <th>541905</th>\n",
              "      <td>581587</td>\n",
              "      <td>CHILDREN'S APRON DOLLY GIRL</td>\n",
              "    </tr>\n",
              "    <tr>\n",
              "      <th>541906</th>\n",
              "      <td>581587</td>\n",
              "      <td>CHILDRENS CUTLERY DOLLY GIRL</td>\n",
              "    </tr>\n",
              "    <tr>\n",
              "      <th>541907</th>\n",
              "      <td>581587</td>\n",
              "      <td>CHILDRENS CUTLERY CIRCUS PARADE</td>\n",
              "    </tr>\n",
              "    <tr>\n",
              "      <th>541908</th>\n",
              "      <td>581587</td>\n",
              "      <td>BAKING SET 9 PIECE RETROSPOT</td>\n",
              "    </tr>\n",
              "  </tbody>\n",
              "</table>\n",
              "</div>"
            ],
            "text/plain": [
              "       InvoiceNo                      Description\n",
              "541904    581587      PACK OF 20 SPACEBOY NAPKINS\n",
              "541905    581587     CHILDREN'S APRON DOLLY GIRL \n",
              "541906    581587    CHILDRENS CUTLERY DOLLY GIRL \n",
              "541907    581587  CHILDRENS CUTLERY CIRCUS PARADE\n",
              "541908    581587    BAKING SET 9 PIECE RETROSPOT "
            ]
          },
          "metadata": {
            "tags": []
          },
          "execution_count": 21
        }
      ]
    },
    {
      "cell_type": "code",
      "metadata": {
        "id": "north-bulgaria"
      },
      "source": [
        "prevIndex = -1; trans_list = []; trans = []\n",
        "orderData = data.iloc[:,:2].set_index('InvoiceNo')\n",
        "for index,row in orderData.iterrows():\n",
        "    if index == prevIndex:\n",
        "        trans.append(row[0])\n",
        "    else: \n",
        "        prevIndex = index\n",
        "        trans_list.append(trans)\n",
        "        trans = []\n",
        "        trans.append(row[0])"
      ],
      "id": "north-bulgaria",
      "execution_count": 22,
      "outputs": []
    },
    {
      "cell_type": "code",
      "metadata": {
        "id": "personalized-stranger"
      },
      "source": [
        "trans_list = trans_list[1:]"
      ],
      "id": "personalized-stranger",
      "execution_count": 23,
      "outputs": []
    },
    {
      "cell_type": "code",
      "metadata": {
        "id": "related-adrian",
        "colab": {
          "base_uri": "https://localhost:8080/"
        },
        "outputId": "532975ed-f2ad-4561-9387-f18a01f4372f"
      },
      "source": [
        "trans_list[:2]"
      ],
      "id": "related-adrian",
      "execution_count": 24,
      "outputs": [
        {
          "output_type": "execute_result",
          "data": {
            "text/plain": [
              "[['WHITE HANGING HEART T-LIGHT HOLDER',\n",
              "  'WHITE METAL LANTERN',\n",
              "  'CREAM CUPID HEARTS COAT HANGER',\n",
              "  'KNITTED UNION FLAG HOT WATER BOTTLE',\n",
              "  'RED WOOLLY HOTTIE WHITE HEART.',\n",
              "  'SET 7 BABUSHKA NESTING BOXES',\n",
              "  'GLASS STAR FROSTED T-LIGHT HOLDER'],\n",
              " ['HAND WARMER UNION JACK', 'HAND WARMER RED POLKA DOT']]"
            ]
          },
          "metadata": {
            "tags": []
          },
          "execution_count": 24
        }
      ]
    },
    {
      "cell_type": "markdown",
      "metadata": {
        "id": "opening-target"
      },
      "source": [
        "普通的关联规则分析中，我们只关注项目是否出现，而不关注其数量，因此生成了一个列表用于存储各个订单中出现的商品，消去了数量信息。\n"
      ],
      "id": "opening-target"
    },
    {
      "cell_type": "markdown",
      "metadata": {
        "id": "ideal-balance"
      },
      "source": [
        "这里用于探索关联规则的是 `mlxtend` 包，含有 `apriori()`、`association_rules()` 等方法。"
      ],
      "id": "ideal-balance"
    },
    {
      "cell_type": "markdown",
      "metadata": {
        "id": "educational-brand"
      },
      "source": [
        "首先，可以利用 `TransactionEncoder()` 方法，将事务数据进一步转化为 `mlxtend` 可接收的输入形式。"
      ],
      "id": "educational-brand"
    },
    {
      "cell_type": "code",
      "metadata": {
        "id": "celtic-platinum"
      },
      "source": [
        "encoder = TransactionEncoder()\n",
        "X = encoder.fit_transform(trans_list)"
      ],
      "id": "celtic-platinum",
      "execution_count": 25,
      "outputs": []
    },
    {
      "cell_type": "markdown",
      "metadata": {
        "id": "statutory-introduction"
      },
      "source": [
        "实际上这一操作等同于 one-hot 编码，每一列代表一个商品在该订单中是否出现。"
      ],
      "id": "statutory-introduction"
    },
    {
      "cell_type": "code",
      "metadata": {
        "id": "organic-stanley",
        "colab": {
          "base_uri": "https://localhost:8080/"
        },
        "outputId": "6d98fc11-d925-4c4e-98ff-0cefa27c69e6"
      },
      "source": [
        "X[:2]"
      ],
      "id": "organic-stanley",
      "execution_count": 26,
      "outputs": [
        {
          "output_type": "execute_result",
          "data": {
            "text/plain": [
              "array([[False, False, False, ..., False, False, False],\n",
              "       [False, False, False, ..., False, False, False]])"
            ]
          },
          "metadata": {
            "tags": []
          },
          "execution_count": 26
        }
      ]
    },
    {
      "cell_type": "markdown",
      "metadata": {
        "id": "defined-tunisia"
      },
      "source": [
        "可以查看encoder对应的参数："
      ],
      "id": "defined-tunisia"
    },
    {
      "cell_type": "code",
      "metadata": {
        "id": "collected-webmaster",
        "colab": {
          "base_uri": "https://localhost:8080/"
        },
        "outputId": "ec9c041d-44a5-48e3-856b-b166f5b26fb9"
      },
      "source": [
        "print(\"Num of goods: %d \" % len(encoder.columns_))\n",
        "print(encoder.columns_[:3])"
      ],
      "id": "collected-webmaster",
      "execution_count": 27,
      "outputs": [
        {
          "output_type": "stream",
          "text": [
            "Num of goods: 4026 \n",
            "[' 4 PURPLE FLOCK DINNER CANDLES', \" 50'S CHRISTMAS GIFT BAG LARGE\", ' DOLLY GIRL BEAKER']\n"
          ],
          "name": "stdout"
        }
      ]
    },
    {
      "cell_type": "markdown",
      "metadata": {
        "id": "marine-regulation"
      },
      "source": [
        "编码后的参数表明，共有 4026 种商品，这与数据探索中一致。根据编码规则也生成了对应的列名，之后可以随时查看。"
      ],
      "id": "marine-regulation"
    },
    {
      "cell_type": "code",
      "metadata": {
        "id": "occupied-casting"
      },
      "source": [
        "trans_data = pd.DataFrame(X, columns = encoder.columns_)"
      ],
      "id": "occupied-casting",
      "execution_count": 28,
      "outputs": []
    },
    {
      "cell_type": "markdown",
      "metadata": {
        "id": "Z_WZSelQ22GP"
      },
      "source": [
        "## 频繁项集挖掘：基于支持度\n",
        "\n",
        "频繁项集是那些出现频次较高的项目集合，一般用支持度(support)来评价。\n",
        "\n",
        "支持度指包含项目集合的事务占比，在本次任务中具体指的是订单中含有项目集合中的所有订单数量占总订单数量。由于数据中商品数量较多（4026 种），所以很有可能实际支持度绝对很高的项集不多，但是只要项集的支持度相对较高，就说明项集中隐藏的关联规则可能是相对而言重要的。\n",
        "\n",
        "下面利用 `apriori()` 方法限定项集的最小支持度 `min_support`，探索那些可能较为重要的项目集合。"
      ],
      "id": "Z_WZSelQ22GP"
    },
    {
      "cell_type": "code",
      "metadata": {
        "id": "german-musical"
      },
      "source": [
        "num_rec = []\n",
        "for i in np.arange(0.01,0.15,0.01):\n",
        "    result = apriori(trans_data, min_support=i)\n",
        "    num_rec.append(result.shape[0])"
      ],
      "id": "german-musical",
      "execution_count": 29,
      "outputs": []
    },
    {
      "cell_type": "code",
      "metadata": {
        "id": "UgoJx6ejlvc9",
        "colab": {
          "base_uri": "https://localhost:8080/",
          "height": 280
        },
        "outputId": "3c4a313e-7ee4-4dcb-9558-9c54e52ac388"
      },
      "source": [
        "plt.plot(np.arange(0.01,0.15,0.01),num_rec)\n",
        "plt.xlabel(\"min_support\");plt.ylabel(\"num_itemsets\")\n",
        "for i in range(len(np.arange(0.01,0.15,0.01))):\n",
        "    plt.text(np.arange(0.01,0.15,0.01)[i],num_rec[i]+5,str(num_rec[i]))"
      ],
      "id": "UgoJx6ejlvc9",
      "execution_count": 30,
      "outputs": [
        {
          "output_type": "display_data",
          "data": {
            "image/png": "[encoded data removed]",
            "text/plain": [
              "<Figure size 432x288 with 1 Axes>"
            ]
          },
          "metadata": {
            "tags": [],
            "needs_background": "light"
          }
        }
      ]
    },
    {
      "cell_type": "markdown",
      "metadata": {
        "id": "QV3bAMoJoA7J"
      },
      "source": [
        "可以看到，在整体数据集中，随着最小支持度线性上升，满足条件的项目集合数几乎是呈指数型下降。"
      ],
      "id": "QV3bAMoJoA7J"
    },
    {
      "cell_type": "code",
      "metadata": {
        "id": "0Ip_YicOmXxr",
        "colab": {
          "base_uri": "https://localhost:8080/",
          "height": 265
        },
        "outputId": "a7bf5b94-90ed-49ad-df3e-a5a57ade9514"
      },
      "source": [
        "result_list = []\n",
        "for i in np.arange(0.01,0.05,0.01):\n",
        "    result = apriori(trans_data, min_support=i)\n",
        "    result.iloc[:,1] = result.iloc[:,1].apply(lambda x: len(x))\n",
        "    result.columns=['itemsets_count','item_count']\n",
        "    a = result.groupby(by='item_count').count().T\n",
        "    display(a)"
      ],
      "id": "0Ip_YicOmXxr",
      "execution_count": 31,
      "outputs": [
        {
          "output_type": "display_data",
          "data": {
            "text/latex": "\\begin{tabular}{lrrrrr}\n\\toprule\nitem\\_count &    1 &    2 &    3 &   4 &  5 \\\\\n\\midrule\nitemsets\\_count &  810 &  840 &  233 &  18 &  1 \\\\\n\\bottomrule\n\\end{tabular}\n",
            "text/html": [
              "<div>\n",
              "<style scoped>\n",
              "    .dataframe tbody tr th:only-of-type {\n",
              "        vertical-align: middle;\n",
              "    }\n",
              "\n",
              "    .dataframe tbody tr th {\n",
              "        vertical-align: top;\n",
              "    }\n",
              "\n",
              "    .dataframe thead th {\n",
              "        text-align: right;\n",
              "    }\n",
              "</style>\n",
              "<table border=\"1\" class=\"dataframe\">\n",
              "  <thead>\n",
              "    <tr style=\"text-align: right;\">\n",
              "      <th>item_count</th>\n",
              "      <th>1</th>\n",
              "      <th>2</th>\n",
              "      <th>3</th>\n",
              "      <th>4</th>\n",
              "      <th>5</th>\n",
              "    </tr>\n",
              "  </thead>\n",
              "  <tbody>\n",
              "    <tr>\n",
              "      <th>itemsets_count</th>\n",
              "      <td>810</td>\n",
              "      <td>840</td>\n",
              "      <td>233</td>\n",
              "      <td>18</td>\n",
              "      <td>1</td>\n",
              "    </tr>\n",
              "  </tbody>\n",
              "</table>\n",
              "</div>"
            ],
            "text/plain": [
              "item_count        1    2    3   4  5\n",
              "itemsets_count  810  840  233  18  1"
            ]
          },
          "metadata": {
            "tags": []
          }
        },
        {
          "output_type": "display_data",
          "data": {
            "text/latex": "\\begin{tabular}{lrrr}\n\\toprule\nitem\\_count &    1 &   2 &  3 \\\\\n\\midrule\nitemsets\\_count &  296 &  79 &  3 \\\\\n\\bottomrule\n\\end{tabular}\n",
            "text/html": [
              "<div>\n",
              "<style scoped>\n",
              "    .dataframe tbody tr th:only-of-type {\n",
              "        vertical-align: middle;\n",
              "    }\n",
              "\n",
              "    .dataframe tbody tr th {\n",
              "        vertical-align: top;\n",
              "    }\n",
              "\n",
              "    .dataframe thead th {\n",
              "        text-align: right;\n",
              "    }\n",
              "</style>\n",
              "<table border=\"1\" class=\"dataframe\">\n",
              "  <thead>\n",
              "    <tr style=\"text-align: right;\">\n",
              "      <th>item_count</th>\n",
              "      <th>1</th>\n",
              "      <th>2</th>\n",
              "      <th>3</th>\n",
              "    </tr>\n",
              "  </thead>\n",
              "  <tbody>\n",
              "    <tr>\n",
              "      <th>itemsets_count</th>\n",
              "      <td>296</td>\n",
              "      <td>79</td>\n",
              "      <td>3</td>\n",
              "    </tr>\n",
              "  </tbody>\n",
              "</table>\n",
              "</div>"
            ],
            "text/plain": [
              "item_count        1   2  3\n",
              "itemsets_count  296  79  3"
            ]
          },
          "metadata": {
            "tags": []
          }
        },
        {
          "output_type": "display_data",
          "data": {
            "text/latex": "\\begin{tabular}{lrr}\n\\toprule\nitem\\_count &    1 &  2 \\\\\n\\midrule\nitemsets\\_count &  133 &  8 \\\\\n\\bottomrule\n\\end{tabular}\n",
            "text/html": [
              "<div>\n",
              "<style scoped>\n",
              "    .dataframe tbody tr th:only-of-type {\n",
              "        vertical-align: middle;\n",
              "    }\n",
              "\n",
              "    .dataframe tbody tr th {\n",
              "        vertical-align: top;\n",
              "    }\n",
              "\n",
              "    .dataframe thead th {\n",
              "        text-align: right;\n",
              "    }\n",
              "</style>\n",
              "<table border=\"1\" class=\"dataframe\">\n",
              "  <thead>\n",
              "    <tr style=\"text-align: right;\">\n",
              "      <th>item_count</th>\n",
              "      <th>1</th>\n",
              "      <th>2</th>\n",
              "    </tr>\n",
              "  </thead>\n",
              "  <tbody>\n",
              "    <tr>\n",
              "      <th>itemsets_count</th>\n",
              "      <td>133</td>\n",
              "      <td>8</td>\n",
              "    </tr>\n",
              "  </tbody>\n",
              "</table>\n",
              "</div>"
            ],
            "text/plain": [
              "item_count        1  2\n",
              "itemsets_count  133  8"
            ]
          },
          "metadata": {
            "tags": []
          }
        },
        {
          "output_type": "display_data",
          "data": {
            "text/latex": "\\begin{tabular}{lrr}\n\\toprule\nitem\\_count &   1 &  2 \\\\\n\\midrule\nitemsets\\_count &  65 &  1 \\\\\n\\bottomrule\n\\end{tabular}\n",
            "text/html": [
              "<div>\n",
              "<style scoped>\n",
              "    .dataframe tbody tr th:only-of-type {\n",
              "        vertical-align: middle;\n",
              "    }\n",
              "\n",
              "    .dataframe tbody tr th {\n",
              "        vertical-align: top;\n",
              "    }\n",
              "\n",
              "    .dataframe thead th {\n",
              "        text-align: right;\n",
              "    }\n",
              "</style>\n",
              "<table border=\"1\" class=\"dataframe\">\n",
              "  <thead>\n",
              "    <tr style=\"text-align: right;\">\n",
              "      <th>item_count</th>\n",
              "      <th>1</th>\n",
              "      <th>2</th>\n",
              "    </tr>\n",
              "  </thead>\n",
              "  <tbody>\n",
              "    <tr>\n",
              "      <th>itemsets_count</th>\n",
              "      <td>65</td>\n",
              "      <td>1</td>\n",
              "    </tr>\n",
              "  </tbody>\n",
              "</table>\n",
              "</div>"
            ],
            "text/plain": [
              "item_count       1  2\n",
              "itemsets_count  65  1"
            ]
          },
          "metadata": {
            "tags": []
          }
        }
      ]
    },
    {
      "cell_type": "markdown",
      "metadata": {
        "id": "US4oulWatn68"
      },
      "source": [
        "以上分别展示了支持度分别为 0.01、0.02、0.03、0.04 时抽出的频繁项集中含有的商品数和对应的商品数量相同的频繁项集数量。需要明确的是，我需要挖掘出的是规则，而只有 1 个商品的项集由于不可分出两个都不是空集的互斥子集，所以对于挖掘任务无帮助，**需要重点关注的则是那些含有 2 个及以上商品的项集**，从它们中间抽取出规则，检验这些规则的置信度。\n",
        "\n",
        "可以看到，限定最小支持度为 0.01、0.02、0.03 时可以获取得到许多含 2 个及以上商品的项集。因为含有d个项目的数据集有 $2^d$ 种可能的关联规则，为了研究方便，选择最小支持度 0.02 的结果继续进行关联规则挖掘。"
      ],
      "id": "US4oulWatn68"
    },
    {
      "cell_type": "code",
      "metadata": {
        "id": "ZdVQTWdh8XU1"
      },
      "source": [
        "freq_itemset = apriori(trans_data, min_support=0.02,use_colnames= True)"
      ],
      "id": "ZdVQTWdh8XU1",
      "execution_count": 32,
      "outputs": []
    },
    {
      "cell_type": "markdown",
      "metadata": {
        "id": "XmEWhZul5cEN"
      },
      "source": [
        "## 关联规则挖掘：基于置信度\n",
        "\n",
        "对于频繁项目集合 $X$ 可以分割为两个非空子集 $X_1$、$X_2$（$X=X_1 + X_2$），得到关联规则 $X_1\\to X_2$ 或 $X_2\\to X_1$。\n",
        "\n",
        "对于规则 $X_1\\to X_2$，其支持度为同时包含 $X_1$ 和 $X_2$ 的事务占比，实际上就是频繁项集 $X$ 的支持度；\n",
        "\n",
        "而其置信度(confidence)则是 $X_2$ 出现的条件概率，即所有事务数据中，包含 $X_1$ 的交易中同时出现 $X_2$ 的概率。\n",
        "\n",
        "所以在确定了频繁项集的情况下，可以利用置信度来挖掘较重要的规则。最基础的关联规则挖掘任务就是在确定满足以下条件的规则：\n",
        "\n",
        "1. 规则支持度不小于设定的最小支持度\n",
        "2. 规则置信度不小于设定的最小置信度\n",
        "\n",
        "\n",
        "\n"
      ],
      "id": "XmEWhZul5cEN"
    },
    {
      "cell_type": "markdown",
      "metadata": {
        "id": "itoJY5GP7qcv"
      },
      "source": [
        "下面，继续利用 `mixtend` 包的 `association_rules()` 方法挖掘关联规则。可通过 `min_threshold` 参数过滤那些置信度小于我们设定的规则。"
      ],
      "id": "itoJY5GP7qcv"
    },
    {
      "cell_type": "code",
      "metadata": {
        "id": "oqAoBrTs5Ymu"
      },
      "source": [
        "rule_count = []\n",
        "for i in np.arange(0.1,0.81,0.05):\n",
        "    rules = association_rules(freq_itemset,metric = 'confidence',min_threshold = i)\n",
        "    rule_count.append(rules.shape[0])"
      ],
      "id": "oqAoBrTs5Ymu",
      "execution_count": 33,
      "outputs": []
    },
    {
      "cell_type": "code",
      "metadata": {
        "id": "mAUYRJk79Lua",
        "colab": {
          "base_uri": "https://localhost:8080/",
          "height": 284
        },
        "outputId": "8e8e121a-8b0d-4a22-b378-953a6b674e6a"
      },
      "source": [
        "plt.plot(np.arange(0.1,0.81,0.05),rule_count)\n",
        "plt.xlabel(\"min_confidence\");plt.ylabel(\"num_rules\")\n",
        "for i in range(len(np.arange(0.1,0.81,0.05))):\n",
        "    plt.text(np.arange(0.1,0.81,0.05)[i],rule_count[i]+5,str(rule_count[i]))"
      ],
      "id": "mAUYRJk79Lua",
      "execution_count": 34,
      "outputs": [
        {
          "output_type": "display_data",
          "data": {
            "image/png": "[encoded data removed]",
            "text/plain": [
              "<Figure size 432x288 with 1 Axes>"
            ]
          },
          "metadata": {
            "tags": [],
            "needs_background": "light"
          }
        }
      ]
    },
    {
      "cell_type": "markdown",
      "metadata": {
        "id": "m-CmM_zVIbjP"
      },
      "source": [
        "通过对规则添加置信度限制，可以筛选出置信度较高的规则，下面展示置信度非常高（$\\text{confidence}\\ge 0.7$）的13条规则："
      ],
      "id": "m-CmM_zVIbjP"
    },
    {
      "cell_type": "code",
      "metadata": {
        "id": "C13yzXXGIzIa"
      },
      "source": [
        "rules = association_rules(freq_itemset,metric = 'confidence',min_threshold = 0.7)"
      ],
      "id": "C13yzXXGIzIa",
      "execution_count": 35,
      "outputs": []
    },
    {
      "cell_type": "code",
      "metadata": {
        "id": "iwC_3smNJgtR",
        "colab": {
          "base_uri": "https://localhost:8080/"
        },
        "outputId": "6ff45114-6594-4183-e2fc-10a9b1fa19fa"
      },
      "source": [
        "rules.columns"
      ],
      "id": "iwC_3smNJgtR",
      "execution_count": 36,
      "outputs": [
        {
          "output_type": "execute_result",
          "data": {
            "text/plain": [
              "Index(['antecedents', 'consequents', 'antecedent support',\n",
              "       'consequent support', 'support', 'confidence', 'lift', 'leverage',\n",
              "       'conviction'],\n",
              "      dtype='object')"
            ]
          },
          "metadata": {
            "tags": []
          },
          "execution_count": 36
        }
      ]
    },
    {
      "cell_type": "code",
      "metadata": {
        "id": "AY6MJe8-K7lR",
        "colab": {
          "base_uri": "https://localhost:8080/",
          "height": 569
        },
        "outputId": "2d299003-e878-476a-8add-d4a5efea3550"
      },
      "source": [
        "rules.iloc[:,[0,1,4,5,6]].sort_values(by=\"confidence\",ascending=False).round(3)"
      ],
      "id": "AY6MJe8-K7lR",
      "execution_count": 37,
      "outputs": [
        {
          "output_type": "execute_result",
          "data": {
            "text/latex": "\\begin{tabular}{lllrrr}\n\\toprule\n{} &                                        antecedents &                                        consequents &  support &  confidence &    lift \\\\\n\\midrule\n6  &  (PINK REGENCY TEACUP AND SAUCER, ROSES REGENCY... &                  (GREEN REGENCY TEACUP AND SAUCER) &    0.027 &       0.905 &  17.825 \\\\\n7  &  (PINK REGENCY TEACUP AND SAUCER, GREEN REGENCY... &                 (ROSES REGENCY TEACUP AND SAUCER ) &    0.027 &       0.856 &  16.042 \\\\\n2  &                   (PINK REGENCY TEACUP AND SAUCER) &                  (GREEN REGENCY TEACUP AND SAUCER) &    0.032 &       0.826 &  16.277 \\\\\n12 &  (JUMBO BAG PINK POLKADOT, JUMBO STORAGE BAG SUKI) &                          (JUMBO BAG RED RETROSPOT) &    0.021 &       0.802 &   7.662 \\\\\n11 &  (REGENCY CAKESTAND 3 TIER, GREEN REGENCY TEACU... &                 (ROSES REGENCY TEACUP AND SAUCER ) &    0.020 &       0.802 &  15.022 \\\\\n5  &                   (PINK REGENCY TEACUP AND SAUCER) &                 (ROSES REGENCY TEACUP AND SAUCER ) &    0.030 &       0.782 &  14.650 \\\\\n10 &  (REGENCY CAKESTAND 3 TIER, ROSES REGENCY TEACU... &                  (GREEN REGENCY TEACUP AND SAUCER) &    0.020 &       0.777 &  15.312 \\\\\n4  &                  (GREEN REGENCY TEACUP AND SAUCER) &                 (ROSES REGENCY TEACUP AND SAUCER ) &    0.038 &       0.757 &  14.190 \\\\\n1  &               (GARDENERS KNEELING PAD CUP OF TEA ) &                (GARDENERS KNEELING PAD KEEP CALM ) &    0.027 &       0.720 &  15.747 \\\\\n3  &                 (ROSES REGENCY TEACUP AND SAUCER ) &                  (GREEN REGENCY TEACUP AND SAUCER) &    0.038 &       0.720 &  14.190 \\\\\n9  &                   (PINK REGENCY TEACUP AND SAUCER) &  (ROSES REGENCY TEACUP AND SAUCER , GREEN REGEN... &    0.027 &       0.707 &  18.403 \\\\\n8  &  (ROSES REGENCY TEACUP AND SAUCER , GREEN REGEN... &                   (PINK REGENCY TEACUP AND SAUCER) &    0.027 &       0.705 &  18.403 \\\\\n0  &                      (CHARLOTTE BAG PINK POLKADOT) &                      (RED RETROSPOT CHARLOTTE BAG) &    0.026 &       0.704 &  13.606 \\\\\n\\bottomrule\n\\end{tabular}\n",
            "text/html": [
              "<div>\n",
              "<style scoped>\n",
              "    .dataframe tbody tr th:only-of-type {\n",
              "        vertical-align: middle;\n",
              "    }\n",
              "\n",
              "    .dataframe tbody tr th {\n",
              "        vertical-align: top;\n",
              "    }\n",
              "\n",
              "    .dataframe thead th {\n",
              "        text-align: right;\n",
              "    }\n",
              "</style>\n",
              "<table border=\"1\" class=\"dataframe\">\n",
              "  <thead>\n",
              "    <tr style=\"text-align: right;\">\n",
              "      <th></th>\n",
              "      <th>antecedents</th>\n",
              "      <th>consequents</th>\n",
              "      <th>support</th>\n",
              "      <th>confidence</th>\n",
              "      <th>lift</th>\n",
              "    </tr>\n",
              "  </thead>\n",
              "  <tbody>\n",
              "    <tr>\n",
              "      <th>6</th>\n",
              "      <td>(PINK REGENCY TEACUP AND SAUCER, ROSES REGENCY...</td>\n",
              "      <td>(GREEN REGENCY TEACUP AND SAUCER)</td>\n",
              "      <td>0.027</td>\n",
              "      <td>0.905</td>\n",
              "      <td>17.825</td>\n",
              "    </tr>\n",
              "    <tr>\n",
              "      <th>7</th>\n",
              "      <td>(PINK REGENCY TEACUP AND SAUCER, GREEN REGENCY...</td>\n",
              "      <td>(ROSES REGENCY TEACUP AND SAUCER )</td>\n",
              "      <td>0.027</td>\n",
              "      <td>0.856</td>\n",
              "      <td>16.042</td>\n",
              "    </tr>\n",
              "    <tr>\n",
              "      <th>2</th>\n",
              "      <td>(PINK REGENCY TEACUP AND SAUCER)</td>\n",
              "      <td>(GREEN REGENCY TEACUP AND SAUCER)</td>\n",
              "      <td>0.032</td>\n",
              "      <td>0.826</td>\n",
              "      <td>16.277</td>\n",
              "    </tr>\n",
              "    <tr>\n",
              "      <th>12</th>\n",
              "      <td>(JUMBO BAG PINK POLKADOT, JUMBO STORAGE BAG SUKI)</td>\n",
              "      <td>(JUMBO BAG RED RETROSPOT)</td>\n",
              "      <td>0.021</td>\n",
              "      <td>0.802</td>\n",
              "      <td>7.662</td>\n",
              "    </tr>\n",
              "    <tr>\n",
              "      <th>11</th>\n",
              "      <td>(REGENCY CAKESTAND 3 TIER, GREEN REGENCY TEACU...</td>\n",
              "      <td>(ROSES REGENCY TEACUP AND SAUCER )</td>\n",
              "      <td>0.020</td>\n",
              "      <td>0.802</td>\n",
              "      <td>15.022</td>\n",
              "    </tr>\n",
              "    <tr>\n",
              "      <th>5</th>\n",
              "      <td>(PINK REGENCY TEACUP AND SAUCER)</td>\n",
              "      <td>(ROSES REGENCY TEACUP AND SAUCER )</td>\n",
              "      <td>0.030</td>\n",
              "      <td>0.782</td>\n",
              "      <td>14.650</td>\n",
              "    </tr>\n",
              "    <tr>\n",
              "      <th>10</th>\n",
              "      <td>(REGENCY CAKESTAND 3 TIER, ROSES REGENCY TEACU...</td>\n",
              "      <td>(GREEN REGENCY TEACUP AND SAUCER)</td>\n",
              "      <td>0.020</td>\n",
              "      <td>0.777</td>\n",
              "      <td>15.312</td>\n",
              "    </tr>\n",
              "    <tr>\n",
              "      <th>4</th>\n",
              "      <td>(GREEN REGENCY TEACUP AND SAUCER)</td>\n",
              "      <td>(ROSES REGENCY TEACUP AND SAUCER )</td>\n",
              "      <td>0.038</td>\n",
              "      <td>0.757</td>\n",
              "      <td>14.190</td>\n",
              "    </tr>\n",
              "    <tr>\n",
              "      <th>1</th>\n",
              "      <td>(GARDENERS KNEELING PAD CUP OF TEA )</td>\n",
              "      <td>(GARDENERS KNEELING PAD KEEP CALM )</td>\n",
              "      <td>0.027</td>\n",
              "      <td>0.720</td>\n",
              "      <td>15.747</td>\n",
              "    </tr>\n",
              "    <tr>\n",
              "      <th>3</th>\n",
              "      <td>(ROSES REGENCY TEACUP AND SAUCER )</td>\n",
              "      <td>(GREEN REGENCY TEACUP AND SAUCER)</td>\n",
              "      <td>0.038</td>\n",
              "      <td>0.720</td>\n",
              "      <td>14.190</td>\n",
              "    </tr>\n",
              "    <tr>\n",
              "      <th>9</th>\n",
              "      <td>(PINK REGENCY TEACUP AND SAUCER)</td>\n",
              "      <td>(ROSES REGENCY TEACUP AND SAUCER , GREEN REGEN...</td>\n",
              "      <td>0.027</td>\n",
              "      <td>0.707</td>\n",
              "      <td>18.403</td>\n",
              "    </tr>\n",
              "    <tr>\n",
              "      <th>8</th>\n",
              "      <td>(ROSES REGENCY TEACUP AND SAUCER , GREEN REGEN...</td>\n",
              "      <td>(PINK REGENCY TEACUP AND SAUCER)</td>\n",
              "      <td>0.027</td>\n",
              "      <td>0.705</td>\n",
              "      <td>18.403</td>\n",
              "    </tr>\n",
              "    <tr>\n",
              "      <th>0</th>\n",
              "      <td>(CHARLOTTE BAG PINK POLKADOT)</td>\n",
              "      <td>(RED RETROSPOT CHARLOTTE BAG)</td>\n",
              "      <td>0.026</td>\n",
              "      <td>0.704</td>\n",
              "      <td>13.606</td>\n",
              "    </tr>\n",
              "  </tbody>\n",
              "</table>\n",
              "</div>"
            ],
            "text/plain": [
              "                                          antecedents  ...    lift\n",
              "6   (PINK REGENCY TEACUP AND SAUCER, ROSES REGENCY...  ...  17.825\n",
              "7   (PINK REGENCY TEACUP AND SAUCER, GREEN REGENCY...  ...  16.042\n",
              "2                    (PINK REGENCY TEACUP AND SAUCER)  ...  16.277\n",
              "12  (JUMBO BAG PINK POLKADOT, JUMBO STORAGE BAG SUKI)  ...   7.662\n",
              "11  (REGENCY CAKESTAND 3 TIER, GREEN REGENCY TEACU...  ...  15.022\n",
              "5                    (PINK REGENCY TEACUP AND SAUCER)  ...  14.650\n",
              "10  (REGENCY CAKESTAND 3 TIER, ROSES REGENCY TEACU...  ...  15.312\n",
              "4                   (GREEN REGENCY TEACUP AND SAUCER)  ...  14.190\n",
              "1                (GARDENERS KNEELING PAD CUP OF TEA )  ...  15.747\n",
              "3                  (ROSES REGENCY TEACUP AND SAUCER )  ...  14.190\n",
              "9                    (PINK REGENCY TEACUP AND SAUCER)  ...  18.403\n",
              "8   (ROSES REGENCY TEACUP AND SAUCER , GREEN REGEN...  ...  18.403\n",
              "0                       (CHARLOTTE BAG PINK POLKADOT)  ...  13.606\n",
              "\n",
              "[13 rows x 5 columns]"
            ]
          },
          "metadata": {
            "tags": []
          },
          "execution_count": 37
        }
      ]
    },
    {
      "cell_type": "markdown",
      "metadata": {
        "id": "X0DkTRFAMkud"
      },
      "source": [
        "3 款不同颜色的茶杯和茶碟组成的频繁项集生成的 3 条关联规则在提取出的规则之间置信度最高，这条规则说明该电商渠道的顾客当需要买茶杯时，很可能会 3 种颜色的茶杯一同购买。就此产生的用以指导销售的策略可能是注意补齐缺货颜色，尽量保证各种颜色的茶杯都有货，这样顾客就会购买多种颜色的茶杯，增加销量。\n",
        "\n",
        "还有的规则是 JUMBO 牌收纳袋不同颜色之间的关联规则，原因与上述类似；还有同时购买茶杯和蛋糕架的规则，可以利用此规则调整销售策略。\n",
        "\n",
        "但是观察所有支持度大于0.02，置信度大于0.70的规则也可以看出，总共涉及到的商品类别也有限，而且规则也大多局限于一种商品的不同颜色款式，可能规则相对于理想状态下的示例（如啤酒、尿布例子）不是很有趣，我认为这主要是数据集的商品粒度过细的原因，如果我们想挖掘出“更有意思”的规则，应该对不同品牌、不同颜色的同品类商品进行合并；但是“没有意思”的规则并不意味着没有应用价值，只要对目标策略调整具有指导性意义的规则，就是好的规则。"
      ],
      "id": "X0DkTRFAMkud"
    },
    {
      "cell_type": "markdown",
      "metadata": {
        "id": "xoeT7dseSATr"
      },
      "source": [
        "## 关联规则挖掘：基于提升度\n",
        "\n",
        "上一节筛选关联规则时，使用的评价指标是 confidence，这一指标在规则中（项集中）某些项目本身出现频率较高时有误导性，即有可能 $\\text{confidence=}P(X_1|X_2)$ 看起来很高，但是因为 $P(X_1)$ 本身很高且 $P(X_2)$ 不是很高，实际上 $P(X_1|\\bar{X_2}) \\gt P(X_1|X_2)$。\n",
        "\n",
        "引入提升度(lift)可以解决这个问题，提升度在计算时考虑了统计独立性，相比于 confidence 略科学。它衡量的是一个规则对目标中“响应”的预测能力优于随机选择的倍数.\n",
        "\n",
        "$$\n",
        "\\text{lift}(X_1|X_2)=\\dfrac{P(X_1|X_2)}{P(X_1)}\n",
        "$$\n",
        "\n",
        "下面，利用 `mlxtend` 包的 `association_rules()` 方法挖掘关联规则。可通过 `min_threshold` 参数过滤那些提升度小于我们设定的规则。"
      ],
      "id": "xoeT7dseSATr"
    },
    {
      "cell_type": "code",
      "metadata": {
        "id": "N_omrn7sQ9xl",
        "colab": {
          "base_uri": "https://localhost:8080/",
          "height": 284
        },
        "outputId": "f862efa0-d015-4327-e9c0-d60be8f869ba"
      },
      "source": [
        "rule_count = []\n",
        "for i in np.arange(0.99,20,1):\n",
        "    rules = association_rules(freq_itemset,metric = 'lift',min_threshold = i)\n",
        "    rule_count.append(rules.shape[0])\n",
        "\n",
        "plt.plot(np.arange(0.99,20,1),rule_count)\n",
        "plt.xlabel(\"min_lift\");plt.ylabel(\"num_rules\")\n",
        "for i in range(len(np.arange(0.99,20,1))):\n",
        "    plt.text(np.arange(0.99,20,1)[i],rule_count[i]+5,str(rule_count[i]))"
      ],
      "id": "N_omrn7sQ9xl",
      "execution_count": 38,
      "outputs": [
        {
          "output_type": "display_data",
          "data": {
            "image/png": "[encoded data removed]",
            "text/plain": [
              "<Figure size 432x288 with 1 Axes>"
            ]
          },
          "metadata": {
            "tags": [],
            "needs_background": "light"
          }
        }
      ]
    },
    {
      "cell_type": "code",
      "metadata": {
        "id": "vFWVVJj2Vj6d"
      },
      "source": [
        "rules = association_rules(freq_itemset,metric = 'lift',min_threshold = 14.99)"
      ],
      "id": "vFWVVJj2Vj6d",
      "execution_count": 39,
      "outputs": []
    },
    {
      "cell_type": "code",
      "metadata": {
        "id": "SJJkDqciVtha",
        "colab": {
          "base_uri": "https://localhost:8080/",
          "height": 651
        },
        "outputId": "250ed2ce-efa5-4cef-a3ae-ed87f0f29195"
      },
      "source": [
        "rules.iloc[:,[0,1,4,5,6]].sort_values(by=\"lift\",ascending=False).round(3)"
      ],
      "id": "SJJkDqciVtha",
      "execution_count": 40,
      "outputs": [
        {
          "output_type": "execute_result",
          "data": {
            "text/latex": "\\begin{tabular}{lllrrr}\n\\toprule\n{} &                                        antecedents &                                        consequents &  support &  confidence &    lift \\\\\n\\midrule\n6  &  (ROSES REGENCY TEACUP AND SAUCER , GREEN REGEN... &                   (PINK REGENCY TEACUP AND SAUCER) &    0.027 &       0.705 &  18.403 \\\\\n7  &                   (PINK REGENCY TEACUP AND SAUCER) &  (ROSES REGENCY TEACUP AND SAUCER , GREEN REGEN... &    0.027 &       0.707 &  18.403 \\\\\n4  &  (PINK REGENCY TEACUP AND SAUCER, ROSES REGENCY... &                  (GREEN REGENCY TEACUP AND SAUCER) &    0.027 &       0.905 &  17.825 \\\\\n9  &                  (GREEN REGENCY TEACUP AND SAUCER) &  (PINK REGENCY TEACUP AND SAUCER, ROSES REGENCY... &    0.027 &       0.534 &  17.825 \\\\\n3  &                  (GREEN REGENCY TEACUP AND SAUCER) &                   (PINK REGENCY TEACUP AND SAUCER) &    0.032 &       0.624 &  16.277 \\\\\n2  &                   (PINK REGENCY TEACUP AND SAUCER) &                  (GREEN REGENCY TEACUP AND SAUCER) &    0.032 &       0.826 &  16.277 \\\\\n5  &  (PINK REGENCY TEACUP AND SAUCER, GREEN REGENCY... &                 (ROSES REGENCY TEACUP AND SAUCER ) &    0.027 &       0.856 &  16.042 \\\\\n8  &                 (ROSES REGENCY TEACUP AND SAUCER ) &  (PINK REGENCY TEACUP AND SAUCER, GREEN REGENCY... &    0.027 &       0.508 &  16.042 \\\\\n0  &                (GARDENERS KNEELING PAD KEEP CALM ) &               (GARDENERS KNEELING PAD CUP OF TEA ) &    0.027 &       0.598 &  15.747 \\\\\n1  &               (GARDENERS KNEELING PAD CUP OF TEA ) &                (GARDENERS KNEELING PAD KEEP CALM ) &    0.027 &       0.720 &  15.747 \\\\\n10 &  (REGENCY CAKESTAND 3 TIER, ROSES REGENCY TEACU... &                  (GREEN REGENCY TEACUP AND SAUCER) &    0.020 &       0.777 &  15.312 \\\\\n13 &                  (GREEN REGENCY TEACUP AND SAUCER) &  (REGENCY CAKESTAND 3 TIER, ROSES REGENCY TEACU... &    0.020 &       0.403 &  15.312 \\\\\n11 &  (REGENCY CAKESTAND 3 TIER, GREEN REGENCY TEACU... &                 (ROSES REGENCY TEACUP AND SAUCER ) &    0.020 &       0.802 &  15.022 \\\\\n12 &                 (ROSES REGENCY TEACUP AND SAUCER ) &  (REGENCY CAKESTAND 3 TIER, GREEN REGENCY TEACU... &    0.020 &       0.383 &  15.022 \\\\\n\\bottomrule\n\\end{tabular}\n",
            "text/html": [
              "<div>\n",
              "<style scoped>\n",
              "    .dataframe tbody tr th:only-of-type {\n",
              "        vertical-align: middle;\n",
              "    }\n",
              "\n",
              "    .dataframe tbody tr th {\n",
              "        vertical-align: top;\n",
              "    }\n",
              "\n",
              "    .dataframe thead th {\n",
              "        text-align: right;\n",
              "    }\n",
              "</style>\n",
              "<table border=\"1\" class=\"dataframe\">\n",
              "  <thead>\n",
              "    <tr style=\"text-align: right;\">\n",
              "      <th></th>\n",
              "      <th>antecedents</th>\n",
              "      <th>consequents</th>\n",
              "      <th>support</th>\n",
              "      <th>confidence</th>\n",
              "      <th>lift</th>\n",
              "    </tr>\n",
              "  </thead>\n",
              "  <tbody>\n",
              "    <tr>\n",
              "      <th>6</th>\n",
              "      <td>(ROSES REGENCY TEACUP AND SAUCER , GREEN REGEN...</td>\n",
              "      <td>(PINK REGENCY TEACUP AND SAUCER)</td>\n",
              "      <td>0.027</td>\n",
              "      <td>0.705</td>\n",
              "      <td>18.403</td>\n",
              "    </tr>\n",
              "    <tr>\n",
              "      <th>7</th>\n",
              "      <td>(PINK REGENCY TEACUP AND SAUCER)</td>\n",
              "      <td>(ROSES REGENCY TEACUP AND SAUCER , GREEN REGEN...</td>\n",
              "      <td>0.027</td>\n",
              "      <td>0.707</td>\n",
              "      <td>18.403</td>\n",
              "    </tr>\n",
              "    <tr>\n",
              "      <th>4</th>\n",
              "      <td>(PINK REGENCY TEACUP AND SAUCER, ROSES REGENCY...</td>\n",
              "      <td>(GREEN REGENCY TEACUP AND SAUCER)</td>\n",
              "      <td>0.027</td>\n",
              "      <td>0.905</td>\n",
              "      <td>17.825</td>\n",
              "    </tr>\n",
              "    <tr>\n",
              "      <th>9</th>\n",
              "      <td>(GREEN REGENCY TEACUP AND SAUCER)</td>\n",
              "      <td>(PINK REGENCY TEACUP AND SAUCER, ROSES REGENCY...</td>\n",
              "      <td>0.027</td>\n",
              "      <td>0.534</td>\n",
              "      <td>17.825</td>\n",
              "    </tr>\n",
              "    <tr>\n",
              "      <th>3</th>\n",
              "      <td>(GREEN REGENCY TEACUP AND SAUCER)</td>\n",
              "      <td>(PINK REGENCY TEACUP AND SAUCER)</td>\n",
              "      <td>0.032</td>\n",
              "      <td>0.624</td>\n",
              "      <td>16.277</td>\n",
              "    </tr>\n",
              "    <tr>\n",
              "      <th>2</th>\n",
              "      <td>(PINK REGENCY TEACUP AND SAUCER)</td>\n",
              "      <td>(GREEN REGENCY TEACUP AND SAUCER)</td>\n",
              "      <td>0.032</td>\n",
              "      <td>0.826</td>\n",
              "      <td>16.277</td>\n",
              "    </tr>\n",
              "    <tr>\n",
              "      <th>5</th>\n",
              "      <td>(PINK REGENCY TEACUP AND SAUCER, GREEN REGENCY...</td>\n",
              "      <td>(ROSES REGENCY TEACUP AND SAUCER )</td>\n",
              "      <td>0.027</td>\n",
              "      <td>0.856</td>\n",
              "      <td>16.042</td>\n",
              "    </tr>\n",
              "    <tr>\n",
              "      <th>8</th>\n",
              "      <td>(ROSES REGENCY TEACUP AND SAUCER )</td>\n",
              "      <td>(PINK REGENCY TEACUP AND SAUCER, GREEN REGENCY...</td>\n",
              "      <td>0.027</td>\n",
              "      <td>0.508</td>\n",
              "      <td>16.042</td>\n",
              "    </tr>\n",
              "    <tr>\n",
              "      <th>0</th>\n",
              "      <td>(GARDENERS KNEELING PAD KEEP CALM )</td>\n",
              "      <td>(GARDENERS KNEELING PAD CUP OF TEA )</td>\n",
              "      <td>0.027</td>\n",
              "      <td>0.598</td>\n",
              "      <td>15.747</td>\n",
              "    </tr>\n",
              "    <tr>\n",
              "      <th>1</th>\n",
              "      <td>(GARDENERS KNEELING PAD CUP OF TEA )</td>\n",
              "      <td>(GARDENERS KNEELING PAD KEEP CALM )</td>\n",
              "      <td>0.027</td>\n",
              "      <td>0.720</td>\n",
              "      <td>15.747</td>\n",
              "    </tr>\n",
              "    <tr>\n",
              "      <th>10</th>\n",
              "      <td>(REGENCY CAKESTAND 3 TIER, ROSES REGENCY TEACU...</td>\n",
              "      <td>(GREEN REGENCY TEACUP AND SAUCER)</td>\n",
              "      <td>0.020</td>\n",
              "      <td>0.777</td>\n",
              "      <td>15.312</td>\n",
              "    </tr>\n",
              "    <tr>\n",
              "      <th>13</th>\n",
              "      <td>(GREEN REGENCY TEACUP AND SAUCER)</td>\n",
              "      <td>(REGENCY CAKESTAND 3 TIER, ROSES REGENCY TEACU...</td>\n",
              "      <td>0.020</td>\n",
              "      <td>0.403</td>\n",
              "      <td>15.312</td>\n",
              "    </tr>\n",
              "    <tr>\n",
              "      <th>11</th>\n",
              "      <td>(REGENCY CAKESTAND 3 TIER, GREEN REGENCY TEACU...</td>\n",
              "      <td>(ROSES REGENCY TEACUP AND SAUCER )</td>\n",
              "      <td>0.020</td>\n",
              "      <td>0.802</td>\n",
              "      <td>15.022</td>\n",
              "    </tr>\n",
              "    <tr>\n",
              "      <th>12</th>\n",
              "      <td>(ROSES REGENCY TEACUP AND SAUCER )</td>\n",
              "      <td>(REGENCY CAKESTAND 3 TIER, GREEN REGENCY TEACU...</td>\n",
              "      <td>0.020</td>\n",
              "      <td>0.383</td>\n",
              "      <td>15.022</td>\n",
              "    </tr>\n",
              "  </tbody>\n",
              "</table>\n",
              "</div>"
            ],
            "text/plain": [
              "                                          antecedents  ...    lift\n",
              "6   (ROSES REGENCY TEACUP AND SAUCER , GREEN REGEN...  ...  18.403\n",
              "7                    (PINK REGENCY TEACUP AND SAUCER)  ...  18.403\n",
              "4   (PINK REGENCY TEACUP AND SAUCER, ROSES REGENCY...  ...  17.825\n",
              "9                   (GREEN REGENCY TEACUP AND SAUCER)  ...  17.825\n",
              "3                   (GREEN REGENCY TEACUP AND SAUCER)  ...  16.277\n",
              "2                    (PINK REGENCY TEACUP AND SAUCER)  ...  16.277\n",
              "5   (PINK REGENCY TEACUP AND SAUCER, GREEN REGENCY...  ...  16.042\n",
              "8                  (ROSES REGENCY TEACUP AND SAUCER )  ...  16.042\n",
              "0                 (GARDENERS KNEELING PAD KEEP CALM )  ...  15.747\n",
              "1                (GARDENERS KNEELING PAD CUP OF TEA )  ...  15.747\n",
              "10  (REGENCY CAKESTAND 3 TIER, ROSES REGENCY TEACU...  ...  15.312\n",
              "13                  (GREEN REGENCY TEACUP AND SAUCER)  ...  15.312\n",
              "11  (REGENCY CAKESTAND 3 TIER, GREEN REGENCY TEACU...  ...  15.022\n",
              "12                 (ROSES REGENCY TEACUP AND SAUCER )  ...  15.022\n",
              "\n",
              "[14 rows x 5 columns]"
            ]
          },
          "metadata": {
            "tags": []
          },
          "execution_count": 40
        }
      ]
    },
    {
      "cell_type": "markdown",
      "metadata": {
        "id": "Mal80cO2k7K4"
      },
      "source": [
        "相比而言，同样支持度限制下，使用提升度和置信度提取得到的规则中包含的商品类似，但是排名不同；可以看出提升度较高的规则也说明了同品类不同款式的组合销售非常重要。"
      ],
      "id": "Mal80cO2k7K4"
    },
    {
      "cell_type": "markdown",
      "metadata": {
        "id": "JDJp6mp5nECE"
      },
      "source": [
        "# 分国家数据关联规则挖掘\n",
        "\n",
        "可选择主要的三个国家进行各自国家内部订单的关联规则分析，得出不同市场的特点；但是由于数据集中 United Kingdom 数据单量与其他国家过于悬殊，直接对比可能得出意义较小的结论，所以选择订单量较多且订单量处于同一数量级的德国（Germany，单量457）、法国（France，单量392）、爱尔兰（EIRE，单量288）的数据进行分析，过程与整个数据集的分析类似。"
      ],
      "id": "JDJp6mp5nECE"
    },
    {
      "cell_type": "code",
      "metadata": {
        "id": "bTIB_vSzocE9"
      },
      "source": [
        "data_germany = data[data.Country=='Germany']\n",
        "data_france = data[data.Country=='France']\n",
        "data_eire = data[data.Country=='EIRE']"
      ],
      "id": "bTIB_vSzocE9",
      "execution_count": 41,
      "outputs": []
    },
    {
      "cell_type": "markdown",
      "metadata": {
        "id": "IGNtzcnUl8Tb"
      },
      "source": [
        "## 关联规则挖掘：法国"
      ],
      "id": "IGNtzcnUl8Tb"
    },
    {
      "cell_type": "code",
      "metadata": {
        "id": "4ZC4PnMVojEm",
        "colab": {
          "base_uri": "https://localhost:8080/"
        },
        "outputId": "973b6943-5deb-4af4-e95e-2057125d5f95"
      },
      "source": [
        "prevIndex = -1; trans_list = []; trans = []\n",
        "orderData = data_france.iloc[:,:2].set_index('InvoiceNo')\n",
        "for index,row in orderData.iterrows():\n",
        "    if index == prevIndex:\n",
        "        trans.append(row[0])\n",
        "    else: \n",
        "        prevIndex = index\n",
        "        trans_list.append(trans)\n",
        "        trans = []\n",
        "        trans.append(row[0])\n",
        "trans_list = trans_list[1:]\n",
        "encoder = TransactionEncoder()\n",
        "X = encoder.fit_transform(trans_list)\n",
        "print(\"Num of goods: %d \\nGoods Sample:\" % len(encoder.columns_))\n",
        "print(encoder.columns_[:3])\n",
        "trans_data = pd.DataFrame(X, columns = encoder.columns_)"
      ],
      "id": "4ZC4PnMVojEm",
      "execution_count": 42,
      "outputs": [
        {
          "output_type": "stream",
          "text": [
            "Num of goods: 1564 \n",
            "Goods Sample:\n",
            "[\" 50'S CHRISTMAS GIFT BAG LARGE\", ' DOLLY GIRL BEAKER', ' I LOVE LONDON MINI BACKPACK']\n"
          ],
          "name": "stdout"
        }
      ]
    },
    {
      "cell_type": "code",
      "metadata": {
        "id": "LMfT1KJ3qXxm",
        "colab": {
          "base_uri": "https://localhost:8080/",
          "height": 577
        },
        "outputId": "b693d442-92d1-4e9d-9d1f-0e64be5b3caf"
      },
      "source": [
        "num_rec = []\n",
        "for i in np.arange(0.05,0.24,0.03):\n",
        "    result = apriori(trans_data, min_support=i)\n",
        "    num_rec.append(result.shape[0])\n",
        "    result.iloc[:,1] = result.iloc[:,1].apply(lambda x: len(x))\n",
        "    result.columns=['itemsets_count','item_count']\n",
        "    a = result.groupby(by='item_count').count().T\n",
        "    print(\"Support: %.3f\" % i)\n",
        "    display(a)"
      ],
      "id": "LMfT1KJ3qXxm",
      "execution_count": 43,
      "outputs": [
        {
          "output_type": "stream",
          "text": [
            "Support: 0.050\n"
          ],
          "name": "stdout"
        },
        {
          "output_type": "display_data",
          "data": {
            "text/latex": "\\begin{tabular}{lrrrr}\n\\toprule\nitem\\_count &   1 &   2 &   3 &  4 \\\\\n\\midrule\nitemsets\\_count &  76 &  93 &  22 &  3 \\\\\n\\bottomrule\n\\end{tabular}\n",
            "text/html": [
              "<div>\n",
              "<style scoped>\n",
              "    .dataframe tbody tr th:only-of-type {\n",
              "        vertical-align: middle;\n",
              "    }\n",
              "\n",
              "    .dataframe tbody tr th {\n",
              "        vertical-align: top;\n",
              "    }\n",
              "\n",
              "    .dataframe thead th {\n",
              "        text-align: right;\n",
              "    }\n",
              "</style>\n",
              "<table border=\"1\" class=\"dataframe\">\n",
              "  <thead>\n",
              "    <tr style=\"text-align: right;\">\n",
              "      <th>item_count</th>\n",
              "      <th>1</th>\n",
              "      <th>2</th>\n",
              "      <th>3</th>\n",
              "      <th>4</th>\n",
              "    </tr>\n",
              "  </thead>\n",
              "  <tbody>\n",
              "    <tr>\n",
              "      <th>itemsets_count</th>\n",
              "      <td>76</td>\n",
              "      <td>93</td>\n",
              "      <td>22</td>\n",
              "      <td>3</td>\n",
              "    </tr>\n",
              "  </tbody>\n",
              "</table>\n",
              "</div>"
            ],
            "text/plain": [
              "item_count       1   2   3  4\n",
              "itemsets_count  76  93  22  3"
            ]
          },
          "metadata": {
            "tags": []
          }
        },
        {
          "output_type": "stream",
          "text": [
            "Support: 0.080\n"
          ],
          "name": "stdout"
        },
        {
          "output_type": "display_data",
          "data": {
            "text/latex": "\\begin{tabular}{lrrrr}\n\\toprule\nitem\\_count &   1 &   2 &  3 &  4 \\\\\n\\midrule\nitemsets\\_count &  32 &  33 &  6 &  1 \\\\\n\\bottomrule\n\\end{tabular}\n",
            "text/html": [
              "<div>\n",
              "<style scoped>\n",
              "    .dataframe tbody tr th:only-of-type {\n",
              "        vertical-align: middle;\n",
              "    }\n",
              "\n",
              "    .dataframe tbody tr th {\n",
              "        vertical-align: top;\n",
              "    }\n",
              "\n",
              "    .dataframe thead th {\n",
              "        text-align: right;\n",
              "    }\n",
              "</style>\n",
              "<table border=\"1\" class=\"dataframe\">\n",
              "  <thead>\n",
              "    <tr style=\"text-align: right;\">\n",
              "      <th>item_count</th>\n",
              "      <th>1</th>\n",
              "      <th>2</th>\n",
              "      <th>3</th>\n",
              "      <th>4</th>\n",
              "    </tr>\n",
              "  </thead>\n",
              "  <tbody>\n",
              "    <tr>\n",
              "      <th>itemsets_count</th>\n",
              "      <td>32</td>\n",
              "      <td>33</td>\n",
              "      <td>6</td>\n",
              "      <td>1</td>\n",
              "    </tr>\n",
              "  </tbody>\n",
              "</table>\n",
              "</div>"
            ],
            "text/plain": [
              "item_count       1   2  3  4\n",
              "itemsets_count  32  33  6  1"
            ]
          },
          "metadata": {
            "tags": []
          }
        },
        {
          "output_type": "stream",
          "text": [
            "Support: 0.110\n"
          ],
          "name": "stdout"
        },
        {
          "output_type": "display_data",
          "data": {
            "text/latex": "\\begin{tabular}{lrr}\n\\toprule\nitem\\_count &   1 &   2 \\\\\n\\midrule\nitemsets\\_count &  19 &  12 \\\\\n\\bottomrule\n\\end{tabular}\n",
            "text/html": [
              "<div>\n",
              "<style scoped>\n",
              "    .dataframe tbody tr th:only-of-type {\n",
              "        vertical-align: middle;\n",
              "    }\n",
              "\n",
              "    .dataframe tbody tr th {\n",
              "        vertical-align: top;\n",
              "    }\n",
              "\n",
              "    .dataframe thead th {\n",
              "        text-align: right;\n",
              "    }\n",
              "</style>\n",
              "<table border=\"1\" class=\"dataframe\">\n",
              "  <thead>\n",
              "    <tr style=\"text-align: right;\">\n",
              "      <th>item_count</th>\n",
              "      <th>1</th>\n",
              "      <th>2</th>\n",
              "    </tr>\n",
              "  </thead>\n",
              "  <tbody>\n",
              "    <tr>\n",
              "      <th>itemsets_count</th>\n",
              "      <td>19</td>\n",
              "      <td>12</td>\n",
              "    </tr>\n",
              "  </tbody>\n",
              "</table>\n",
              "</div>"
            ],
            "text/plain": [
              "item_count       1   2\n",
              "itemsets_count  19  12"
            ]
          },
          "metadata": {
            "tags": []
          }
        },
        {
          "output_type": "stream",
          "text": [
            "Support: 0.140\n"
          ],
          "name": "stdout"
        },
        {
          "output_type": "display_data",
          "data": {
            "text/latex": "\\begin{tabular}{lrr}\n\\toprule\nitem\\_count &  1 &  2 \\\\\n\\midrule\nitemsets\\_count &  8 &  4 \\\\\n\\bottomrule\n\\end{tabular}\n",
            "text/html": [
              "<div>\n",
              "<style scoped>\n",
              "    .dataframe tbody tr th:only-of-type {\n",
              "        vertical-align: middle;\n",
              "    }\n",
              "\n",
              "    .dataframe tbody tr th {\n",
              "        vertical-align: top;\n",
              "    }\n",
              "\n",
              "    .dataframe thead th {\n",
              "        text-align: right;\n",
              "    }\n",
              "</style>\n",
              "<table border=\"1\" class=\"dataframe\">\n",
              "  <thead>\n",
              "    <tr style=\"text-align: right;\">\n",
              "      <th>item_count</th>\n",
              "      <th>1</th>\n",
              "      <th>2</th>\n",
              "    </tr>\n",
              "  </thead>\n",
              "  <tbody>\n",
              "    <tr>\n",
              "      <th>itemsets_count</th>\n",
              "      <td>8</td>\n",
              "      <td>4</td>\n",
              "    </tr>\n",
              "  </tbody>\n",
              "</table>\n",
              "</div>"
            ],
            "text/plain": [
              "item_count      1  2\n",
              "itemsets_count  8  4"
            ]
          },
          "metadata": {
            "tags": []
          }
        },
        {
          "output_type": "stream",
          "text": [
            "Support: 0.170\n"
          ],
          "name": "stdout"
        },
        {
          "output_type": "display_data",
          "data": {
            "text/latex": "\\begin{tabular}{lr}\n\\toprule\nitem\\_count &  1 \\\\\n\\midrule\nitemsets\\_count &  4 \\\\\n\\bottomrule\n\\end{tabular}\n",
            "text/html": [
              "<div>\n",
              "<style scoped>\n",
              "    .dataframe tbody tr th:only-of-type {\n",
              "        vertical-align: middle;\n",
              "    }\n",
              "\n",
              "    .dataframe tbody tr th {\n",
              "        vertical-align: top;\n",
              "    }\n",
              "\n",
              "    .dataframe thead th {\n",
              "        text-align: right;\n",
              "    }\n",
              "</style>\n",
              "<table border=\"1\" class=\"dataframe\">\n",
              "  <thead>\n",
              "    <tr style=\"text-align: right;\">\n",
              "      <th>item_count</th>\n",
              "      <th>1</th>\n",
              "    </tr>\n",
              "  </thead>\n",
              "  <tbody>\n",
              "    <tr>\n",
              "      <th>itemsets_count</th>\n",
              "      <td>4</td>\n",
              "    </tr>\n",
              "  </tbody>\n",
              "</table>\n",
              "</div>"
            ],
            "text/plain": [
              "item_count      1\n",
              "itemsets_count  4"
            ]
          },
          "metadata": {
            "tags": []
          }
        },
        {
          "output_type": "stream",
          "text": [
            "Support: 0.200\n"
          ],
          "name": "stdout"
        },
        {
          "output_type": "display_data",
          "data": {
            "text/latex": "\\begin{tabular}{lr}\n\\toprule\nitem\\_count &  1 \\\\\n\\midrule\nitemsets\\_count &  1 \\\\\n\\bottomrule\n\\end{tabular}\n",
            "text/html": [
              "<div>\n",
              "<style scoped>\n",
              "    .dataframe tbody tr th:only-of-type {\n",
              "        vertical-align: middle;\n",
              "    }\n",
              "\n",
              "    .dataframe tbody tr th {\n",
              "        vertical-align: top;\n",
              "    }\n",
              "\n",
              "    .dataframe thead th {\n",
              "        text-align: right;\n",
              "    }\n",
              "</style>\n",
              "<table border=\"1\" class=\"dataframe\">\n",
              "  <thead>\n",
              "    <tr style=\"text-align: right;\">\n",
              "      <th>item_count</th>\n",
              "      <th>1</th>\n",
              "    </tr>\n",
              "  </thead>\n",
              "  <tbody>\n",
              "    <tr>\n",
              "      <th>itemsets_count</th>\n",
              "      <td>1</td>\n",
              "    </tr>\n",
              "  </tbody>\n",
              "</table>\n",
              "</div>"
            ],
            "text/plain": [
              "item_count      1\n",
              "itemsets_count  1"
            ]
          },
          "metadata": {
            "tags": []
          }
        },
        {
          "output_type": "stream",
          "text": [
            "Support: 0.230\n"
          ],
          "name": "stdout"
        },
        {
          "output_type": "display_data",
          "data": {
            "text/latex": "\\begin{tabular}{lr}\n\\toprule\nitem\\_count &  1 \\\\\n\\midrule\nitemsets\\_count &  1 \\\\\n\\bottomrule\n\\end{tabular}\n",
            "text/html": [
              "<div>\n",
              "<style scoped>\n",
              "    .dataframe tbody tr th:only-of-type {\n",
              "        vertical-align: middle;\n",
              "    }\n",
              "\n",
              "    .dataframe tbody tr th {\n",
              "        vertical-align: top;\n",
              "    }\n",
              "\n",
              "    .dataframe thead th {\n",
              "        text-align: right;\n",
              "    }\n",
              "</style>\n",
              "<table border=\"1\" class=\"dataframe\">\n",
              "  <thead>\n",
              "    <tr style=\"text-align: right;\">\n",
              "      <th>item_count</th>\n",
              "      <th>1</th>\n",
              "    </tr>\n",
              "  </thead>\n",
              "  <tbody>\n",
              "    <tr>\n",
              "      <th>itemsets_count</th>\n",
              "      <td>1</td>\n",
              "    </tr>\n",
              "  </tbody>\n",
              "</table>\n",
              "</div>"
            ],
            "text/plain": [
              "item_count      1\n",
              "itemsets_count  1"
            ]
          },
          "metadata": {
            "tags": []
          }
        }
      ]
    },
    {
      "cell_type": "code",
      "metadata": {
        "id": "cDwqbKzpqxWp",
        "colab": {
          "base_uri": "https://localhost:8080/",
          "height": 283
        },
        "outputId": "269df373-ab9a-4100-ada4-4e2141f569f9"
      },
      "source": [
        "plt.plot(np.arange(0.05,0.24,0.03),num_rec)\n",
        "plt.xlabel(\"min_support\");plt.ylabel(\"num_itemsets\")\n",
        "for i in range(len(np.arange(0.05,0.24,0.03))):\n",
        "    plt.text(np.arange(0.05,0.24,0.03)[i],num_rec[i]+5,str(num_rec[i]))"
      ],
      "id": "cDwqbKzpqxWp",
      "execution_count": 44,
      "outputs": [
        {
          "output_type": "display_data",
          "data": {
            "image/png": "[encoded data removed]",
            "text/plain": [
              "<Figure size 432x288 with 1 Axes>"
            ]
          },
          "metadata": {
            "tags": [],
            "needs_background": "light"
          }
        }
      ]
    },
    {
      "cell_type": "markdown",
      "metadata": {
        "id": "-2hpoqUqrkyW"
      },
      "source": [
        "可以看到，通过国家筛选，整体商品种类数变少，复杂度降低，可设定的最小支持度也上升了。\n",
        "\n",
        "选定最小支持度为 0.08 的频繁项集进行后续分析。"
      ],
      "id": "-2hpoqUqrkyW"
    },
    {
      "cell_type": "code",
      "metadata": {
        "id": "mXH5o8XTr-Bl",
        "colab": {
          "base_uri": "https://localhost:8080/",
          "height": 287
        },
        "outputId": "71e652c2-f570-4bd1-b2e5-93ebf8581f34"
      },
      "source": [
        "freq_itemset = apriori(trans_data, min_support=0.08,use_colnames= True)\n",
        "rule_count = []\n",
        "for i in np.arange(0.1,0.96,0.05):\n",
        "    rules = association_rules(freq_itemset,metric = 'confidence',min_threshold = i)\n",
        "    rule_count.append(rules.shape[0])\n",
        "plt.plot(np.arange(0.1,0.96,0.05),rule_count)\n",
        "plt.xlabel(\"min_confidence\");plt.ylabel(\"num_rules\")\n",
        "for i in range(len(np.arange(0.1,0.96,0.05))):\n",
        "    plt.text(np.arange(0.1,0.96,0.05)[i],rule_count[i]+5,str(rule_count[i])) # 这个真的是置信度吗？"
      ],
      "id": "mXH5o8XTr-Bl",
      "execution_count": 45,
      "outputs": [
        {
          "output_type": "display_data",
          "data": {
            "image/png": "[encoded data removed]",
            "text/plain": [
              "<Figure size 432x288 with 1 Axes>"
            ]
          },
          "metadata": {
            "tags": [],
            "needs_background": "light"
          }
        }
      ]
    },
    {
      "cell_type": "code",
      "metadata": {
        "id": "ESHZJTrzskE8",
        "colab": {
          "base_uri": "https://localhost:8080/",
          "height": 355
        },
        "outputId": "8883a064-ac1f-4924-d7dc-3b538c923909"
      },
      "source": [
        "rules = association_rules(freq_itemset,metric = 'confidence',min_threshold = 0.90)\n",
        "rules.iloc[:,[0,1,4,5,6]].sort_values(by=\"confidence\",ascending=False).round(3)"
      ],
      "id": "ESHZJTrzskE8",
      "execution_count": 46,
      "outputs": [
        {
          "output_type": "execute_result",
          "data": {
            "text/latex": "\\begin{tabular}{lllrrr}\n\\toprule\n{} &                                        antecedents &                      consequents &  support &  confidence &   lift \\\\\n\\midrule\n6 &  (SET/6 RED SPOTTY PAPER CUPS, SET/20 RED RETRO... &  (SET/6 RED SPOTTY PAPER PLATES) &    0.100 &       0.975 &  7.624 \\\\\n7 &  (SET/6 RED SPOTTY PAPER PLATES, SET/20 RED RET... &    (SET/6 RED SPOTTY PAPER CUPS) &    0.100 &       0.975 &  7.060 \\\\\n8 &  (SET/6 RED SPOTTY PAPER CUPS, SET/20 RED RETRO... &  (SET/6 RED SPOTTY PAPER PLATES) &    0.082 &       0.970 &  7.583 \\\\\n9 &  (SET/6 RED SPOTTY PAPER PLATES, SET/20 RED RET... &    (SET/6 RED SPOTTY PAPER CUPS) &    0.082 &       0.970 &  7.021 \\\\\n4 &                    (SET/6 RED SPOTTY PAPER PLATES) &    (SET/6 RED SPOTTY PAPER CUPS) &    0.123 &       0.960 &  6.951 \\\\\n5 &           (SET/6 RED SPOTTY PAPER PLATES, POSTAGE) &    (SET/6 RED SPOTTY PAPER CUPS) &    0.102 &       0.952 &  6.896 \\\\\n3 &                          (TEA PARTY BIRTHDAY CARD) &                        (POSTAGE) &    0.090 &       0.946 &  1.233 \\\\\n0 &                        (ALARM CLOCK BAKELIKE RED ) &                        (POSTAGE) &    0.087 &       0.944 &  1.231 \\\\\n2 &                (STRAWBERRY LUNCH BOX WITH CUTLERY) &                        (POSTAGE) &    0.115 &       0.937 &  1.222 \\\\\n1 &              (ROUND SNACK BOXES SET OF4 WOODLAND ) &                        (POSTAGE) &    0.148 &       0.935 &  1.219 \\\\\n\\bottomrule\n\\end{tabular}\n",
            "text/html": [
              "<div>\n",
              "<style scoped>\n",
              "    .dataframe tbody tr th:only-of-type {\n",
              "        vertical-align: middle;\n",
              "    }\n",
              "\n",
              "    .dataframe tbody tr th {\n",
              "        vertical-align: top;\n",
              "    }\n",
              "\n",
              "    .dataframe thead th {\n",
              "        text-align: right;\n",
              "    }\n",
              "</style>\n",
              "<table border=\"1\" class=\"dataframe\">\n",
              "  <thead>\n",
              "    <tr style=\"text-align: right;\">\n",
              "      <th></th>\n",
              "      <th>antecedents</th>\n",
              "      <th>consequents</th>\n",
              "      <th>support</th>\n",
              "      <th>confidence</th>\n",
              "      <th>lift</th>\n",
              "    </tr>\n",
              "  </thead>\n",
              "  <tbody>\n",
              "    <tr>\n",
              "      <th>6</th>\n",
              "      <td>(SET/6 RED SPOTTY PAPER CUPS, SET/20 RED RETRO...</td>\n",
              "      <td>(SET/6 RED SPOTTY PAPER PLATES)</td>\n",
              "      <td>0.100</td>\n",
              "      <td>0.975</td>\n",
              "      <td>7.624</td>\n",
              "    </tr>\n",
              "    <tr>\n",
              "      <th>7</th>\n",
              "      <td>(SET/6 RED SPOTTY PAPER PLATES, SET/20 RED RET...</td>\n",
              "      <td>(SET/6 RED SPOTTY PAPER CUPS)</td>\n",
              "      <td>0.100</td>\n",
              "      <td>0.975</td>\n",
              "      <td>7.060</td>\n",
              "    </tr>\n",
              "    <tr>\n",
              "      <th>8</th>\n",
              "      <td>(SET/6 RED SPOTTY PAPER CUPS, SET/20 RED RETRO...</td>\n",
              "      <td>(SET/6 RED SPOTTY PAPER PLATES)</td>\n",
              "      <td>0.082</td>\n",
              "      <td>0.970</td>\n",
              "      <td>7.583</td>\n",
              "    </tr>\n",
              "    <tr>\n",
              "      <th>9</th>\n",
              "      <td>(SET/6 RED SPOTTY PAPER PLATES, SET/20 RED RET...</td>\n",
              "      <td>(SET/6 RED SPOTTY PAPER CUPS)</td>\n",
              "      <td>0.082</td>\n",
              "      <td>0.970</td>\n",
              "      <td>7.021</td>\n",
              "    </tr>\n",
              "    <tr>\n",
              "      <th>4</th>\n",
              "      <td>(SET/6 RED SPOTTY PAPER PLATES)</td>\n",
              "      <td>(SET/6 RED SPOTTY PAPER CUPS)</td>\n",
              "      <td>0.123</td>\n",
              "      <td>0.960</td>\n",
              "      <td>6.951</td>\n",
              "    </tr>\n",
              "    <tr>\n",
              "      <th>5</th>\n",
              "      <td>(SET/6 RED SPOTTY PAPER PLATES, POSTAGE)</td>\n",
              "      <td>(SET/6 RED SPOTTY PAPER CUPS)</td>\n",
              "      <td>0.102</td>\n",
              "      <td>0.952</td>\n",
              "      <td>6.896</td>\n",
              "    </tr>\n",
              "    <tr>\n",
              "      <th>3</th>\n",
              "      <td>(TEA PARTY BIRTHDAY CARD)</td>\n",
              "      <td>(POSTAGE)</td>\n",
              "      <td>0.090</td>\n",
              "      <td>0.946</td>\n",
              "      <td>1.233</td>\n",
              "    </tr>\n",
              "    <tr>\n",
              "      <th>0</th>\n",
              "      <td>(ALARM CLOCK BAKELIKE RED )</td>\n",
              "      <td>(POSTAGE)</td>\n",
              "      <td>0.087</td>\n",
              "      <td>0.944</td>\n",
              "      <td>1.231</td>\n",
              "    </tr>\n",
              "    <tr>\n",
              "      <th>2</th>\n",
              "      <td>(STRAWBERRY LUNCH BOX WITH CUTLERY)</td>\n",
              "      <td>(POSTAGE)</td>\n",
              "      <td>0.115</td>\n",
              "      <td>0.937</td>\n",
              "      <td>1.222</td>\n",
              "    </tr>\n",
              "    <tr>\n",
              "      <th>1</th>\n",
              "      <td>(ROUND SNACK BOXES SET OF4 WOODLAND )</td>\n",
              "      <td>(POSTAGE)</td>\n",
              "      <td>0.148</td>\n",
              "      <td>0.935</td>\n",
              "      <td>1.219</td>\n",
              "    </tr>\n",
              "  </tbody>\n",
              "</table>\n",
              "</div>"
            ],
            "text/plain": [
              "                                         antecedents  ...   lift\n",
              "6  (SET/6 RED SPOTTY PAPER CUPS, SET/20 RED RETRO...  ...  7.624\n",
              "7  (SET/6 RED SPOTTY PAPER PLATES, SET/20 RED RET...  ...  7.060\n",
              "8  (SET/6 RED SPOTTY PAPER CUPS, SET/20 RED RETRO...  ...  7.583\n",
              "9  (SET/6 RED SPOTTY PAPER PLATES, SET/20 RED RET...  ...  7.021\n",
              "4                    (SET/6 RED SPOTTY PAPER PLATES)  ...  6.951\n",
              "5           (SET/6 RED SPOTTY PAPER PLATES, POSTAGE)  ...  6.896\n",
              "3                          (TEA PARTY BIRTHDAY CARD)  ...  1.233\n",
              "0                        (ALARM CLOCK BAKELIKE RED )  ...  1.231\n",
              "2                (STRAWBERRY LUNCH BOX WITH CUTLERY)  ...  1.222\n",
              "1              (ROUND SNACK BOXES SET OF4 WOODLAND )  ...  1.219\n",
              "\n",
              "[10 rows x 5 columns]"
            ]
          },
          "metadata": {
            "tags": []
          },
          "execution_count": 46
        }
      ]
    },
    {
      "cell_type": "markdown",
      "metadata": {
        "id": "izGwJaMotFnQ"
      },
      "source": [
        "分国家得出的关联规则看上去更有趣，或许是复杂度降低的原因，且整体置信度条件都较全部数据集好。\n",
        "\n",
        "可以看出，从德国数据中抽取出的关联规则靠前者的种类较多。\n",
        "\n",
        "1. 日用品搭配购买：例如消费者通常会一同购买纸杯、纸盘、餐巾纸。\n",
        "2. 邮资服务：规则(3),(0),(2),(1)中，购买前者（礼物物件）时，都会和“邮资”一同购买。（当然，“邮资”这种项目应该在数据处理中去掉，不过也能够揭示一定的地区特征）"
      ],
      "id": "izGwJaMotFnQ"
    },
    {
      "cell_type": "code",
      "metadata": {
        "id": "MN8CJMETuJwc",
        "colab": {
          "base_uri": "https://localhost:8080/",
          "height": 287
        },
        "outputId": "9c60dccf-6a3a-4e65-f28c-8684a9a34beb"
      },
      "source": [
        "rule_count = []\n",
        "for i in np.arange(0.99,8,1):\n",
        "    rules = association_rules(freq_itemset,metric = 'lift',min_threshold = i)\n",
        "    rule_count.append(rules.shape[0])\n",
        "\n",
        "plt.plot(np.arange(0.99,8,1),rule_count)\n",
        "plt.xlabel(\"min_lift\");plt.ylabel(\"num_rules\")\n",
        "for i in range(len(np.arange(0.99,8,1))):\n",
        "    plt.text(np.arange(0.99,8,1)[i],rule_count[i]+5,str(rule_count[i]))"
      ],
      "id": "MN8CJMETuJwc",
      "execution_count": 47,
      "outputs": [
        {
          "output_type": "display_data",
          "data": {
            "image/png": "[encoded data removed]",
            "text/plain": [
              "<Figure size 432x288 with 1 Axes>"
            ]
          },
          "metadata": {
            "tags": [],
            "needs_background": "light"
          }
        }
      ]
    },
    {
      "cell_type": "markdown",
      "metadata": {
        "id": "j_9BD-4-uciX"
      },
      "source": [
        "而从提升度角度，法国数据的整体提升度比整体数据集低，大多在 8 以下。"
      ],
      "id": "j_9BD-4-uciX"
    },
    {
      "cell_type": "code",
      "metadata": {
        "id": "4_z09NKEuzMn",
        "colab": {
          "base_uri": "https://localhost:8080/",
          "height": 529
        },
        "outputId": "565d79ac-d35a-4dc2-9499-bebaa160b04d"
      },
      "source": [
        "rules = association_rules(freq_itemset,metric = 'lift',min_threshold = 6.99)\n",
        "rules.iloc[:,[0,1,4,5,6]].sort_values(by=\"lift\",ascending=False).round(3)"
      ],
      "id": "4_z09NKEuzMn",
      "execution_count": 48,
      "outputs": [
        {
          "output_type": "execute_result",
          "data": {
            "text/latex": "\\begin{tabular}{lllrrr}\n\\toprule\n{} &                                        antecedents &                                        consequents &  support &  confidence &   lift \\\\\n\\midrule\n0 &  (SET/6 RED SPOTTY PAPER CUPS, SET/20 RED RETRO... &                    (SET/6 RED SPOTTY PAPER PLATES) &    0.100 &       0.975 &  7.624 \\\\\n3 &                    (SET/6 RED SPOTTY PAPER PLATES) &  (SET/6 RED SPOTTY PAPER CUPS, SET/20 RED RETRO... &    0.100 &       0.780 &  7.624 \\\\\n4 &  (SET/6 RED SPOTTY PAPER CUPS, SET/20 RED RETRO... &                    (SET/6 RED SPOTTY PAPER PLATES) &    0.082 &       0.970 &  7.583 \\\\\n9 &                    (SET/6 RED SPOTTY PAPER PLATES) &  (SET/6 RED SPOTTY PAPER CUPS, SET/20 RED RETRO... &    0.082 &       0.640 &  7.583 \\\\\n7 &           (SET/6 RED SPOTTY PAPER PLATES, POSTAGE) &  (SET/6 RED SPOTTY PAPER CUPS, SET/20 RED RETRO... &    0.082 &       0.762 &  7.448 \\\\\n6 &  (SET/6 RED SPOTTY PAPER CUPS, SET/20 RED RETRO... &           (SET/6 RED SPOTTY PAPER PLATES, POSTAGE) &    0.082 &       0.800 &  7.448 \\\\\n1 &  (SET/6 RED SPOTTY PAPER PLATES, SET/20 RED RET... &                      (SET/6 RED SPOTTY PAPER CUPS) &    0.100 &       0.975 &  7.060 \\\\\n2 &                      (SET/6 RED SPOTTY PAPER CUPS) &  (SET/6 RED SPOTTY PAPER PLATES, SET/20 RED RET... &    0.100 &       0.722 &  7.060 \\\\\n5 &  (SET/6 RED SPOTTY PAPER PLATES, SET/20 RED RET... &                      (SET/6 RED SPOTTY PAPER CUPS) &    0.082 &       0.970 &  7.021 \\\\\n8 &                      (SET/6 RED SPOTTY PAPER CUPS) &  (SET/6 RED SPOTTY PAPER PLATES, SET/20 RED RET... &    0.082 &       0.593 &  7.021 \\\\\n\\bottomrule\n\\end{tabular}\n",
            "text/html": [
              "<div>\n",
              "<style scoped>\n",
              "    .dataframe tbody tr th:only-of-type {\n",
              "        vertical-align: middle;\n",
              "    }\n",
              "\n",
              "    .dataframe tbody tr th {\n",
              "        vertical-align: top;\n",
              "    }\n",
              "\n",
              "    .dataframe thead th {\n",
              "        text-align: right;\n",
              "    }\n",
              "</style>\n",
              "<table border=\"1\" class=\"dataframe\">\n",
              "  <thead>\n",
              "    <tr style=\"text-align: right;\">\n",
              "      <th></th>\n",
              "      <th>antecedents</th>\n",
              "      <th>consequents</th>\n",
              "      <th>support</th>\n",
              "      <th>confidence</th>\n",
              "      <th>lift</th>\n",
              "    </tr>\n",
              "  </thead>\n",
              "  <tbody>\n",
              "    <tr>\n",
              "      <th>0</th>\n",
              "      <td>(SET/6 RED SPOTTY PAPER CUPS, SET/20 RED RETRO...</td>\n",
              "      <td>(SET/6 RED SPOTTY PAPER PLATES)</td>\n",
              "      <td>0.100</td>\n",
              "      <td>0.975</td>\n",
              "      <td>7.624</td>\n",
              "    </tr>\n",
              "    <tr>\n",
              "      <th>3</th>\n",
              "      <td>(SET/6 RED SPOTTY PAPER PLATES)</td>\n",
              "      <td>(SET/6 RED SPOTTY PAPER CUPS, SET/20 RED RETRO...</td>\n",
              "      <td>0.100</td>\n",
              "      <td>0.780</td>\n",
              "      <td>7.624</td>\n",
              "    </tr>\n",
              "    <tr>\n",
              "      <th>4</th>\n",
              "      <td>(SET/6 RED SPOTTY PAPER CUPS, SET/20 RED RETRO...</td>\n",
              "      <td>(SET/6 RED SPOTTY PAPER PLATES)</td>\n",
              "      <td>0.082</td>\n",
              "      <td>0.970</td>\n",
              "      <td>7.583</td>\n",
              "    </tr>\n",
              "    <tr>\n",
              "      <th>9</th>\n",
              "      <td>(SET/6 RED SPOTTY PAPER PLATES)</td>\n",
              "      <td>(SET/6 RED SPOTTY PAPER CUPS, SET/20 RED RETRO...</td>\n",
              "      <td>0.082</td>\n",
              "      <td>0.640</td>\n",
              "      <td>7.583</td>\n",
              "    </tr>\n",
              "    <tr>\n",
              "      <th>7</th>\n",
              "      <td>(SET/6 RED SPOTTY PAPER PLATES, POSTAGE)</td>\n",
              "      <td>(SET/6 RED SPOTTY PAPER CUPS, SET/20 RED RETRO...</td>\n",
              "      <td>0.082</td>\n",
              "      <td>0.762</td>\n",
              "      <td>7.448</td>\n",
              "    </tr>\n",
              "    <tr>\n",
              "      <th>6</th>\n",
              "      <td>(SET/6 RED SPOTTY PAPER CUPS, SET/20 RED RETRO...</td>\n",
              "      <td>(SET/6 RED SPOTTY PAPER PLATES, POSTAGE)</td>\n",
              "      <td>0.082</td>\n",
              "      <td>0.800</td>\n",
              "      <td>7.448</td>\n",
              "    </tr>\n",
              "    <tr>\n",
              "      <th>1</th>\n",
              "      <td>(SET/6 RED SPOTTY PAPER PLATES, SET/20 RED RET...</td>\n",
              "      <td>(SET/6 RED SPOTTY PAPER CUPS)</td>\n",
              "      <td>0.100</td>\n",
              "      <td>0.975</td>\n",
              "      <td>7.060</td>\n",
              "    </tr>\n",
              "    <tr>\n",
              "      <th>2</th>\n",
              "      <td>(SET/6 RED SPOTTY PAPER CUPS)</td>\n",
              "      <td>(SET/6 RED SPOTTY PAPER PLATES, SET/20 RED RET...</td>\n",
              "      <td>0.100</td>\n",
              "      <td>0.722</td>\n",
              "      <td>7.060</td>\n",
              "    </tr>\n",
              "    <tr>\n",
              "      <th>5</th>\n",
              "      <td>(SET/6 RED SPOTTY PAPER PLATES, SET/20 RED RET...</td>\n",
              "      <td>(SET/6 RED SPOTTY PAPER CUPS)</td>\n",
              "      <td>0.082</td>\n",
              "      <td>0.970</td>\n",
              "      <td>7.021</td>\n",
              "    </tr>\n",
              "    <tr>\n",
              "      <th>8</th>\n",
              "      <td>(SET/6 RED SPOTTY PAPER CUPS)</td>\n",
              "      <td>(SET/6 RED SPOTTY PAPER PLATES, SET/20 RED RET...</td>\n",
              "      <td>0.082</td>\n",
              "      <td>0.593</td>\n",
              "      <td>7.021</td>\n",
              "    </tr>\n",
              "  </tbody>\n",
              "</table>\n",
              "</div>"
            ],
            "text/plain": [
              "                                         antecedents  ...   lift\n",
              "0  (SET/6 RED SPOTTY PAPER CUPS, SET/20 RED RETRO...  ...  7.624\n",
              "3                    (SET/6 RED SPOTTY PAPER PLATES)  ...  7.624\n",
              "4  (SET/6 RED SPOTTY PAPER CUPS, SET/20 RED RETRO...  ...  7.583\n",
              "9                    (SET/6 RED SPOTTY PAPER PLATES)  ...  7.583\n",
              "7           (SET/6 RED SPOTTY PAPER PLATES, POSTAGE)  ...  7.448\n",
              "6  (SET/6 RED SPOTTY PAPER CUPS, SET/20 RED RETRO...  ...  7.448\n",
              "1  (SET/6 RED SPOTTY PAPER PLATES, SET/20 RED RET...  ...  7.060\n",
              "2                      (SET/6 RED SPOTTY PAPER CUPS)  ...  7.060\n",
              "5  (SET/6 RED SPOTTY PAPER PLATES, SET/20 RED RET...  ...  7.021\n",
              "8                      (SET/6 RED SPOTTY PAPER CUPS)  ...  7.021\n",
              "\n",
              "[10 rows x 5 columns]"
            ]
          },
          "metadata": {
            "tags": []
          },
          "execution_count": 48
        }
      ]
    },
    {
      "cell_type": "markdown",
      "metadata": {
        "id": "VFeFkhjovcms"
      },
      "source": [
        "使用提升度筛选得到的关联规则与使用置信度得到的关联规则类似，不再赘述。"
      ],
      "id": "VFeFkhjovcms"
    },
    {
      "cell_type": "markdown",
      "metadata": {
        "id": "LZTulmn7nPC0"
      },
      "source": [
        "## 关联规则挖掘：德国"
      ],
      "id": "LZTulmn7nPC0"
    },
    {
      "cell_type": "code",
      "metadata": {
        "id": "boCmmP0n6HCg",
        "colab": {
          "base_uri": "https://localhost:8080/"
        },
        "outputId": "95d55471-c490-439d-cc4f-cc07b1febd4b"
      },
      "source": [
        "prevIndex = -1; trans_list = []; trans = []\n",
        "orderData = data_germany.iloc[:,:2].set_index('InvoiceNo')\n",
        "for index,row in orderData.iterrows():\n",
        "    if index == prevIndex:\n",
        "        trans.append(row[0])\n",
        "    else: \n",
        "        prevIndex = index\n",
        "        trans_list.append(trans)\n",
        "        trans = []\n",
        "        trans.append(row[0])\n",
        "trans_list = trans_list[1:]\n",
        "encoder = TransactionEncoder()\n",
        "X = encoder.fit_transform(trans_list)\n",
        "print(\"Num of goods: %d \\nGoods Sample:\" % len(encoder.columns_))\n",
        "print(encoder.columns_[:3])\n",
        "trans_data = pd.DataFrame(X, columns = encoder.columns_)"
      ],
      "id": "boCmmP0n6HCg",
      "execution_count": 49,
      "outputs": [
        {
          "output_type": "stream",
          "text": [
            "Num of goods: 1695 \n",
            "Goods Sample:\n",
            "[\" 50'S CHRISTMAS GIFT BAG LARGE\", ' DOLLY GIRL BEAKER', ' I LOVE LONDON MINI BACKPACK']\n"
          ],
          "name": "stdout"
        }
      ]
    },
    {
      "cell_type": "markdown",
      "metadata": {
        "id": "81pUD98KDtMD"
      },
      "source": [
        "德国数据内，同样，商品种类数比整个数据集少一半。"
      ],
      "id": "81pUD98KDtMD"
    },
    {
      "cell_type": "code",
      "metadata": {
        "id": "5mNJELuj6W2p",
        "colab": {
          "base_uri": "https://localhost:8080/",
          "height": 577
        },
        "outputId": "68559bea-434e-417e-9257-e757785d8f2b"
      },
      "source": [
        "num_rec = []\n",
        "for i in np.arange(0.05,0.24,0.03):\n",
        "    result = apriori(trans_data, min_support=i)\n",
        "    num_rec.append(result.shape[0])\n",
        "    result.iloc[:,1] = result.iloc[:,1].apply(lambda x: len(x))\n",
        "    result.columns=['itemsets_count','item_count']\n",
        "    a = result.groupby(by='item_count').count().T\n",
        "    print(\"Support: %.3f\" % i)\n",
        "    display(a)"
      ],
      "id": "5mNJELuj6W2p",
      "execution_count": 50,
      "outputs": [
        {
          "output_type": "stream",
          "text": [
            "Support: 0.050\n"
          ],
          "name": "stdout"
        },
        {
          "output_type": "display_data",
          "data": {
            "text/latex": "\\begin{tabular}{lrrr}\n\\toprule\nitem\\_count &   1 &   2 &  3 \\\\\n\\midrule\nitemsets\\_count &  51 &  43 &  8 \\\\\n\\bottomrule\n\\end{tabular}\n",
            "text/html": [
              "<div>\n",
              "<style scoped>\n",
              "    .dataframe tbody tr th:only-of-type {\n",
              "        vertical-align: middle;\n",
              "    }\n",
              "\n",
              "    .dataframe tbody tr th {\n",
              "        vertical-align: top;\n",
              "    }\n",
              "\n",
              "    .dataframe thead th {\n",
              "        text-align: right;\n",
              "    }\n",
              "</style>\n",
              "<table border=\"1\" class=\"dataframe\">\n",
              "  <thead>\n",
              "    <tr style=\"text-align: right;\">\n",
              "      <th>item_count</th>\n",
              "      <th>1</th>\n",
              "      <th>2</th>\n",
              "      <th>3</th>\n",
              "    </tr>\n",
              "  </thead>\n",
              "  <tbody>\n",
              "    <tr>\n",
              "      <th>itemsets_count</th>\n",
              "      <td>51</td>\n",
              "      <td>43</td>\n",
              "      <td>8</td>\n",
              "    </tr>\n",
              "  </tbody>\n",
              "</table>\n",
              "</div>"
            ],
            "text/plain": [
              "item_count       1   2  3\n",
              "itemsets_count  51  43  8"
            ]
          },
          "metadata": {
            "tags": []
          }
        },
        {
          "output_type": "stream",
          "text": [
            "Support: 0.080\n"
          ],
          "name": "stdout"
        },
        {
          "output_type": "display_data",
          "data": {
            "text/latex": "\\begin{tabular}{lrrr}\n\\toprule\nitem\\_count &   1 &   2 &  3 \\\\\n\\midrule\nitemsets\\_count &  14 &  12 &  1 \\\\\n\\bottomrule\n\\end{tabular}\n",
            "text/html": [
              "<div>\n",
              "<style scoped>\n",
              "    .dataframe tbody tr th:only-of-type {\n",
              "        vertical-align: middle;\n",
              "    }\n",
              "\n",
              "    .dataframe tbody tr th {\n",
              "        vertical-align: top;\n",
              "    }\n",
              "\n",
              "    .dataframe thead th {\n",
              "        text-align: right;\n",
              "    }\n",
              "</style>\n",
              "<table border=\"1\" class=\"dataframe\">\n",
              "  <thead>\n",
              "    <tr style=\"text-align: right;\">\n",
              "      <th>item_count</th>\n",
              "      <th>1</th>\n",
              "      <th>2</th>\n",
              "      <th>3</th>\n",
              "    </tr>\n",
              "  </thead>\n",
              "  <tbody>\n",
              "    <tr>\n",
              "      <th>itemsets_count</th>\n",
              "      <td>14</td>\n",
              "      <td>12</td>\n",
              "      <td>1</td>\n",
              "    </tr>\n",
              "  </tbody>\n",
              "</table>\n",
              "</div>"
            ],
            "text/plain": [
              "item_count       1   2  3\n",
              "itemsets_count  14  12  1"
            ]
          },
          "metadata": {
            "tags": []
          }
        },
        {
          "output_type": "stream",
          "text": [
            "Support: 0.110\n"
          ],
          "name": "stdout"
        },
        {
          "output_type": "display_data",
          "data": {
            "text/latex": "\\begin{tabular}{lrrr}\n\\toprule\nitem\\_count &  1 &  2 &  3 \\\\\n\\midrule\nitemsets\\_count &  7 &  6 &  1 \\\\\n\\bottomrule\n\\end{tabular}\n",
            "text/html": [
              "<div>\n",
              "<style scoped>\n",
              "    .dataframe tbody tr th:only-of-type {\n",
              "        vertical-align: middle;\n",
              "    }\n",
              "\n",
              "    .dataframe tbody tr th {\n",
              "        vertical-align: top;\n",
              "    }\n",
              "\n",
              "    .dataframe thead th {\n",
              "        text-align: right;\n",
              "    }\n",
              "</style>\n",
              "<table border=\"1\" class=\"dataframe\">\n",
              "  <thead>\n",
              "    <tr style=\"text-align: right;\">\n",
              "      <th>item_count</th>\n",
              "      <th>1</th>\n",
              "      <th>2</th>\n",
              "      <th>3</th>\n",
              "    </tr>\n",
              "  </thead>\n",
              "  <tbody>\n",
              "    <tr>\n",
              "      <th>itemsets_count</th>\n",
              "      <td>7</td>\n",
              "      <td>6</td>\n",
              "      <td>1</td>\n",
              "    </tr>\n",
              "  </tbody>\n",
              "</table>\n",
              "</div>"
            ],
            "text/plain": [
              "item_count      1  2  3\n",
              "itemsets_count  7  6  1"
            ]
          },
          "metadata": {
            "tags": []
          }
        },
        {
          "output_type": "stream",
          "text": [
            "Support: 0.140\n"
          ],
          "name": "stdout"
        },
        {
          "output_type": "display_data",
          "data": {
            "text/latex": "\\begin{tabular}{lrr}\n\\toprule\nitem\\_count &  1 &  2 \\\\\n\\midrule\nitemsets\\_count &  3 &  2 \\\\\n\\bottomrule\n\\end{tabular}\n",
            "text/html": [
              "<div>\n",
              "<style scoped>\n",
              "    .dataframe tbody tr th:only-of-type {\n",
              "        vertical-align: middle;\n",
              "    }\n",
              "\n",
              "    .dataframe tbody tr th {\n",
              "        vertical-align: top;\n",
              "    }\n",
              "\n",
              "    .dataframe thead th {\n",
              "        text-align: right;\n",
              "    }\n",
              "</style>\n",
              "<table border=\"1\" class=\"dataframe\">\n",
              "  <thead>\n",
              "    <tr style=\"text-align: right;\">\n",
              "      <th>item_count</th>\n",
              "      <th>1</th>\n",
              "      <th>2</th>\n",
              "    </tr>\n",
              "  </thead>\n",
              "  <tbody>\n",
              "    <tr>\n",
              "      <th>itemsets_count</th>\n",
              "      <td>3</td>\n",
              "      <td>2</td>\n",
              "    </tr>\n",
              "  </tbody>\n",
              "</table>\n",
              "</div>"
            ],
            "text/plain": [
              "item_count      1  2\n",
              "itemsets_count  3  2"
            ]
          },
          "metadata": {
            "tags": []
          }
        },
        {
          "output_type": "stream",
          "text": [
            "Support: 0.170\n"
          ],
          "name": "stdout"
        },
        {
          "output_type": "display_data",
          "data": {
            "text/latex": "\\begin{tabular}{lrr}\n\\toprule\nitem\\_count &  1 &  2 \\\\\n\\midrule\nitemsets\\_count &  2 &  1 \\\\\n\\bottomrule\n\\end{tabular}\n",
            "text/html": [
              "<div>\n",
              "<style scoped>\n",
              "    .dataframe tbody tr th:only-of-type {\n",
              "        vertical-align: middle;\n",
              "    }\n",
              "\n",
              "    .dataframe tbody tr th {\n",
              "        vertical-align: top;\n",
              "    }\n",
              "\n",
              "    .dataframe thead th {\n",
              "        text-align: right;\n",
              "    }\n",
              "</style>\n",
              "<table border=\"1\" class=\"dataframe\">\n",
              "  <thead>\n",
              "    <tr style=\"text-align: right;\">\n",
              "      <th>item_count</th>\n",
              "      <th>1</th>\n",
              "      <th>2</th>\n",
              "    </tr>\n",
              "  </thead>\n",
              "  <tbody>\n",
              "    <tr>\n",
              "      <th>itemsets_count</th>\n",
              "      <td>2</td>\n",
              "      <td>1</td>\n",
              "    </tr>\n",
              "  </tbody>\n",
              "</table>\n",
              "</div>"
            ],
            "text/plain": [
              "item_count      1  2\n",
              "itemsets_count  2  1"
            ]
          },
          "metadata": {
            "tags": []
          }
        },
        {
          "output_type": "stream",
          "text": [
            "Support: 0.200\n"
          ],
          "name": "stdout"
        },
        {
          "output_type": "display_data",
          "data": {
            "text/latex": "\\begin{tabular}{lrr}\n\\toprule\nitem\\_count &  1 &  2 \\\\\n\\midrule\nitemsets\\_count &  2 &  1 \\\\\n\\bottomrule\n\\end{tabular}\n",
            "text/html": [
              "<div>\n",
              "<style scoped>\n",
              "    .dataframe tbody tr th:only-of-type {\n",
              "        vertical-align: middle;\n",
              "    }\n",
              "\n",
              "    .dataframe tbody tr th {\n",
              "        vertical-align: top;\n",
              "    }\n",
              "\n",
              "    .dataframe thead th {\n",
              "        text-align: right;\n",
              "    }\n",
              "</style>\n",
              "<table border=\"1\" class=\"dataframe\">\n",
              "  <thead>\n",
              "    <tr style=\"text-align: right;\">\n",
              "      <th>item_count</th>\n",
              "      <th>1</th>\n",
              "      <th>2</th>\n",
              "    </tr>\n",
              "  </thead>\n",
              "  <tbody>\n",
              "    <tr>\n",
              "      <th>itemsets_count</th>\n",
              "      <td>2</td>\n",
              "      <td>1</td>\n",
              "    </tr>\n",
              "  </tbody>\n",
              "</table>\n",
              "</div>"
            ],
            "text/plain": [
              "item_count      1  2\n",
              "itemsets_count  2  1"
            ]
          },
          "metadata": {
            "tags": []
          }
        },
        {
          "output_type": "stream",
          "text": [
            "Support: 0.230\n"
          ],
          "name": "stdout"
        },
        {
          "output_type": "display_data",
          "data": {
            "text/latex": "\\begin{tabular}{lr}\n\\toprule\nitem\\_count &  1 \\\\\n\\midrule\nitemsets\\_count &  2 \\\\\n\\bottomrule\n\\end{tabular}\n",
            "text/html": [
              "<div>\n",
              "<style scoped>\n",
              "    .dataframe tbody tr th:only-of-type {\n",
              "        vertical-align: middle;\n",
              "    }\n",
              "\n",
              "    .dataframe tbody tr th {\n",
              "        vertical-align: top;\n",
              "    }\n",
              "\n",
              "    .dataframe thead th {\n",
              "        text-align: right;\n",
              "    }\n",
              "</style>\n",
              "<table border=\"1\" class=\"dataframe\">\n",
              "  <thead>\n",
              "    <tr style=\"text-align: right;\">\n",
              "      <th>item_count</th>\n",
              "      <th>1</th>\n",
              "    </tr>\n",
              "  </thead>\n",
              "  <tbody>\n",
              "    <tr>\n",
              "      <th>itemsets_count</th>\n",
              "      <td>2</td>\n",
              "    </tr>\n",
              "  </tbody>\n",
              "</table>\n",
              "</div>"
            ],
            "text/plain": [
              "item_count      1\n",
              "itemsets_count  2"
            ]
          },
          "metadata": {
            "tags": []
          }
        }
      ]
    },
    {
      "cell_type": "code",
      "metadata": {
        "id": "K1-5Dzpe6cBz",
        "colab": {
          "base_uri": "https://localhost:8080/",
          "height": 288
        },
        "outputId": "871004a8-8974-494d-dc93-f74be120a370"
      },
      "source": [
        "plt.plot(np.arange(0.05,0.24,0.03),num_rec)\n",
        "plt.xlabel(\"min_support\");plt.ylabel(\"num_itemsets\")\n",
        "for i in range(len(np.arange(0.05,0.24,0.03))):\n",
        "    plt.text(np.arange(0.05,0.24,0.03)[i],num_rec[i]+5,str(num_rec[i]))"
      ],
      "id": "K1-5Dzpe6cBz",
      "execution_count": 51,
      "outputs": [
        {
          "output_type": "display_data",
          "data": {
            "image/png": "[encoded data removed]",
            "text/plain": [
              "<Figure size 432x288 with 1 Axes>"
            ]
          },
          "metadata": {
            "tags": [],
            "needs_background": "light"
          }
        }
      ]
    },
    {
      "cell_type": "markdown",
      "metadata": {
        "id": "A5PNcYpy6fEv"
      },
      "source": [
        "德国数据中，支持度的分布与法国不太一样，很多的项集支持度集中在0.1以下，说明可能德国的订单数据本身有较为零散的特点。"
      ],
      "id": "A5PNcYpy6fEv"
    },
    {
      "cell_type": "code",
      "metadata": {
        "id": "fxq_ECUo6hXV",
        "colab": {
          "base_uri": "https://localhost:8080/",
          "height": 281
        },
        "outputId": "0f473470-8cd2-41f3-f847-0adff6890354"
      },
      "source": [
        "freq_itemset = apriori(trans_data, min_support=0.08,use_colnames= True)\n",
        "rule_count = []\n",
        "for i in np.arange(0.1,0.96,0.05):\n",
        "    rules = association_rules(freq_itemset,metric = 'confidence',min_threshold = i)\n",
        "    rule_count.append(rules.shape[0])\n",
        "plt.plot(np.arange(0.1,0.96,0.05),rule_count)\n",
        "plt.xlabel(\"min_confidence\");plt.ylabel(\"num_rules\")\n",
        "for i in range(len(np.arange(0.1,0.96,0.05))):\n",
        "    plt.text(np.arange(0.1,0.96,0.05)[i],rule_count[i]+0.1,str(rule_count[i])) # 这个真的是置信度吗？"
      ],
      "id": "fxq_ECUo6hXV",
      "execution_count": 52,
      "outputs": [
        {
          "output_type": "display_data",
          "data": {
            "image/png": "[encoded data removed]",
            "text/plain": [
              "<Figure size 432x288 with 1 Axes>"
            ]
          },
          "metadata": {
            "tags": [],
            "needs_background": "light"
          }
        }
      ]
    },
    {
      "cell_type": "code",
      "metadata": {
        "id": "LiR0Jq0X6jz8",
        "colab": {
          "base_uri": "https://localhost:8080/",
          "height": 530
        },
        "outputId": "2fcfbea2-ee35-444e-cf03-7482a0e316e0"
      },
      "source": [
        "rules = association_rules(freq_itemset,metric = 'confidence',min_threshold = 0.80)\n",
        "rules.iloc[:,[0,1,4,5,6]].sort_values(by=\"confidence\",ascending=False).round(3)"
      ],
      "id": "LiR0Jq0X6jz8",
      "execution_count": 53,
      "outputs": [
        {
          "output_type": "execute_result",
          "data": {
            "text/latex": "\\begin{tabular}{lllrrr}\n\\toprule\n{} &                                        antecedents &                            consequents &  support &  confidence &   lift \\\\\n\\midrule\n7  &               (ROUND SNACK BOXES SET OF 4 FRUITS ) &                              (POSTAGE) &    0.151 &       0.958 &  1.172 \\\\\n13 &  (ROUND SNACK BOXES SET OF 4 FRUITS , ROUND SNA... &                              (POSTAGE) &    0.125 &       0.950 &  1.161 \\\\\n3  &                         (PLASTERS IN TIN SPACEBOY) &                              (POSTAGE) &    0.101 &       0.939 &  1.148 \\\\\n8  &              (ROUND SNACK BOXES SET OF4 WOODLAND ) &                              (POSTAGE) &    0.226 &       0.920 &  1.124 \\\\\n10 &                           (WOODLAND CHARLOTTE BAG) &                              (POSTAGE) &    0.116 &       0.914 &  1.117 \\\\\n0  &                           (6 RIBBONS RUSTIC CHARM) &                              (POSTAGE) &    0.092 &       0.894 &  1.092 \\\\\n9  &                              (SPACEBOY LUNCH BOX ) &                              (POSTAGE) &    0.092 &       0.894 &  1.092 \\\\\n6  &                         (REGENCY CAKESTAND 3 TIER) &                              (POSTAGE) &    0.121 &       0.873 &  1.067 \\\\\n1  &                       (JUMBO BAG WOODLAND ANIMALS) &                              (POSTAGE) &    0.088 &       0.870 &  1.063 \\\\\n2  &                   (PLASTERS IN TIN CIRCUS PARADE ) &                              (POSTAGE) &    0.099 &       0.865 &  1.058 \\\\\n4  &                 (PLASTERS IN TIN WOODLAND ANIMALS) &                              (POSTAGE) &    0.118 &       0.857 &  1.048 \\\\\n5  &                    (RED TOADSTOOL LED NIGHT LIGHT) &                              (POSTAGE) &    0.081 &       0.841 &  1.028 \\\\\n11 &               (ROUND SNACK BOXES SET OF 4 FRUITS ) &  (ROUND SNACK BOXES SET OF4 WOODLAND ) &    0.132 &       0.833 &  3.393 \\\\\n12 &      (ROUND SNACK BOXES SET OF 4 FRUITS , POSTAGE) &  (ROUND SNACK BOXES SET OF4 WOODLAND ) &    0.125 &       0.826 &  3.363 \\\\\n\\bottomrule\n\\end{tabular}\n",
            "text/html": [
              "<div>\n",
              "<style scoped>\n",
              "    .dataframe tbody tr th:only-of-type {\n",
              "        vertical-align: middle;\n",
              "    }\n",
              "\n",
              "    .dataframe tbody tr th {\n",
              "        vertical-align: top;\n",
              "    }\n",
              "\n",
              "    .dataframe thead th {\n",
              "        text-align: right;\n",
              "    }\n",
              "</style>\n",
              "<table border=\"1\" class=\"dataframe\">\n",
              "  <thead>\n",
              "    <tr style=\"text-align: right;\">\n",
              "      <th></th>\n",
              "      <th>antecedents</th>\n",
              "      <th>consequents</th>\n",
              "      <th>support</th>\n",
              "      <th>confidence</th>\n",
              "      <th>lift</th>\n",
              "    </tr>\n",
              "  </thead>\n",
              "  <tbody>\n",
              "    <tr>\n",
              "      <th>7</th>\n",
              "      <td>(ROUND SNACK BOXES SET OF 4 FRUITS )</td>\n",
              "      <td>(POSTAGE)</td>\n",
              "      <td>0.151</td>\n",
              "      <td>0.958</td>\n",
              "      <td>1.172</td>\n",
              "    </tr>\n",
              "    <tr>\n",
              "      <th>13</th>\n",
              "      <td>(ROUND SNACK BOXES SET OF 4 FRUITS , ROUND SNA...</td>\n",
              "      <td>(POSTAGE)</td>\n",
              "      <td>0.125</td>\n",
              "      <td>0.950</td>\n",
              "      <td>1.161</td>\n",
              "    </tr>\n",
              "    <tr>\n",
              "      <th>3</th>\n",
              "      <td>(PLASTERS IN TIN SPACEBOY)</td>\n",
              "      <td>(POSTAGE)</td>\n",
              "      <td>0.101</td>\n",
              "      <td>0.939</td>\n",
              "      <td>1.148</td>\n",
              "    </tr>\n",
              "    <tr>\n",
              "      <th>8</th>\n",
              "      <td>(ROUND SNACK BOXES SET OF4 WOODLAND )</td>\n",
              "      <td>(POSTAGE)</td>\n",
              "      <td>0.226</td>\n",
              "      <td>0.920</td>\n",
              "      <td>1.124</td>\n",
              "    </tr>\n",
              "    <tr>\n",
              "      <th>10</th>\n",
              "      <td>(WOODLAND CHARLOTTE BAG)</td>\n",
              "      <td>(POSTAGE)</td>\n",
              "      <td>0.116</td>\n",
              "      <td>0.914</td>\n",
              "      <td>1.117</td>\n",
              "    </tr>\n",
              "    <tr>\n",
              "      <th>0</th>\n",
              "      <td>(6 RIBBONS RUSTIC CHARM)</td>\n",
              "      <td>(POSTAGE)</td>\n",
              "      <td>0.092</td>\n",
              "      <td>0.894</td>\n",
              "      <td>1.092</td>\n",
              "    </tr>\n",
              "    <tr>\n",
              "      <th>9</th>\n",
              "      <td>(SPACEBOY LUNCH BOX )</td>\n",
              "      <td>(POSTAGE)</td>\n",
              "      <td>0.092</td>\n",
              "      <td>0.894</td>\n",
              "      <td>1.092</td>\n",
              "    </tr>\n",
              "    <tr>\n",
              "      <th>6</th>\n",
              "      <td>(REGENCY CAKESTAND 3 TIER)</td>\n",
              "      <td>(POSTAGE)</td>\n",
              "      <td>0.121</td>\n",
              "      <td>0.873</td>\n",
              "      <td>1.067</td>\n",
              "    </tr>\n",
              "    <tr>\n",
              "      <th>1</th>\n",
              "      <td>(JUMBO BAG WOODLAND ANIMALS)</td>\n",
              "      <td>(POSTAGE)</td>\n",
              "      <td>0.088</td>\n",
              "      <td>0.870</td>\n",
              "      <td>1.063</td>\n",
              "    </tr>\n",
              "    <tr>\n",
              "      <th>2</th>\n",
              "      <td>(PLASTERS IN TIN CIRCUS PARADE )</td>\n",
              "      <td>(POSTAGE)</td>\n",
              "      <td>0.099</td>\n",
              "      <td>0.865</td>\n",
              "      <td>1.058</td>\n",
              "    </tr>\n",
              "    <tr>\n",
              "      <th>4</th>\n",
              "      <td>(PLASTERS IN TIN WOODLAND ANIMALS)</td>\n",
              "      <td>(POSTAGE)</td>\n",
              "      <td>0.118</td>\n",
              "      <td>0.857</td>\n",
              "      <td>1.048</td>\n",
              "    </tr>\n",
              "    <tr>\n",
              "      <th>5</th>\n",
              "      <td>(RED TOADSTOOL LED NIGHT LIGHT)</td>\n",
              "      <td>(POSTAGE)</td>\n",
              "      <td>0.081</td>\n",
              "      <td>0.841</td>\n",
              "      <td>1.028</td>\n",
              "    </tr>\n",
              "    <tr>\n",
              "      <th>11</th>\n",
              "      <td>(ROUND SNACK BOXES SET OF 4 FRUITS )</td>\n",
              "      <td>(ROUND SNACK BOXES SET OF4 WOODLAND )</td>\n",
              "      <td>0.132</td>\n",
              "      <td>0.833</td>\n",
              "      <td>3.393</td>\n",
              "    </tr>\n",
              "    <tr>\n",
              "      <th>12</th>\n",
              "      <td>(ROUND SNACK BOXES SET OF 4 FRUITS , POSTAGE)</td>\n",
              "      <td>(ROUND SNACK BOXES SET OF4 WOODLAND )</td>\n",
              "      <td>0.125</td>\n",
              "      <td>0.826</td>\n",
              "      <td>3.363</td>\n",
              "    </tr>\n",
              "  </tbody>\n",
              "</table>\n",
              "</div>"
            ],
            "text/plain": [
              "                                          antecedents  ...   lift\n",
              "7                (ROUND SNACK BOXES SET OF 4 FRUITS )  ...  1.172\n",
              "13  (ROUND SNACK BOXES SET OF 4 FRUITS , ROUND SNA...  ...  1.161\n",
              "3                          (PLASTERS IN TIN SPACEBOY)  ...  1.148\n",
              "8               (ROUND SNACK BOXES SET OF4 WOODLAND )  ...  1.124\n",
              "10                           (WOODLAND CHARLOTTE BAG)  ...  1.117\n",
              "0                            (6 RIBBONS RUSTIC CHARM)  ...  1.092\n",
              "9                               (SPACEBOY LUNCH BOX )  ...  1.092\n",
              "6                          (REGENCY CAKESTAND 3 TIER)  ...  1.067\n",
              "1                        (JUMBO BAG WOODLAND ANIMALS)  ...  1.063\n",
              "2                    (PLASTERS IN TIN CIRCUS PARADE )  ...  1.058\n",
              "4                  (PLASTERS IN TIN WOODLAND ANIMALS)  ...  1.048\n",
              "5                     (RED TOADSTOOL LED NIGHT LIGHT)  ...  1.028\n",
              "11               (ROUND SNACK BOXES SET OF 4 FRUITS )  ...  3.393\n",
              "12      (ROUND SNACK BOXES SET OF 4 FRUITS , POSTAGE)  ...  3.363\n",
              "\n",
              "[14 rows x 5 columns]"
            ]
          },
          "metadata": {
            "tags": []
          },
          "execution_count": 53
        }
      ]
    },
    {
      "cell_type": "markdown",
      "metadata": {
        "id": "kU6GZILf6oPQ"
      },
      "source": [
        "以置信度对结果进行筛选，得到的靠前的规则记录都为购买单物品者都会购买邮资，推测这可能是因为商品本身价格过低，没有达到“包邮”门槛。这样一条规则其实没有什么应用价值，仅仅可以解读购买这些商品的客户愿意付邮费。也可以从这些规则的提升度看出，虽然都大于 1，是正向促进的，但是都不高。而最后两行的盒装零食搭配购买规则虽然置信度没有前面高，但是提升度却显著大于上面的“凑邮费”规则。\n",
        "\n",
        "下面通过提升度筛选更重要的规则："
      ],
      "id": "kU6GZILf6oPQ"
    },
    {
      "cell_type": "code",
      "metadata": {
        "id": "yJu1dKjj6rJU",
        "colab": {
          "base_uri": "https://localhost:8080/",
          "height": 285
        },
        "outputId": "e2f91a75-1577-4fc2-f0c2-e348d174d9d8"
      },
      "source": [
        "rule_count = []\n",
        "for i in np.arange(0.99,4,0.5):\n",
        "    rules = association_rules(freq_itemset,metric = 'lift',min_threshold = i)\n",
        "    rule_count.append(rules.shape[0])\n",
        "\n",
        "plt.plot(np.arange(0.99,4,0.5),rule_count)\n",
        "plt.xlabel(\"min_lift\");plt.ylabel(\"num_rules\")\n",
        "for i in range(len(np.arange(0.99,4,0.5))):\n",
        "    plt.text(np.arange(0.99,4,0.5)[i],rule_count[i]+1,str(rule_count[i]))"
      ],
      "id": "yJu1dKjj6rJU",
      "execution_count": 54,
      "outputs": [
        {
          "output_type": "display_data",
          "data": {
            "image/png": "[encoded data removed]",
            "text/plain": [
              "<Figure size 432x288 with 1 Axes>"
            ]
          },
          "metadata": {
            "tags": [],
            "needs_background": "light"
          }
        }
      ]
    },
    {
      "cell_type": "markdown",
      "metadata": {
        "id": "v1ZzYRsf6tqa"
      },
      "source": [
        "德国数据集上，提升度普遍不是很高。不过也可以从中选出相对重要的规则。"
      ],
      "id": "v1ZzYRsf6tqa"
    },
    {
      "cell_type": "code",
      "metadata": {
        "id": "5tqzdSB_6vJY",
        "colab": {
          "base_uri": "https://localhost:8080/",
          "height": 398
        },
        "outputId": "b66c7fdb-ad88-437e-93dc-2b2dd0640228"
      },
      "source": [
        "rules = association_rules(freq_itemset,metric = 'lift',min_threshold = 1.17)\n",
        "rules.iloc[:,[0,1,4,5,6]].sort_values(by=\"lift\",ascending=False).round(3)"
      ],
      "id": "5tqzdSB_6vJY",
      "execution_count": 55,
      "outputs": [
        {
          "output_type": "execute_result",
          "data": {
            "text/latex": "\\begin{tabular}{lllrrr}\n\\toprule\n{} &                                     antecedents &                                     consequents &  support &  confidence &   lift \\\\\n\\midrule\n5 &  (POSTAGE, ROUND SNACK BOXES SET OF4 WOODLAND ) &            (ROUND SNACK BOXES SET OF 4 FRUITS ) &    0.125 &       0.553 &  3.505 \\\\\n6 &            (ROUND SNACK BOXES SET OF 4 FRUITS ) &  (POSTAGE, ROUND SNACK BOXES SET OF4 WOODLAND ) &    0.125 &       0.792 &  3.505 \\\\\n2 &            (ROUND SNACK BOXES SET OF 4 FRUITS ) &           (ROUND SNACK BOXES SET OF4 WOODLAND ) &    0.132 &       0.833 &  3.393 \\\\\n3 &           (ROUND SNACK BOXES SET OF4 WOODLAND ) &            (ROUND SNACK BOXES SET OF 4 FRUITS ) &    0.132 &       0.536 &  3.393 \\\\\n4 &   (ROUND SNACK BOXES SET OF 4 FRUITS , POSTAGE) &           (ROUND SNACK BOXES SET OF4 WOODLAND ) &    0.125 &       0.826 &  3.363 \\\\\n7 &           (ROUND SNACK BOXES SET OF4 WOODLAND ) &   (ROUND SNACK BOXES SET OF 4 FRUITS , POSTAGE) &    0.125 &       0.509 &  3.363 \\\\\n0 &            (ROUND SNACK BOXES SET OF 4 FRUITS ) &                                       (POSTAGE) &    0.151 &       0.958 &  1.172 \\\\\n1 &                                       (POSTAGE) &            (ROUND SNACK BOXES SET OF 4 FRUITS ) &    0.151 &       0.185 &  1.172 \\\\\n\\bottomrule\n\\end{tabular}\n",
            "text/html": [
              "<div>\n",
              "<style scoped>\n",
              "    .dataframe tbody tr th:only-of-type {\n",
              "        vertical-align: middle;\n",
              "    }\n",
              "\n",
              "    .dataframe tbody tr th {\n",
              "        vertical-align: top;\n",
              "    }\n",
              "\n",
              "    .dataframe thead th {\n",
              "        text-align: right;\n",
              "    }\n",
              "</style>\n",
              "<table border=\"1\" class=\"dataframe\">\n",
              "  <thead>\n",
              "    <tr style=\"text-align: right;\">\n",
              "      <th></th>\n",
              "      <th>antecedents</th>\n",
              "      <th>consequents</th>\n",
              "      <th>support</th>\n",
              "      <th>confidence</th>\n",
              "      <th>lift</th>\n",
              "    </tr>\n",
              "  </thead>\n",
              "  <tbody>\n",
              "    <tr>\n",
              "      <th>5</th>\n",
              "      <td>(POSTAGE, ROUND SNACK BOXES SET OF4 WOODLAND )</td>\n",
              "      <td>(ROUND SNACK BOXES SET OF 4 FRUITS )</td>\n",
              "      <td>0.125</td>\n",
              "      <td>0.553</td>\n",
              "      <td>3.505</td>\n",
              "    </tr>\n",
              "    <tr>\n",
              "      <th>6</th>\n",
              "      <td>(ROUND SNACK BOXES SET OF 4 FRUITS )</td>\n",
              "      <td>(POSTAGE, ROUND SNACK BOXES SET OF4 WOODLAND )</td>\n",
              "      <td>0.125</td>\n",
              "      <td>0.792</td>\n",
              "      <td>3.505</td>\n",
              "    </tr>\n",
              "    <tr>\n",
              "      <th>2</th>\n",
              "      <td>(ROUND SNACK BOXES SET OF 4 FRUITS )</td>\n",
              "      <td>(ROUND SNACK BOXES SET OF4 WOODLAND )</td>\n",
              "      <td>0.132</td>\n",
              "      <td>0.833</td>\n",
              "      <td>3.393</td>\n",
              "    </tr>\n",
              "    <tr>\n",
              "      <th>3</th>\n",
              "      <td>(ROUND SNACK BOXES SET OF4 WOODLAND )</td>\n",
              "      <td>(ROUND SNACK BOXES SET OF 4 FRUITS )</td>\n",
              "      <td>0.132</td>\n",
              "      <td>0.536</td>\n",
              "      <td>3.393</td>\n",
              "    </tr>\n",
              "    <tr>\n",
              "      <th>4</th>\n",
              "      <td>(ROUND SNACK BOXES SET OF 4 FRUITS , POSTAGE)</td>\n",
              "      <td>(ROUND SNACK BOXES SET OF4 WOODLAND )</td>\n",
              "      <td>0.125</td>\n",
              "      <td>0.826</td>\n",
              "      <td>3.363</td>\n",
              "    </tr>\n",
              "    <tr>\n",
              "      <th>7</th>\n",
              "      <td>(ROUND SNACK BOXES SET OF4 WOODLAND )</td>\n",
              "      <td>(ROUND SNACK BOXES SET OF 4 FRUITS , POSTAGE)</td>\n",
              "      <td>0.125</td>\n",
              "      <td>0.509</td>\n",
              "      <td>3.363</td>\n",
              "    </tr>\n",
              "    <tr>\n",
              "      <th>0</th>\n",
              "      <td>(ROUND SNACK BOXES SET OF 4 FRUITS )</td>\n",
              "      <td>(POSTAGE)</td>\n",
              "      <td>0.151</td>\n",
              "      <td>0.958</td>\n",
              "      <td>1.172</td>\n",
              "    </tr>\n",
              "    <tr>\n",
              "      <th>1</th>\n",
              "      <td>(POSTAGE)</td>\n",
              "      <td>(ROUND SNACK BOXES SET OF 4 FRUITS )</td>\n",
              "      <td>0.151</td>\n",
              "      <td>0.185</td>\n",
              "      <td>1.172</td>\n",
              "    </tr>\n",
              "  </tbody>\n",
              "</table>\n",
              "</div>"
            ],
            "text/plain": [
              "                                      antecedents  ...   lift\n",
              "5  (POSTAGE, ROUND SNACK BOXES SET OF4 WOODLAND )  ...  3.505\n",
              "6            (ROUND SNACK BOXES SET OF 4 FRUITS )  ...  3.505\n",
              "2            (ROUND SNACK BOXES SET OF 4 FRUITS )  ...  3.393\n",
              "3           (ROUND SNACK BOXES SET OF4 WOODLAND )  ...  3.393\n",
              "4   (ROUND SNACK BOXES SET OF 4 FRUITS , POSTAGE)  ...  3.363\n",
              "7           (ROUND SNACK BOXES SET OF4 WOODLAND )  ...  3.363\n",
              "0            (ROUND SNACK BOXES SET OF 4 FRUITS )  ...  1.172\n",
              "1                                       (POSTAGE)  ...  1.172\n",
              "\n",
              "[8 rows x 5 columns]"
            ]
          },
          "metadata": {
            "tags": []
          },
          "execution_count": 55
        }
      ]
    },
    {
      "cell_type": "markdown",
      "metadata": {
        "id": "wkocfT1OF6PI"
      },
      "source": [
        "德国数据集的提升度分布出现了断层，不存在规则的提升度在 1.172 至 3.363 之间。而提升度大于 3.363 的规则集主要解揭示的是零食礼盒的组合购买，人们会倾向于购买 ROUND SNACK BOXES 的不同品种，同时也会出现需要加邮费的情况，可能是物品重量原因，也可能是物品价格和电商平台规则原因。  "
      ],
      "id": "wkocfT1OF6PI"
    },
    {
      "cell_type": "markdown",
      "metadata": {
        "id": "J9qLmbQynbHY"
      },
      "source": [
        "## 关联规则挖掘：爱尔兰"
      ],
      "id": "J9qLmbQynbHY"
    },
    {
      "cell_type": "code",
      "metadata": {
        "id": "KCdIuspn7JlB",
        "colab": {
          "base_uri": "https://localhost:8080/"
        },
        "outputId": "1010632a-7177-484f-85b0-b82e82ca320b"
      },
      "source": [
        "prevIndex = -1; trans_list = []; trans = []\n",
        "orderData = data_eire.iloc[:,:2].set_index('InvoiceNo')\n",
        "for index,row in orderData.iterrows():\n",
        "    if index == prevIndex:\n",
        "        trans.append(row[0])\n",
        "    else: \n",
        "        prevIndex = index\n",
        "        trans_list.append(trans)\n",
        "        trans = []\n",
        "        trans.append(row[0])\n",
        "trans_list = trans_list[1:]\n",
        "encoder = TransactionEncoder()\n",
        "X = encoder.fit_transform(trans_list)\n",
        "print(\"Num of goods: %d \\nGoods Sample:\" % len(encoder.columns_))\n",
        "print(encoder.columns_[:3])\n",
        "trans_data = pd.DataFrame(X, columns = encoder.columns_)"
      ],
      "id": "KCdIuspn7JlB",
      "execution_count": 56,
      "outputs": [
        {
          "output_type": "stream",
          "text": [
            "Num of goods: 2006 \n",
            "Goods Sample:\n",
            "[' 4 PURPLE FLOCK DINNER CANDLES', \" 50'S CHRISTMAS GIFT BAG LARGE\", ' DOLLY GIRL BEAKER']\n"
          ],
          "name": "stdout"
        }
      ]
    },
    {
      "cell_type": "code",
      "metadata": {
        "id": "3vMb-rYr7JlC",
        "colab": {
          "base_uri": "https://localhost:8080/",
          "height": 577
        },
        "outputId": "a7b86ed1-7435-4cfa-c22b-194965d20f06"
      },
      "source": [
        "num_rec = []\n",
        "for i in np.arange(0.05,0.24,0.03):\n",
        "    result = apriori(trans_data, min_support=i)\n",
        "    num_rec.append(result.shape[0])\n",
        "    result.iloc[:,1] = result.iloc[:,1].apply(lambda x: len(x))\n",
        "    result.columns=['itemsets_count','item_count']\n",
        "    a = result.groupby(by='item_count').count().T\n",
        "    print(\"Support: %.3f\" % i)\n",
        "    display(a)"
      ],
      "id": "3vMb-rYr7JlC",
      "execution_count": 57,
      "outputs": [
        {
          "output_type": "stream",
          "text": [
            "Support: 0.050\n"
          ],
          "name": "stdout"
        },
        {
          "output_type": "display_data",
          "data": {
            "text/latex": "\\begin{tabular}{lrrrr}\n\\toprule\nitem\\_count &   1 &   2 &   3 &  4 \\\\\n\\midrule\nitemsets\\_count &  79 &  44 &  26 &  5 \\\\\n\\bottomrule\n\\end{tabular}\n",
            "text/html": [
              "<div>\n",
              "<style scoped>\n",
              "    .dataframe tbody tr th:only-of-type {\n",
              "        vertical-align: middle;\n",
              "    }\n",
              "\n",
              "    .dataframe tbody tr th {\n",
              "        vertical-align: top;\n",
              "    }\n",
              "\n",
              "    .dataframe thead th {\n",
              "        text-align: right;\n",
              "    }\n",
              "</style>\n",
              "<table border=\"1\" class=\"dataframe\">\n",
              "  <thead>\n",
              "    <tr style=\"text-align: right;\">\n",
              "      <th>item_count</th>\n",
              "      <th>1</th>\n",
              "      <th>2</th>\n",
              "      <th>3</th>\n",
              "      <th>4</th>\n",
              "    </tr>\n",
              "  </thead>\n",
              "  <tbody>\n",
              "    <tr>\n",
              "      <th>itemsets_count</th>\n",
              "      <td>79</td>\n",
              "      <td>44</td>\n",
              "      <td>26</td>\n",
              "      <td>5</td>\n",
              "    </tr>\n",
              "  </tbody>\n",
              "</table>\n",
              "</div>"
            ],
            "text/plain": [
              "item_count       1   2   3  4\n",
              "itemsets_count  79  44  26  5"
            ]
          },
          "metadata": {
            "tags": []
          }
        },
        {
          "output_type": "stream",
          "text": [
            "Support: 0.080\n"
          ],
          "name": "stdout"
        },
        {
          "output_type": "display_data",
          "data": {
            "text/latex": "\\begin{tabular}{lrrr}\n\\toprule\nitem\\_count &   1 &  2 &  3 \\\\\n\\midrule\nitemsets\\_count &  24 &  5 &  2 \\\\\n\\bottomrule\n\\end{tabular}\n",
            "text/html": [
              "<div>\n",
              "<style scoped>\n",
              "    .dataframe tbody tr th:only-of-type {\n",
              "        vertical-align: middle;\n",
              "    }\n",
              "\n",
              "    .dataframe tbody tr th {\n",
              "        vertical-align: top;\n",
              "    }\n",
              "\n",
              "    .dataframe thead th {\n",
              "        text-align: right;\n",
              "    }\n",
              "</style>\n",
              "<table border=\"1\" class=\"dataframe\">\n",
              "  <thead>\n",
              "    <tr style=\"text-align: right;\">\n",
              "      <th>item_count</th>\n",
              "      <th>1</th>\n",
              "      <th>2</th>\n",
              "      <th>3</th>\n",
              "    </tr>\n",
              "  </thead>\n",
              "  <tbody>\n",
              "    <tr>\n",
              "      <th>itemsets_count</th>\n",
              "      <td>24</td>\n",
              "      <td>5</td>\n",
              "      <td>2</td>\n",
              "    </tr>\n",
              "  </tbody>\n",
              "</table>\n",
              "</div>"
            ],
            "text/plain": [
              "item_count       1  2  3\n",
              "itemsets_count  24  5  2"
            ]
          },
          "metadata": {
            "tags": []
          }
        },
        {
          "output_type": "stream",
          "text": [
            "Support: 0.110\n"
          ],
          "name": "stdout"
        },
        {
          "output_type": "display_data",
          "data": {
            "text/latex": "\\begin{tabular}{lrr}\n\\toprule\nitem\\_count &   1 &  2 \\\\\n\\midrule\nitemsets\\_count &  11 &  2 \\\\\n\\bottomrule\n\\end{tabular}\n",
            "text/html": [
              "<div>\n",
              "<style scoped>\n",
              "    .dataframe tbody tr th:only-of-type {\n",
              "        vertical-align: middle;\n",
              "    }\n",
              "\n",
              "    .dataframe tbody tr th {\n",
              "        vertical-align: top;\n",
              "    }\n",
              "\n",
              "    .dataframe thead th {\n",
              "        text-align: right;\n",
              "    }\n",
              "</style>\n",
              "<table border=\"1\" class=\"dataframe\">\n",
              "  <thead>\n",
              "    <tr style=\"text-align: right;\">\n",
              "      <th>item_count</th>\n",
              "      <th>1</th>\n",
              "      <th>2</th>\n",
              "    </tr>\n",
              "  </thead>\n",
              "  <tbody>\n",
              "    <tr>\n",
              "      <th>itemsets_count</th>\n",
              "      <td>11</td>\n",
              "      <td>2</td>\n",
              "    </tr>\n",
              "  </tbody>\n",
              "</table>\n",
              "</div>"
            ],
            "text/plain": [
              "item_count       1  2\n",
              "itemsets_count  11  2"
            ]
          },
          "metadata": {
            "tags": []
          }
        },
        {
          "output_type": "stream",
          "text": [
            "Support: 0.140\n"
          ],
          "name": "stdout"
        },
        {
          "output_type": "display_data",
          "data": {
            "text/latex": "\\begin{tabular}{lr}\n\\toprule\nitem\\_count &  1 \\\\\n\\midrule\nitemsets\\_count &  5 \\\\\n\\bottomrule\n\\end{tabular}\n",
            "text/html": [
              "<div>\n",
              "<style scoped>\n",
              "    .dataframe tbody tr th:only-of-type {\n",
              "        vertical-align: middle;\n",
              "    }\n",
              "\n",
              "    .dataframe tbody tr th {\n",
              "        vertical-align: top;\n",
              "    }\n",
              "\n",
              "    .dataframe thead th {\n",
              "        text-align: right;\n",
              "    }\n",
              "</style>\n",
              "<table border=\"1\" class=\"dataframe\">\n",
              "  <thead>\n",
              "    <tr style=\"text-align: right;\">\n",
              "      <th>item_count</th>\n",
              "      <th>1</th>\n",
              "    </tr>\n",
              "  </thead>\n",
              "  <tbody>\n",
              "    <tr>\n",
              "      <th>itemsets_count</th>\n",
              "      <td>5</td>\n",
              "    </tr>\n",
              "  </tbody>\n",
              "</table>\n",
              "</div>"
            ],
            "text/plain": [
              "item_count      1\n",
              "itemsets_count  5"
            ]
          },
          "metadata": {
            "tags": []
          }
        },
        {
          "output_type": "stream",
          "text": [
            "Support: 0.170\n"
          ],
          "name": "stdout"
        },
        {
          "output_type": "display_data",
          "data": {
            "text/latex": "\\begin{tabular}{lr}\n\\toprule\nitem\\_count &  1 \\\\\n\\midrule\nitemsets\\_count &  2 \\\\\n\\bottomrule\n\\end{tabular}\n",
            "text/html": [
              "<div>\n",
              "<style scoped>\n",
              "    .dataframe tbody tr th:only-of-type {\n",
              "        vertical-align: middle;\n",
              "    }\n",
              "\n",
              "    .dataframe tbody tr th {\n",
              "        vertical-align: top;\n",
              "    }\n",
              "\n",
              "    .dataframe thead th {\n",
              "        text-align: right;\n",
              "    }\n",
              "</style>\n",
              "<table border=\"1\" class=\"dataframe\">\n",
              "  <thead>\n",
              "    <tr style=\"text-align: right;\">\n",
              "      <th>item_count</th>\n",
              "      <th>1</th>\n",
              "    </tr>\n",
              "  </thead>\n",
              "  <tbody>\n",
              "    <tr>\n",
              "      <th>itemsets_count</th>\n",
              "      <td>2</td>\n",
              "    </tr>\n",
              "  </tbody>\n",
              "</table>\n",
              "</div>"
            ],
            "text/plain": [
              "item_count      1\n",
              "itemsets_count  2"
            ]
          },
          "metadata": {
            "tags": []
          }
        },
        {
          "output_type": "stream",
          "text": [
            "Support: 0.200\n"
          ],
          "name": "stdout"
        },
        {
          "output_type": "display_data",
          "data": {
            "text/latex": "\\begin{tabular}{lr}\n\\toprule\nitem\\_count &  1 \\\\\n\\midrule\nitemsets\\_count &  2 \\\\\n\\bottomrule\n\\end{tabular}\n",
            "text/html": [
              "<div>\n",
              "<style scoped>\n",
              "    .dataframe tbody tr th:only-of-type {\n",
              "        vertical-align: middle;\n",
              "    }\n",
              "\n",
              "    .dataframe tbody tr th {\n",
              "        vertical-align: top;\n",
              "    }\n",
              "\n",
              "    .dataframe thead th {\n",
              "        text-align: right;\n",
              "    }\n",
              "</style>\n",
              "<table border=\"1\" class=\"dataframe\">\n",
              "  <thead>\n",
              "    <tr style=\"text-align: right;\">\n",
              "      <th>item_count</th>\n",
              "      <th>1</th>\n",
              "    </tr>\n",
              "  </thead>\n",
              "  <tbody>\n",
              "    <tr>\n",
              "      <th>itemsets_count</th>\n",
              "      <td>2</td>\n",
              "    </tr>\n",
              "  </tbody>\n",
              "</table>\n",
              "</div>"
            ],
            "text/plain": [
              "item_count      1\n",
              "itemsets_count  2"
            ]
          },
          "metadata": {
            "tags": []
          }
        },
        {
          "output_type": "stream",
          "text": [
            "Support: 0.230\n"
          ],
          "name": "stdout"
        },
        {
          "output_type": "display_data",
          "data": {
            "text/latex": "\\begin{tabular}{lr}\n\\toprule\nitem\\_count &  1 \\\\\n\\midrule\nitemsets\\_count &  2 \\\\\n\\bottomrule\n\\end{tabular}\n",
            "text/html": [
              "<div>\n",
              "<style scoped>\n",
              "    .dataframe tbody tr th:only-of-type {\n",
              "        vertical-align: middle;\n",
              "    }\n",
              "\n",
              "    .dataframe tbody tr th {\n",
              "        vertical-align: top;\n",
              "    }\n",
              "\n",
              "    .dataframe thead th {\n",
              "        text-align: right;\n",
              "    }\n",
              "</style>\n",
              "<table border=\"1\" class=\"dataframe\">\n",
              "  <thead>\n",
              "    <tr style=\"text-align: right;\">\n",
              "      <th>item_count</th>\n",
              "      <th>1</th>\n",
              "    </tr>\n",
              "  </thead>\n",
              "  <tbody>\n",
              "    <tr>\n",
              "      <th>itemsets_count</th>\n",
              "      <td>2</td>\n",
              "    </tr>\n",
              "  </tbody>\n",
              "</table>\n",
              "</div>"
            ],
            "text/plain": [
              "item_count      1\n",
              "itemsets_count  2"
            ]
          },
          "metadata": {
            "tags": []
          }
        }
      ]
    },
    {
      "cell_type": "code",
      "metadata": {
        "id": "Ni2TZqmg7JlC",
        "colab": {
          "base_uri": "https://localhost:8080/",
          "height": 285
        },
        "outputId": "ae832b6c-1e0e-4098-c6a6-ae5bb5244f1e"
      },
      "source": [
        "plt.plot(np.arange(0.05,0.24,0.03),num_rec)\n",
        "plt.xlabel(\"min_support\");plt.ylabel(\"num_itemsets\")\n",
        "for i in range(len(np.arange(0.05,0.24,0.03))):\n",
        "    plt.text(np.arange(0.05,0.24,0.03)[i],num_rec[i]+5,str(num_rec[i]))"
      ],
      "id": "Ni2TZqmg7JlC",
      "execution_count": 58,
      "outputs": [
        {
          "output_type": "display_data",
          "data": {
            "image/png": "[encoded data removed]",
            "text/plain": [
              "<Figure size 432x288 with 1 Axes>"
            ]
          },
          "metadata": {
            "tags": [],
            "needs_background": "light"
          }
        }
      ]
    },
    {
      "cell_type": "markdown",
      "metadata": {
        "id": "CR9WfSP07JlC"
      },
      "source": [
        "可以看到，通过国家筛选，整体商品种类数变少，复杂度降低，可设定的最小支持度也上升了。\n",
        "\n",
        "选定最小支持度为 0.08 的频繁项集进行后续分析。"
      ],
      "id": "CR9WfSP07JlC"
    },
    {
      "cell_type": "code",
      "metadata": {
        "id": "KEkueMex7JlD",
        "colab": {
          "base_uri": "https://localhost:8080/",
          "height": 280
        },
        "outputId": "f29c1f01-f035-469f-f22c-4a89bd33f1b3"
      },
      "source": [
        "freq_itemset = apriori(trans_data, min_support=0.08,use_colnames= True)\n",
        "rule_count = []\n",
        "for i in np.arange(0.1,0.96,0.05):\n",
        "    rules = association_rules(freq_itemset,metric = 'confidence',min_threshold = i)\n",
        "    rule_count.append(rules.shape[0])\n",
        "plt.plot(np.arange(0.1,0.96,0.05),rule_count)\n",
        "plt.xlabel(\"min_confidence\");plt.ylabel(\"num_rules\")\n",
        "for i in range(len(np.arange(0.1,0.96,0.05))):\n",
        "    plt.text(np.arange(0.1,0.96,0.05)[i],rule_count[i],str(rule_count[i])) # 这个真的是置信度吗？"
      ],
      "id": "KEkueMex7JlD",
      "execution_count": 59,
      "outputs": [
        {
          "output_type": "display_data",
          "data": {
            "image/png": "[encoded data removed]",
            "text/plain": [
              "<Figure size 432x288 with 1 Axes>"
            ]
          },
          "metadata": {
            "tags": [],
            "needs_background": "light"
          }
        }
      ]
    },
    {
      "cell_type": "code",
      "metadata": {
        "id": "VxUrO_uK7JlD",
        "colab": {
          "base_uri": "https://localhost:8080/",
          "height": 477
        },
        "outputId": "3b679770-5b12-4845-9aa3-2804d4183c0a"
      },
      "source": [
        "rules = association_rules(freq_itemset,metric = 'confidence',min_threshold = 0.75)\n",
        "rules.iloc[:,[0,1,4,5,6]].sort_values(by=\"confidence\",ascending=False).round(3)"
      ],
      "id": "VxUrO_uK7JlD",
      "execution_count": 60,
      "outputs": [
        {
          "output_type": "execute_result",
          "data": {
            "text/latex": "\\begin{tabular}{lllrrr}\n\\toprule\n{} &                                        antecedents &                                        consequents &  support &  confidence &   lift \\\\\n\\midrule\n8 &  (REGENCY CAKESTAND 3 TIER, GREEN REGENCY TEACU... &                 (ROSES REGENCY TEACUP AND SAUCER ) &    0.087 &       1.000 &  6.106 \\\\\n2 &                   (PINK REGENCY TEACUP AND SAUCER) &                 (ROSES REGENCY TEACUP AND SAUCER ) &    0.091 &       0.963 &  5.880 \\\\\n4 &  (PINK REGENCY TEACUP AND SAUCER, GREEN REGENCY... &                 (ROSES REGENCY TEACUP AND SAUCER ) &    0.084 &       0.960 &  5.862 \\\\\n0 &                   (PINK REGENCY TEACUP AND SAUCER) &                  (GREEN REGENCY TEACUP AND SAUCER) &    0.087 &       0.926 &  7.593 \\\\\n3 &  (PINK REGENCY TEACUP AND SAUCER, ROSES REGENCY... &                  (GREEN REGENCY TEACUP AND SAUCER) &    0.084 &       0.923 &  7.569 \\\\\n1 &                  (GREEN REGENCY TEACUP AND SAUCER) &                 (ROSES REGENCY TEACUP AND SAUCER ) &    0.111 &       0.914 &  5.583 \\\\\n6 &                   (PINK REGENCY TEACUP AND SAUCER) &  (ROSES REGENCY TEACUP AND SAUCER , GREEN REGEN... &    0.084 &       0.889 &  7.972 \\\\\n7 &  (REGENCY CAKESTAND 3 TIER, ROSES REGENCY TEACU... &                  (GREEN REGENCY TEACUP AND SAUCER) &    0.087 &       0.781 &  6.406 \\\\\n9 &  (ROSES REGENCY TEACUP AND SAUCER , GREEN REGEN... &                         (REGENCY CAKESTAND 3 TIER) &    0.087 &       0.781 &  3.203 \\\\\n5 &  (ROSES REGENCY TEACUP AND SAUCER , GREEN REGEN... &                   (PINK REGENCY TEACUP AND SAUCER) &    0.084 &       0.750 &  7.972 \\\\\n\\bottomrule\n\\end{tabular}\n",
            "text/html": [
              "<div>\n",
              "<style scoped>\n",
              "    .dataframe tbody tr th:only-of-type {\n",
              "        vertical-align: middle;\n",
              "    }\n",
              "\n",
              "    .dataframe tbody tr th {\n",
              "        vertical-align: top;\n",
              "    }\n",
              "\n",
              "    .dataframe thead th {\n",
              "        text-align: right;\n",
              "    }\n",
              "</style>\n",
              "<table border=\"1\" class=\"dataframe\">\n",
              "  <thead>\n",
              "    <tr style=\"text-align: right;\">\n",
              "      <th></th>\n",
              "      <th>antecedents</th>\n",
              "      <th>consequents</th>\n",
              "      <th>support</th>\n",
              "      <th>confidence</th>\n",
              "      <th>lift</th>\n",
              "    </tr>\n",
              "  </thead>\n",
              "  <tbody>\n",
              "    <tr>\n",
              "      <th>8</th>\n",
              "      <td>(REGENCY CAKESTAND 3 TIER, GREEN REGENCY TEACU...</td>\n",
              "      <td>(ROSES REGENCY TEACUP AND SAUCER )</td>\n",
              "      <td>0.087</td>\n",
              "      <td>1.000</td>\n",
              "      <td>6.106</td>\n",
              "    </tr>\n",
              "    <tr>\n",
              "      <th>2</th>\n",
              "      <td>(PINK REGENCY TEACUP AND SAUCER)</td>\n",
              "      <td>(ROSES REGENCY TEACUP AND SAUCER )</td>\n",
              "      <td>0.091</td>\n",
              "      <td>0.963</td>\n",
              "      <td>5.880</td>\n",
              "    </tr>\n",
              "    <tr>\n",
              "      <th>4</th>\n",
              "      <td>(PINK REGENCY TEACUP AND SAUCER, GREEN REGENCY...</td>\n",
              "      <td>(ROSES REGENCY TEACUP AND SAUCER )</td>\n",
              "      <td>0.084</td>\n",
              "      <td>0.960</td>\n",
              "      <td>5.862</td>\n",
              "    </tr>\n",
              "    <tr>\n",
              "      <th>0</th>\n",
              "      <td>(PINK REGENCY TEACUP AND SAUCER)</td>\n",
              "      <td>(GREEN REGENCY TEACUP AND SAUCER)</td>\n",
              "      <td>0.087</td>\n",
              "      <td>0.926</td>\n",
              "      <td>7.593</td>\n",
              "    </tr>\n",
              "    <tr>\n",
              "      <th>3</th>\n",
              "      <td>(PINK REGENCY TEACUP AND SAUCER, ROSES REGENCY...</td>\n",
              "      <td>(GREEN REGENCY TEACUP AND SAUCER)</td>\n",
              "      <td>0.084</td>\n",
              "      <td>0.923</td>\n",
              "      <td>7.569</td>\n",
              "    </tr>\n",
              "    <tr>\n",
              "      <th>1</th>\n",
              "      <td>(GREEN REGENCY TEACUP AND SAUCER)</td>\n",
              "      <td>(ROSES REGENCY TEACUP AND SAUCER )</td>\n",
              "      <td>0.111</td>\n",
              "      <td>0.914</td>\n",
              "      <td>5.583</td>\n",
              "    </tr>\n",
              "    <tr>\n",
              "      <th>6</th>\n",
              "      <td>(PINK REGENCY TEACUP AND SAUCER)</td>\n",
              "      <td>(ROSES REGENCY TEACUP AND SAUCER , GREEN REGEN...</td>\n",
              "      <td>0.084</td>\n",
              "      <td>0.889</td>\n",
              "      <td>7.972</td>\n",
              "    </tr>\n",
              "    <tr>\n",
              "      <th>7</th>\n",
              "      <td>(REGENCY CAKESTAND 3 TIER, ROSES REGENCY TEACU...</td>\n",
              "      <td>(GREEN REGENCY TEACUP AND SAUCER)</td>\n",
              "      <td>0.087</td>\n",
              "      <td>0.781</td>\n",
              "      <td>6.406</td>\n",
              "    </tr>\n",
              "    <tr>\n",
              "      <th>9</th>\n",
              "      <td>(ROSES REGENCY TEACUP AND SAUCER , GREEN REGEN...</td>\n",
              "      <td>(REGENCY CAKESTAND 3 TIER)</td>\n",
              "      <td>0.087</td>\n",
              "      <td>0.781</td>\n",
              "      <td>3.203</td>\n",
              "    </tr>\n",
              "    <tr>\n",
              "      <th>5</th>\n",
              "      <td>(ROSES REGENCY TEACUP AND SAUCER , GREEN REGEN...</td>\n",
              "      <td>(PINK REGENCY TEACUP AND SAUCER)</td>\n",
              "      <td>0.084</td>\n",
              "      <td>0.750</td>\n",
              "      <td>7.972</td>\n",
              "    </tr>\n",
              "  </tbody>\n",
              "</table>\n",
              "</div>"
            ],
            "text/plain": [
              "                                         antecedents  ...   lift\n",
              "8  (REGENCY CAKESTAND 3 TIER, GREEN REGENCY TEACU...  ...  6.106\n",
              "2                   (PINK REGENCY TEACUP AND SAUCER)  ...  5.880\n",
              "4  (PINK REGENCY TEACUP AND SAUCER, GREEN REGENCY...  ...  5.862\n",
              "0                   (PINK REGENCY TEACUP AND SAUCER)  ...  7.593\n",
              "3  (PINK REGENCY TEACUP AND SAUCER, ROSES REGENCY...  ...  7.569\n",
              "1                  (GREEN REGENCY TEACUP AND SAUCER)  ...  5.583\n",
              "6                   (PINK REGENCY TEACUP AND SAUCER)  ...  7.972\n",
              "7  (REGENCY CAKESTAND 3 TIER, ROSES REGENCY TEACU...  ...  6.406\n",
              "9  (ROSES REGENCY TEACUP AND SAUCER , GREEN REGEN...  ...  3.203\n",
              "5  (ROSES REGENCY TEACUP AND SAUCER , GREEN REGEN...  ...  7.972\n",
              "\n",
              "[10 rows x 5 columns]"
            ]
          },
          "metadata": {
            "tags": []
          },
          "execution_count": 60
        }
      ]
    },
    {
      "cell_type": "markdown",
      "metadata": {
        "id": "5W-qH2hJ7JlD"
      },
      "source": [
        "从爱尔兰抽出的置信度靠前的规则，和全部数据中抽出的规则类似，可能是因为爱尔兰市场特点接近英国市场特点。重要规则主要是不同颜色的茶杯、蛋糕架的共同购买。"
      ],
      "id": "5W-qH2hJ7JlD"
    },
    {
      "cell_type": "code",
      "metadata": {
        "id": "08wBEEBo7JlD",
        "colab": {
          "base_uri": "https://localhost:8080/",
          "height": 280
        },
        "outputId": "3e778bd5-b698-4be3-a17a-9a790619621a"
      },
      "source": [
        "rule_count = []\n",
        "for i in np.arange(0.99,8,1):\n",
        "    rules = association_rules(freq_itemset,metric = 'lift',min_threshold = i)\n",
        "    rule_count.append(rules.shape[0])\n",
        "\n",
        "plt.plot(np.arange(0.99,8,1),rule_count)\n",
        "plt.xlabel(\"min_lift\");plt.ylabel(\"num_rules\")\n",
        "for i in range(len(np.arange(0.99,8,1))):\n",
        "    plt.text(np.arange(0.99,8,1)[i],rule_count[i],str(rule_count[i]))"
      ],
      "id": "08wBEEBo7JlD",
      "execution_count": 61,
      "outputs": [
        {
          "output_type": "display_data",
          "data": {
            "image/png": "[encoded data removed]",
            "text/plain": [
              "<Figure size 432x288 with 1 Axes>"
            ]
          },
          "metadata": {
            "tags": [],
            "needs_background": "light"
          }
        }
      ]
    },
    {
      "cell_type": "markdown",
      "metadata": {
        "id": "fdbl81Bb7JlE"
      },
      "source": [
        "而从提升度角度，爱尔兰数据的整体提升度比整体数据集低，大多在 8 以下。"
      ],
      "id": "fdbl81Bb7JlE"
    },
    {
      "cell_type": "code",
      "metadata": {
        "id": "FA5aappI7JlE",
        "colab": {
          "base_uri": "https://localhost:8080/",
          "height": 494
        },
        "outputId": "6e7e38af-b776-4386-9af4-f7b11e35d526"
      },
      "source": [
        "rules = association_rules(freq_itemset,metric = 'lift',min_threshold = 5.99)\n",
        "rules.iloc[:,[0,1,4,5,6]].sort_values(by=\"lift\",ascending=False).round(3)"
      ],
      "id": "FA5aappI7JlE",
      "execution_count": 62,
      "outputs": [
        {
          "output_type": "execute_result",
          "data": {
            "text/latex": "\\begin{tabular}{lllrrr}\n\\toprule\n{} &                                        antecedents &                                        consequents &  support &  confidence &   lift \\\\\n\\midrule\n3 &  (ROSES REGENCY TEACUP AND SAUCER , GREEN REGEN... &                   (PINK REGENCY TEACUP AND SAUCER) &    0.084 &       0.750 &  7.972 \\\\\n4 &                   (PINK REGENCY TEACUP AND SAUCER) &  (ROSES REGENCY TEACUP AND SAUCER , GREEN REGEN... &    0.084 &       0.889 &  7.972 \\\\\n0 &                   (PINK REGENCY TEACUP AND SAUCER) &                  (GREEN REGENCY TEACUP AND SAUCER) &    0.087 &       0.926 &  7.593 \\\\\n1 &                  (GREEN REGENCY TEACUP AND SAUCER) &                   (PINK REGENCY TEACUP AND SAUCER) &    0.087 &       0.714 &  7.593 \\\\\n2 &  (PINK REGENCY TEACUP AND SAUCER, ROSES REGENCY... &                  (GREEN REGENCY TEACUP AND SAUCER) &    0.084 &       0.923 &  7.569 \\\\\n5 &                  (GREEN REGENCY TEACUP AND SAUCER) &  (PINK REGENCY TEACUP AND SAUCER, ROSES REGENCY... &    0.084 &       0.686 &  7.569 \\\\\n6 &  (REGENCY CAKESTAND 3 TIER, ROSES REGENCY TEACU... &                  (GREEN REGENCY TEACUP AND SAUCER) &    0.087 &       0.781 &  6.406 \\\\\n9 &                  (GREEN REGENCY TEACUP AND SAUCER) &  (REGENCY CAKESTAND 3 TIER, ROSES REGENCY TEACU... &    0.087 &       0.714 &  6.406 \\\\\n8 &                 (ROSES REGENCY TEACUP AND SAUCER ) &  (REGENCY CAKESTAND 3 TIER, GREEN REGENCY TEACU... &    0.087 &       0.532 &  6.106 \\\\\n7 &  (REGENCY CAKESTAND 3 TIER, GREEN REGENCY TEACU... &                 (ROSES REGENCY TEACUP AND SAUCER ) &    0.087 &       1.000 &  6.106 \\\\\n\\bottomrule\n\\end{tabular}\n",
            "text/html": [
              "<div>\n",
              "<style scoped>\n",
              "    .dataframe tbody tr th:only-of-type {\n",
              "        vertical-align: middle;\n",
              "    }\n",
              "\n",
              "    .dataframe tbody tr th {\n",
              "        vertical-align: top;\n",
              "    }\n",
              "\n",
              "    .dataframe thead th {\n",
              "        text-align: right;\n",
              "    }\n",
              "</style>\n",
              "<table border=\"1\" class=\"dataframe\">\n",
              "  <thead>\n",
              "    <tr style=\"text-align: right;\">\n",
              "      <th></th>\n",
              "      <th>antecedents</th>\n",
              "      <th>consequents</th>\n",
              "      <th>support</th>\n",
              "      <th>confidence</th>\n",
              "      <th>lift</th>\n",
              "    </tr>\n",
              "  </thead>\n",
              "  <tbody>\n",
              "    <tr>\n",
              "      <th>3</th>\n",
              "      <td>(ROSES REGENCY TEACUP AND SAUCER , GREEN REGEN...</td>\n",
              "      <td>(PINK REGENCY TEACUP AND SAUCER)</td>\n",
              "      <td>0.084</td>\n",
              "      <td>0.750</td>\n",
              "      <td>7.972</td>\n",
              "    </tr>\n",
              "    <tr>\n",
              "      <th>4</th>\n",
              "      <td>(PINK REGENCY TEACUP AND SAUCER)</td>\n",
              "      <td>(ROSES REGENCY TEACUP AND SAUCER , GREEN REGEN...</td>\n",
              "      <td>0.084</td>\n",
              "      <td>0.889</td>\n",
              "      <td>7.972</td>\n",
              "    </tr>\n",
              "    <tr>\n",
              "      <th>0</th>\n",
              "      <td>(PINK REGENCY TEACUP AND SAUCER)</td>\n",
              "      <td>(GREEN REGENCY TEACUP AND SAUCER)</td>\n",
              "      <td>0.087</td>\n",
              "      <td>0.926</td>\n",
              "      <td>7.593</td>\n",
              "    </tr>\n",
              "    <tr>\n",
              "      <th>1</th>\n",
              "      <td>(GREEN REGENCY TEACUP AND SAUCER)</td>\n",
              "      <td>(PINK REGENCY TEACUP AND SAUCER)</td>\n",
              "      <td>0.087</td>\n",
              "      <td>0.714</td>\n",
              "      <td>7.593</td>\n",
              "    </tr>\n",
              "    <tr>\n",
              "      <th>2</th>\n",
              "      <td>(PINK REGENCY TEACUP AND SAUCER, ROSES REGENCY...</td>\n",
              "      <td>(GREEN REGENCY TEACUP AND SAUCER)</td>\n",
              "      <td>0.084</td>\n",
              "      <td>0.923</td>\n",
              "      <td>7.569</td>\n",
              "    </tr>\n",
              "    <tr>\n",
              "      <th>5</th>\n",
              "      <td>(GREEN REGENCY TEACUP AND SAUCER)</td>\n",
              "      <td>(PINK REGENCY TEACUP AND SAUCER, ROSES REGENCY...</td>\n",
              "      <td>0.084</td>\n",
              "      <td>0.686</td>\n",
              "      <td>7.569</td>\n",
              "    </tr>\n",
              "    <tr>\n",
              "      <th>6</th>\n",
              "      <td>(REGENCY CAKESTAND 3 TIER, ROSES REGENCY TEACU...</td>\n",
              "      <td>(GREEN REGENCY TEACUP AND SAUCER)</td>\n",
              "      <td>0.087</td>\n",
              "      <td>0.781</td>\n",
              "      <td>6.406</td>\n",
              "    </tr>\n",
              "    <tr>\n",
              "      <th>9</th>\n",
              "      <td>(GREEN REGENCY TEACUP AND SAUCER)</td>\n",
              "      <td>(REGENCY CAKESTAND 3 TIER, ROSES REGENCY TEACU...</td>\n",
              "      <td>0.087</td>\n",
              "      <td>0.714</td>\n",
              "      <td>6.406</td>\n",
              "    </tr>\n",
              "    <tr>\n",
              "      <th>8</th>\n",
              "      <td>(ROSES REGENCY TEACUP AND SAUCER )</td>\n",
              "      <td>(REGENCY CAKESTAND 3 TIER, GREEN REGENCY TEACU...</td>\n",
              "      <td>0.087</td>\n",
              "      <td>0.532</td>\n",
              "      <td>6.106</td>\n",
              "    </tr>\n",
              "    <tr>\n",
              "      <th>7</th>\n",
              "      <td>(REGENCY CAKESTAND 3 TIER, GREEN REGENCY TEACU...</td>\n",
              "      <td>(ROSES REGENCY TEACUP AND SAUCER )</td>\n",
              "      <td>0.087</td>\n",
              "      <td>1.000</td>\n",
              "      <td>6.106</td>\n",
              "    </tr>\n",
              "  </tbody>\n",
              "</table>\n",
              "</div>"
            ],
            "text/plain": [
              "                                         antecedents  ...   lift\n",
              "3  (ROSES REGENCY TEACUP AND SAUCER , GREEN REGEN...  ...  7.972\n",
              "4                   (PINK REGENCY TEACUP AND SAUCER)  ...  7.972\n",
              "0                   (PINK REGENCY TEACUP AND SAUCER)  ...  7.593\n",
              "1                  (GREEN REGENCY TEACUP AND SAUCER)  ...  7.593\n",
              "2  (PINK REGENCY TEACUP AND SAUCER, ROSES REGENCY...  ...  7.569\n",
              "5                  (GREEN REGENCY TEACUP AND SAUCER)  ...  7.569\n",
              "6  (REGENCY CAKESTAND 3 TIER, ROSES REGENCY TEACU...  ...  6.406\n",
              "9                  (GREEN REGENCY TEACUP AND SAUCER)  ...  6.406\n",
              "8                 (ROSES REGENCY TEACUP AND SAUCER )  ...  6.106\n",
              "7  (REGENCY CAKESTAND 3 TIER, GREEN REGENCY TEACU...  ...  6.106\n",
              "\n",
              "[10 rows x 5 columns]"
            ]
          },
          "metadata": {
            "tags": []
          },
          "execution_count": 62
        }
      ]
    },
    {
      "cell_type": "markdown",
      "metadata": {
        "id": "Wgz-Sq487JlE"
      },
      "source": [
        "使用提升度筛选得到的关联规则与使用置信度得到的关联规则，排名略有变化，但提取出的结论相对而言相差无几。"
      ],
      "id": "Wgz-Sq487JlE"
    },
    {
      "cell_type": "markdown",
      "metadata": {
        "id": "Hy0r_UXYIEvn"
      },
      "source": [
        "## 关联规则对比\n",
        "\n",
        "共性：\n",
        "1. 就本数据集而言，3 个及以上项集形成的关联规则在提升度、置信度上比较接近，所以会出现靠前排名中的规则引出同类结论的情况。\n",
        "2. 对于一些家居用品，顾客会倾向于购买同一商品的不同款式、颜色。\n",
        "\n",
        "差异性：\n",
        "1. 置信度、提升度水平方面，法国子数据集挖掘出的关联规则表现较好；德国的置信度、提升度整体偏低，且出现了提升度断层的情况，说明该电商的德国市场用户中的潜在行为规律较难获取，也有可能是出现了数据缺失的情况。\n",
        "2. 德国市场顾客购买商品需要邮资的现象较多，法国则次之，这可能与该电商平台的物流选择有关，在不同国家可能有不同的物流成本；或许与不同国家用户的购买习惯有关，德国市场顾客可能更愿意支付邮资费用。\n",
        "3. 爱尔兰市场的规则规律与整体数据集比较接近，又已知整体数据集的规律大体上是由占主导市场的英国确定的，所以可以得出爱尔兰顾客的购买习惯可能和英国顾客类似，二者在地理位置上也比较接近，商品类型大概率也是接近的。"
      ],
      "id": "Hy0r_UXYIEvn"
    },
    {
      "cell_type": "markdown",
      "metadata": {
        "id": "vNE4MCZ8KrMX"
      },
      "source": [
        "# 实验总结\n",
        "\n",
        "1. 完成了各项实验要求，通过实验进一步回顾了关联规则挖掘的常见算法和原理，并用实际数据进行了规则挖掘，掌握了评价频繁项集和规则的各项指标。\n",
        "2. `mlxtend` 包自带`apriori`算法计算和规则挖掘方法，可以自行调整参数，给实验提供了便利。理解了事务数据的处理和转化，以及挖掘方法。把控好项集和规则的评价指标非常重要，通过调参，理解了设置支持度、置信度、提升度对结果数量分布的控制，也间接理解了控制参数对计算复杂度的影响。\n",
        "3. 利用关联规则挖掘结果可以进行推荐、营销策略调整等，更具有现实意义。\n",
        "\n",
        "实验不足：\n",
        "\n",
        "1. 仅仅是调用程序包和调参，没有去体会比较关键的算法内部优化，即剪枝、优化存储、加速计算方法等。\n",
        "2. 关联规则挖掘是无监督的，评价参数自行指定，可能存在参数选取不当导致结论不佳的情况，也有可能因为参数的限制，忽略了哪些稀有但重要的案例。"
      ],
      "id": "vNE4MCZ8KrMX"
    }
  ]
}